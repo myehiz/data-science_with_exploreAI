{
 "cells": [
  {
   "cell_type": "markdown",
   "id": "a0dc4e55-2781-4a57-b56a-3dcef2a9c052",
   "metadata": {},
   "source": [
    "#Question 1\n",
    "Basic arithmetic"
   ]
  },
  {
   "cell_type": "code",
   "execution_count": 1,
   "id": "4a6f5e4f-7650-400a-9bb6-eb7d23d0a25d",
   "metadata": {},
   "outputs": [
    {
     "data": {
      "text/plain": [
       "28"
      ]
     },
     "execution_count": 1,
     "metadata": {},
     "output_type": "execute_result"
    }
   ],
   "source": [
    "5*5+3"
   ]
  }
 ],
 "metadata": {
  "kernelspec": {
   "display_name": "Python 3 (ipykernel)",
   "language": "python",
   "name": "python3"
  },
  "language_info": {
   "codemirror_mode": {
    "name": "ipython",
    "version": 3
   },
   "file_extension": ".py",
   "mimetype": "text/x-python",
   "name": "python",
   "nbconvert_exporter": "python",
   "pygments_lexer": "ipython3",
   "version": "3.11.7"
  }
 },
 "nbformat": 4,
 "nbformat_minor": 5
}
