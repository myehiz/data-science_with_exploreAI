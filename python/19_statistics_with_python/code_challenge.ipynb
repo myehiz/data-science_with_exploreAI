import numpy as np
from scipy import stats

student_scores = np.array([55, 62, 67, 58, 63, 59, 61, 68, 60, 64])
mu = 60
x_bar = np.mean(student_scores)
s = np.std(student_scores, ddof=1)
n = len(student_scores)
alpha = 0.05
t_stat = (x_bar - mu) / (s / np.sqrt(n))
p_value = stats.t.cdf(t_stat, df=n-1) if t_stat < 0 else (1 - stats.t.cdf(t_stat, df=n-1))
p_value*=2

print("T statistic:", t_stat)
print("P-value:", p_value)


Foodland shoppers have a mean grocery bill of R370 with a standard deviation of R100. What is the probability that a sample of 40 Foodland shoppers will have a mean grocery bill of over R400?

n = 40
sd = 100
population_mean = 370
sample_mean = 400

z_test = (sample_mean - population_mean) / (sd / (n ** 0.5))

p_value = 1 - stats.norm.cdf(z_test)

print("z_test: ", z_test)
print("p_value: ", p_value)


