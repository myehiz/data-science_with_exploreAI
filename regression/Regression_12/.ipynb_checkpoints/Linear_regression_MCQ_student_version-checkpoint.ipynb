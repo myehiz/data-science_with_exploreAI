{
 "cells": [
  {
   "cell_type": "markdown",
   "metadata": {},
   "source": [
    "<div align=\"center\" style=\" font-size: 80%; text-align: center; margin: 0 auto\">\n",
    "<img src=\"https://raw.githubusercontent.com/Explore-AI/Pictures/master/Python-Notebook-Banners/Code_challenge.png\"  style=\"display: block; margin-left: auto; margin-right: auto;\";/>\n",
    "</div>"
   ]
  },
  {
   "cell_type": "markdown",
   "metadata": {},
   "source": [
    "\n",
    "## Regression MCQ\n",
    "© ExploreAI Academy"
   ]
  },
  {
   "cell_type": "markdown",
   "metadata": {},
   "source": [
    "In this MCQ, we will engage in a comprehensive multiple-choice exercise, applying regression concepts and techniques to agricultural yield prediction. Through a series of challenges, we'll analyse variable relationships, feature engineering, model construction, and evaluation, enhancing our understanding and proficiency in regression analysis."
   ]
  },
  {
   "cell_type": "markdown",
   "metadata": {},
   "source": [
    "# Learning objectives\n",
    "By the end of this notebook, you should be able to:\n",
    "\n",
    "* Analyse predictor variables and their relationship with the target variable.\n",
    "* Perform feature engineering tasks, including encoding categorical variables and scaling features.\n",
    "* Construct and evaluate multiple linear regression models using appropriate libraries.\n",
    "* Identify and address multicollinearity issues using regularisation techniques such as LASSO and Ridge regression.\n",
    "* Interpret regression coefficients and understand their impact on the target variable.\n",
    "* Implement decision tree models for prediction tasks, exploring both categorical and numerical data\n",
    "* Calculate and interpret MSE and RMSE for model evaluation."
   ]
  },
  {
   "cell_type": "markdown",
   "metadata": {},
   "source": [
    "\n",
    "# The data\n",
    "Join us on an intriguing exploration of a vast agricultural dataset. Uncover the intricate connections between geographic, weather, soil, and farm management features, all leading to a prediction of yield. Our mission? To decode these relationships and empower farmers with actionable insights for improved productivity and informed decision-making."
   ]
  },
  {
   "cell_type": "markdown",
   "metadata": {},
   "source": [
    "## Data dictionary\n",
    "\n",
    "**1. Geographic features**\n",
    "\n",
    "- **Field_ID:** A unique identifier for each field (BigInt).\n",
    " \n",
    "- **Elevation:** The elevation of the field above sea level in metres (Float).\n",
    "\n",
    "- **Latitude:** Geographical latitude of the field in degrees (Float). (DUMMY VARIABLE- the simulation might have created a relationship)\n",
    "\n",
    "- **Longitude:** Geographical longitude of the field in degrees (Float). (DUMMY VARIABLE- the simulation might have created a relationship)\n",
    "\n",
    "- **Location:** Province the field is in (Text).\n",
    "\n",
    "- **Slope:** The slope of the land in the field (Float).\n",
    "\n",
    "**2. Weather features**\n",
    "\n",
    "- **Rainfall:** Amount of rainfall in the area in mm (Float).\n",
    "\n",
    "- **Min_temperature_C:** Average minimum temperature recorded in Celsius (Float).(DUMMY VARIABLE)\n",
    "\n",
    "- **Max_temperature_C:** Average maximum temperature recorded in Celsius (Float).(DUMMY VARIABLE)\n",
    "\n",
    "- **Ave_temps:** Average temperature in Celcius (Float).\n",
    "\n",
    "**3. Soil and crop features**\n",
    "\n",
    "- **Soil_fertility:** A measure of soil fertility where 0 is infertile soil, and 1 is very fertile soil (Float).\n",
    "\n",
    "- **Soil_type:** Type of soil present in the field (Text).\n",
    "\n",
    "- **pH:** pH level of the soil, which is a measure of how acidic/basic the soil is (Float).\n",
    "\n",
    "**4. Farm management features**\n",
    "\n",
    "- **Field_ID:** Corresponding field identifier (BigInt).\n",
    "\n",
    "- **Pollution_level:** Level of pollution in the area where 0 is unpolluted and 1 is very polluted (Float).\n",
    "\n",
    "- **Plot_size:** Size of the plot in the field (Ha) (Float). (DUMMY VARIABLE)\n",
    "\n",
    "- **Chosen_crop:** Type of crop chosen for cultivation (Text).\n",
    "\n",
    "- **Annual_yield:** Annual yield from the field (Float). This is the total output of the field. The field size and type of crop will affect the Annual Yield (DUMMY VARIABLE - Removed)\n",
    "\n",
    "<br>\n",
    "\n",
    "**5. Target variable**\n",
    "- **Standard_yield:** Standardised yield expected from the field, normalised per crop (Float). This is independent of field size, or crop type. Multiplying this number by the field size, and average crop yield will give the Annual_Yield.\n",
    "\n",
    "---"
   ]
  },
  {
   "cell_type": "markdown",
   "metadata": {},
   "source": [
    "Let's import our database again, like we did last time. We won't use the weather data so it is commented out.\n",
    "\n",
    "**Important:** Ensure that `data_ingestion.py` file and the `field_data_processor.py` files are stored in the same folder as your notebook, otherwise the data import will fail.\n",
    " \n",
    "[Download files here](https://github.com/Explore-AI/Public-Data/raw/master/Maji_Ndogo/modules.zip)\n"
   ]
  },
  {
   "cell_type": "code",
   "execution_count": 50,
   "metadata": {},
   "outputs": [],
   "source": [
    "import statsmodels.formula.api as smf\n",
    "import matplotlib.pyplot as plt\n",
    "import statsmodels.graphics.correlation as sgc\n",
    "from statsmodels.graphics.gofplots import qqplot\n",
    "import statsmodels.stats.api as sms\n",
    "from statsmodels.stats.outliers_influence import OLSInfluence\n",
    "import seaborn as sns\n",
    "import statsmodels.api as s"
   ]
  },
  {
   "cell_type": "code",
   "execution_count": 2,
   "metadata": {},
   "outputs": [
    {
     "name": "stderr",
     "output_type": "stream",
     "text": [
      "2024-04-06 12:44:41,113 - data_ingestion - INFO - Database engine created successfully.\n",
      "2024-04-06 12:44:41,380 - data_ingestion - INFO - Query executed successfully.\n",
      "2024-04-06 12:44:41,380 - field_data_processor.FieldDataProcessor - INFO - Sucessfully loaded data.\n",
      "2024-04-06 12:44:41,448 - field_data_processor.FieldDataProcessor - INFO - Swapped columns: Annual_yield with Crop_type\n",
      "2024-04-06 12:44:42,754 - data_ingestion - INFO - CSV file read successfully from the web.\n"
     ]
    }
   ],
   "source": [
    "# Read the database, and clean the data using the processing modules we built.\n",
    "\n",
    "import re\n",
    "import numpy as np\n",
    "import pandas as pd\n",
    "from field_data_processor import FieldDataProcessor\n",
    "# from weather_data_processor import WeatherDataProcessor\n",
    "import logging \n",
    "\n",
    "logging.basicConfig(level=logging.INFO, format='%(asctime)s - %(name)s - %(levelname)s - %(message)s')\n",
    "\n",
    "config_params = {\n",
    "    \"sql_query\": \"\"\"\n",
    "            SELECT *\n",
    "            FROM geographic_features\n",
    "            LEFT JOIN weather_features USING (Field_ID)\n",
    "            LEFT JOIN soil_and_crop_features USING (Field_ID)\n",
    "            LEFT JOIN farm_management_features USING (Field_ID)\n",
    "            \"\"\",\n",
    "    \"db_path\": 'sqlite:///Maji_Ndogo_farm_survey_small.db',\n",
    "    \"columns_to_rename\": {'Annual_yield': 'Crop_type', 'Crop_type': 'Annual_yield'},\n",
    "    \"values_to_rename\": {'cassaval': 'cassava', 'wheatn': 'wheat', 'teaa': 'tea'},\n",
    "    \"weather_csv_path\": \"https://raw.githubusercontent.com/Explore-AI/Public-Data/master/Maji_Ndogo/Weather_station_data.csv\",\n",
    "    \"weather_mapping_csv\": \"https://raw.githubusercontent.com/Explore-AI/Public-Data/master/Maji_Ndogo/Weather_data_field_mapping.csv\",\n",
    "    \"regex_patterns\" : {\n",
    "            'Rainfall': r'(\\d+(\\.\\d+)?)\\s?mm',\n",
    "            'Temperature': r'(\\d+(\\.\\d+)?)\\s?C',\n",
    "            'Pollution_level': r'=\\s*(-?\\d+(\\.\\d+)?)|Pollution at \\s*(-?\\d+(\\.\\d+)?)'\n",
    "            },\n",
    "}\n",
    "# Ignoring the field data for now.\n",
    "field_processor = FieldDataProcessor(config_params)\n",
    "field_processor.process()\n",
    "field_df = field_processor.df\n",
    "\n",
    "# We're not going to use the weather data this time, so we'll ignore it.\n",
    "# weather_processor = WeatherDataProcessor(config_params)\n",
    "# weather_processor.process()\n",
    "# weather_df = weather_processor.weather_df\n",
    "\n",
    "dataset = field_df.drop(\"Weather_station\", axis=1)"
   ]
  },
  {
   "cell_type": "markdown",
   "metadata": {},
   "source": [
    "Before diving into our analysis, it's crucial to ensure the integrity of our dataset and that the data is still as we expect it to be."
   ]
  },
  {
   "cell_type": "code",
   "execution_count": 3,
   "metadata": {},
   "outputs": [
    {
     "name": "stdout",
     "output_type": "stream",
     "text": [
      "\u001b[1m============================= test session starts =============================\u001b[0m\n",
      "platform win32 -- Python 3.11.5, pytest-7.4.0, pluggy-1.0.0 -- D:\\Users\\EHIZ\\anaconda3\\python.exe\n",
      "cachedir: .pytest_cache\n",
      "rootdir: C:\\Users\\EHIZ\\Desktop\\Notebooks\\Regression_12\n",
      "plugins: anyio-3.5.0\n",
      "\u001b[1mcollecting ... \u001b[0mcollected 4 items\n",
      "\n",
      "validate_data.py::test_read_field_dataframe_shape \u001b[32mPASSED\u001b[0m\u001b[32m                 [ 25%]\u001b[0m\n",
      "validate_data.py::test_field_dataframe_columns \u001b[32mPASSED\u001b[0m\u001b[32m                    [ 50%]\u001b[0m\n",
      "validate_data.py::test_field_dataframe_non_negative_elevation \u001b[32mPASSED\u001b[0m\u001b[32m     [ 75%]\u001b[0m\n",
      "validate_data.py::test_crop_types_are_valid \u001b[32mPASSED\u001b[0m\u001b[32m                       [100%]\u001b[0m\n",
      "\n",
      "\u001b[32m============================= \u001b[32m\u001b[1m4 passed\u001b[0m\u001b[32m in 11.27s\u001b[0m\u001b[32m ==============================\u001b[0m\n",
      "Deleted sampled_field_df.csv\n"
     ]
    }
   ],
   "source": [
    "# Validate the data\n",
    "#!pip install pytest\n",
    "\n",
    "dataset.to_csv('sampled_field_df.csv', index=False)\n",
    "\n",
    "!pytest validate_data.py -v\n",
    "\n",
    "import os# Define the file paths\n",
    "field_csv_path = 'sampled_field_df.csv'\n",
    "\n",
    "# Delete sampled_field_df.csv if it exists\n",
    "if os.path.exists(field_csv_path):\n",
    "    os.remove(field_csv_path)\n",
    "    print(f\"Deleted {field_csv_path}\")\n",
    "else:\n",
    "    print(f\"{field_csv_path} does not exist.\")"
   ]
  },
  {
   "cell_type": "markdown",
   "metadata": {},
   "source": [
    "## Challenge 1: Understanding our variables and variable selection\n",
    "In this section, we will analyse the predictor variables in our dataset and how they relate to the target variable."
   ]
  },
  {
   "cell_type": "markdown",
   "metadata": {},
   "source": [
    "### Question 1\n",
    "How many predictors do we originally have in our dataset, and which of these are categorical in nature?\n",
    "\n",
    "**Hint**: The `Field_ID` serves as a unique identifier for each field and does not provide any predictive value for modeling.\n",
    "\n",
    "#### Options\n",
    "* 16 predictors; Location, Soil_type, and Crop_type are categorical.\n",
    "* 18 predictors; Location, Soil_type, and Crop_type are categorical.\n",
    "* 17 predictors; Location, Soil_type, and Crop_type are categorical.\n",
    "* 16 predictors; Location, Soil_type, and Plot_size are categorical."
   ]
  },
  {
   "cell_type": "code",
   "execution_count": 12,
   "metadata": {},
   "outputs": [
    {
     "name": "stdout",
     "output_type": "stream",
     "text": [
      "<class 'pandas.core.frame.DataFrame'>\n",
      "RangeIndex: 5654 entries, 0 to 5653\n",
      "Data columns (total 18 columns):\n",
      " #   Column             Non-Null Count  Dtype  \n",
      "---  ------             --------------  -----  \n",
      " 0   Field_ID           5654 non-null   int64  \n",
      " 1   Elevation          5654 non-null   float64\n",
      " 2   Latitude           5654 non-null   float64\n",
      " 3   Longitude          5654 non-null   float64\n",
      " 4   Location           5654 non-null   object \n",
      " 5   Slope              5654 non-null   float64\n",
      " 6   Rainfall           5654 non-null   float64\n",
      " 7   Min_temperature_C  5654 non-null   float64\n",
      " 8   Max_temperature_C  5654 non-null   float64\n",
      " 9   Ave_temps          5654 non-null   float64\n",
      " 10  Soil_fertility     5654 non-null   float64\n",
      " 11  Soil_type          5654 non-null   object \n",
      " 12  pH                 5654 non-null   float64\n",
      " 13  Pollution_level    5654 non-null   float64\n",
      " 14  Plot_size          5654 non-null   float64\n",
      " 15  Annual_yield       5654 non-null   float64\n",
      " 16  Crop_type          5654 non-null   object \n",
      " 17  Standard_yield     5654 non-null   float64\n",
      "dtypes: float64(14), int64(1), object(3)\n",
      "memory usage: 795.2+ KB\n"
     ]
    }
   ],
   "source": [
    "# dataset.head()\n",
    "dataset.info()"
   ]
  },
  {
   "cell_type": "code",
   "execution_count": 17,
   "metadata": {},
   "outputs": [
    {
     "name": "stdout",
     "output_type": "stream",
     "text": [
      "16 ['Location', 'Soil_type', 'Crop_type']\n"
     ]
    }
   ],
   "source": [
    "# Your code here\n",
    "\n",
    "# Drop field Id column\n",
    "predictors = dataset.drop(\"Field_ID\", axis=1)\n",
    "\n",
    "# Drop standard yield column\n",
    "predictors = predictors.drop(\"Standard_yield\", axis=1)\n",
    "\n",
    "catergory_data = list(dataset.select_dtypes('object').columns)\n",
    "print(len(predictors.columns), catergory_data)"
   ]
  },
  {
   "cell_type": "markdown",
   "metadata": {},
   "source": [
    "### Question 2\n",
    "The categorical features in our dataset need to be converted into a format suitable for modeling. After applying dummy variable encoding to these categorical features, how many independent variables do we now have?\n",
    "\n",
    "**Note**: Set the `drop_first` parameter to True.\n",
    "\n",
    "**Hint**: Remember to exclude `Field_ID` \n",
    "\n",
    "#### Options\n",
    "* 31\n",
    "* 29\n",
    "* 17\n",
    "* 16"
   ]
  },
  {
   "cell_type": "code",
   "execution_count": 30,
   "metadata": {},
   "outputs": [
    {
     "name": "stdout",
     "output_type": "stream",
     "text": [
      "29\n"
     ]
    }
   ],
   "source": [
    "# Your code here\n",
    "# Drop Field_ID from predictors\n",
    "df = dataset.drop('Field_ID', axis=1)\n",
    "\n",
    "# encode the categoricalfeatures\n",
    "dummy_df =pd.get_dummies(df, drop_first = True)\n",
    "\n",
    "# get the number of independent variables\n",
    "number_of_idependent_variables = len(dummy_df.drop(columns=['Standard_yield']).columns)\n",
    "\n",
    "print(number_of_idependent_variables)\n",
    "\n",
    "encoded_dataset = dummy_df\n",
    "\n"
   ]
  },
  {
   "cell_type": "code",
   "execution_count": 29,
   "metadata": {},
   "outputs": [
    {
     "data": {
      "text/html": [
       "<div>\n",
       "<style scoped>\n",
       "    .dataframe tbody tr th:only-of-type {\n",
       "        vertical-align: middle;\n",
       "    }\n",
       "\n",
       "    .dataframe tbody tr th {\n",
       "        vertical-align: top;\n",
       "    }\n",
       "\n",
       "    .dataframe thead th {\n",
       "        text-align: right;\n",
       "    }\n",
       "</style>\n",
       "<table border=\"1\" class=\"dataframe\">\n",
       "  <thead>\n",
       "    <tr style=\"text-align: right;\">\n",
       "      <th></th>\n",
       "      <th>Elevation</th>\n",
       "      <th>Latitude</th>\n",
       "      <th>Longitude</th>\n",
       "      <th>Slope</th>\n",
       "      <th>Rainfall</th>\n",
       "      <th>Min_temperature_C</th>\n",
       "      <th>Max_temperature_C</th>\n",
       "      <th>Ave_temps</th>\n",
       "      <th>Soil_fertility</th>\n",
       "      <th>pH</th>\n",
       "      <th>...</th>\n",
       "      <th>Soil_type_Sandy</th>\n",
       "      <th>Soil_type_Silt</th>\n",
       "      <th>Soil_type_Volcanic</th>\n",
       "      <th>Crop_type_cassava</th>\n",
       "      <th>Crop_type_coffee</th>\n",
       "      <th>Crop_type_maize</th>\n",
       "      <th>Crop_type_potato</th>\n",
       "      <th>Crop_type_rice</th>\n",
       "      <th>Crop_type_tea</th>\n",
       "      <th>Crop_type_wheat</th>\n",
       "    </tr>\n",
       "  </thead>\n",
       "  <tbody>\n",
       "    <tr>\n",
       "      <th>0</th>\n",
       "      <td>786.05580</td>\n",
       "      <td>-7.389911</td>\n",
       "      <td>-7.556202</td>\n",
       "      <td>14.795113</td>\n",
       "      <td>1125.2</td>\n",
       "      <td>-3.1</td>\n",
       "      <td>33.1</td>\n",
       "      <td>15.00</td>\n",
       "      <td>0.62</td>\n",
       "      <td>6.169393</td>\n",
       "      <td>...</td>\n",
       "      <td>True</td>\n",
       "      <td>False</td>\n",
       "      <td>False</td>\n",
       "      <td>True</td>\n",
       "      <td>False</td>\n",
       "      <td>False</td>\n",
       "      <td>False</td>\n",
       "      <td>False</td>\n",
       "      <td>False</td>\n",
       "      <td>False</td>\n",
       "    </tr>\n",
       "    <tr>\n",
       "      <th>1</th>\n",
       "      <td>674.33410</td>\n",
       "      <td>-7.736849</td>\n",
       "      <td>-1.051539</td>\n",
       "      <td>11.374611</td>\n",
       "      <td>1450.7</td>\n",
       "      <td>-3.9</td>\n",
       "      <td>30.6</td>\n",
       "      <td>13.35</td>\n",
       "      <td>0.64</td>\n",
       "      <td>5.676648</td>\n",
       "      <td>...</td>\n",
       "      <td>False</td>\n",
       "      <td>False</td>\n",
       "      <td>True</td>\n",
       "      <td>True</td>\n",
       "      <td>False</td>\n",
       "      <td>False</td>\n",
       "      <td>False</td>\n",
       "      <td>False</td>\n",
       "      <td>False</td>\n",
       "      <td>False</td>\n",
       "    </tr>\n",
       "    <tr>\n",
       "      <th>2</th>\n",
       "      <td>826.53390</td>\n",
       "      <td>-9.926616</td>\n",
       "      <td>0.115156</td>\n",
       "      <td>11.339692</td>\n",
       "      <td>2208.9</td>\n",
       "      <td>-1.8</td>\n",
       "      <td>28.4</td>\n",
       "      <td>13.30</td>\n",
       "      <td>0.69</td>\n",
       "      <td>5.331993</td>\n",
       "      <td>...</td>\n",
       "      <td>False</td>\n",
       "      <td>False</td>\n",
       "      <td>True</td>\n",
       "      <td>False</td>\n",
       "      <td>False</td>\n",
       "      <td>False</td>\n",
       "      <td>False</td>\n",
       "      <td>False</td>\n",
       "      <td>True</td>\n",
       "      <td>False</td>\n",
       "    </tr>\n",
       "    <tr>\n",
       "      <th>3</th>\n",
       "      <td>574.94617</td>\n",
       "      <td>-2.420131</td>\n",
       "      <td>-6.592215</td>\n",
       "      <td>7.109855</td>\n",
       "      <td>328.8</td>\n",
       "      <td>-5.8</td>\n",
       "      <td>32.2</td>\n",
       "      <td>13.20</td>\n",
       "      <td>0.54</td>\n",
       "      <td>5.328150</td>\n",
       "      <td>...</td>\n",
       "      <td>False</td>\n",
       "      <td>False</td>\n",
       "      <td>False</td>\n",
       "      <td>True</td>\n",
       "      <td>False</td>\n",
       "      <td>False</td>\n",
       "      <td>False</td>\n",
       "      <td>False</td>\n",
       "      <td>False</td>\n",
       "      <td>False</td>\n",
       "    </tr>\n",
       "    <tr>\n",
       "      <th>4</th>\n",
       "      <td>886.35300</td>\n",
       "      <td>-3.055434</td>\n",
       "      <td>-7.952609</td>\n",
       "      <td>55.007656</td>\n",
       "      <td>785.2</td>\n",
       "      <td>-2.5</td>\n",
       "      <td>31.0</td>\n",
       "      <td>14.25</td>\n",
       "      <td>0.72</td>\n",
       "      <td>5.721234</td>\n",
       "      <td>...</td>\n",
       "      <td>True</td>\n",
       "      <td>False</td>\n",
       "      <td>False</td>\n",
       "      <td>False</td>\n",
       "      <td>False</td>\n",
       "      <td>False</td>\n",
       "      <td>False</td>\n",
       "      <td>False</td>\n",
       "      <td>False</td>\n",
       "      <td>True</td>\n",
       "    </tr>\n",
       "  </tbody>\n",
       "</table>\n",
       "<p>5 rows × 30 columns</p>\n",
       "</div>"
      ],
      "text/plain": [
       "   Elevation  Latitude  Longitude      Slope  Rainfall  Min_temperature_C  \\\n",
       "0  786.05580 -7.389911  -7.556202  14.795113    1125.2               -3.1   \n",
       "1  674.33410 -7.736849  -1.051539  11.374611    1450.7               -3.9   \n",
       "2  826.53390 -9.926616   0.115156  11.339692    2208.9               -1.8   \n",
       "3  574.94617 -2.420131  -6.592215   7.109855     328.8               -5.8   \n",
       "4  886.35300 -3.055434  -7.952609  55.007656     785.2               -2.5   \n",
       "\n",
       "   Max_temperature_C  Ave_temps  Soil_fertility        pH  ...  \\\n",
       "0               33.1      15.00            0.62  6.169393  ...   \n",
       "1               30.6      13.35            0.64  5.676648  ...   \n",
       "2               28.4      13.30            0.69  5.331993  ...   \n",
       "3               32.2      13.20            0.54  5.328150  ...   \n",
       "4               31.0      14.25            0.72  5.721234  ...   \n",
       "\n",
       "   Soil_type_Sandy  Soil_type_Silt  Soil_type_Volcanic  Crop_type_cassava  \\\n",
       "0             True           False               False               True   \n",
       "1            False           False                True               True   \n",
       "2            False           False                True              False   \n",
       "3            False           False               False               True   \n",
       "4             True           False               False              False   \n",
       "\n",
       "   Crop_type_coffee  Crop_type_maize  Crop_type_potato  Crop_type_rice  \\\n",
       "0             False            False             False           False   \n",
       "1             False            False             False           False   \n",
       "2             False            False             False           False   \n",
       "3             False            False             False           False   \n",
       "4             False            False             False           False   \n",
       "\n",
       "   Crop_type_tea  Crop_type_wheat  \n",
       "0          False            False  \n",
       "1          False            False  \n",
       "2           True            False  \n",
       "3          False            False  \n",
       "4          False             True  \n",
       "\n",
       "[5 rows x 30 columns]"
      ]
     },
     "execution_count": 29,
     "metadata": {},
     "output_type": "execute_result"
    }
   ],
   "source": [
    "encoded_dataset.head()"
   ]
  },
  {
   "cell_type": "markdown",
   "metadata": {},
   "source": [
    "### Question 3\n",
    "\n",
    "From our encoded dataset, which variable has the third highest absolute correlation with the `Standard_yield`, excluding the variable itself?\n",
    "\n",
    "#### Options\n",
    "* Pollution_level\n",
    "* Crop_type_tea\n",
    "* Annual_yield \n",
    "* Longitude "
   ]
  },
  {
   "cell_type": "code",
   "execution_count": 37,
   "metadata": {},
   "outputs": [
    {
     "data": {
      "text/plain": [
       "Standard_yield             1.000000\n",
       "Crop_type_tea              0.432879\n",
       "Soil_type_Volcanic         0.309982\n",
       "Pollution_level            0.285761\n",
       "Crop_type_coffee           0.222217\n",
       "Annual_yield               0.220812\n",
       "Location_Rural_Sokoto      0.212337\n",
       "Soil_type_Silt             0.205861\n",
       "pH                         0.196613\n",
       "Crop_type_cassava          0.186716\n",
       "Crop_type_potato           0.175484\n",
       "Soil_type_Sandy            0.164714\n",
       "Min_temperature_C          0.144233\n",
       "Soil_type_Peaty            0.135509\n",
       "Elevation                  0.129248\n",
       "Max_temperature_C          0.111649\n",
       "Location_Rural_Hawassa     0.110623\n",
       "Crop_type_rice             0.104056\n",
       "Crop_type_wheat            0.092420\n",
       "Longitude                  0.085343\n",
       "Soil_type_Rocky            0.078355\n",
       "Soil_fertility             0.070205\n",
       "Latitude                   0.061724\n",
       "Slope                      0.056991\n",
       "Rainfall                   0.039217\n",
       "Location_Rural_Amanzi      0.032049\n",
       "Plot_size                  0.017014\n",
       "Location_Rural_Kilimani    0.014778\n",
       "Crop_type_maize            0.008100\n",
       "Ave_temps                  0.006786\n",
       "Name: Standard_yield, dtype: float64"
      ]
     },
     "execution_count": 37,
     "metadata": {},
     "output_type": "execute_result"
    }
   ],
   "source": [
    "# Your code here\n",
    "correlation_matrix = encoded_dataset.corr()\n",
    "correlations = correlation_matrix['Standard_yield'].drop(columns=['Standard_yield'])\n",
    "\n",
    "# correlations.head()\n",
    "sorted_correlations = correlations.abs().sort_values(ascending=False)\n",
    "\n",
    "sorted_correlations"
   ]
  },
  {
   "cell_type": "markdown",
   "metadata": {},
   "source": [
    "### Question 4\n",
    "\n",
    "In order to fit an ordinary least squares regression model to our encoded data we would need to make sure that all our variables are numeric. Through dummy variable encoding, we converted our categorical variables to multiple int/boolean variables (depending on the environment you are working on). The `sm.OLS()` method itself does not inherently handle boolean data types implicitly.\n",
    "\n",
    "In most cases, when fitting a model with sm.OLS(), it's essential to ensure that all features are numeric. If boolean columns are present, they should be explicitly converted to numeric types before fitting the model.\n",
    "\n",
    "Suppose our columns converted to boolean datatypes, which of the following statements is true after converting the boolean columns in the dataset to integer datatype?\n",
    "\n",
    "* The boolean columns have been replaced with binary integer representations, with True converted to 1 and False converted to 0.\n",
    "* The boolean columns have been removed from the dataset.\n",
    "* The boolean columns have been replaced with binary integer representations, with True converted to 0 and False converted to 1.\n",
    "* The boolean columns have been converted to a unique string datatype that is also an integer."
   ]
  },
  {
   "cell_type": "code",
   "execution_count": 44,
   "metadata": {},
   "outputs": [
    {
     "data": {
      "text/html": [
       "<div>\n",
       "<style scoped>\n",
       "    .dataframe tbody tr th:only-of-type {\n",
       "        vertical-align: middle;\n",
       "    }\n",
       "\n",
       "    .dataframe tbody tr th {\n",
       "        vertical-align: top;\n",
       "    }\n",
       "\n",
       "    .dataframe thead th {\n",
       "        text-align: right;\n",
       "    }\n",
       "</style>\n",
       "<table border=\"1\" class=\"dataframe\">\n",
       "  <thead>\n",
       "    <tr style=\"text-align: right;\">\n",
       "      <th></th>\n",
       "      <th>Elevation</th>\n",
       "      <th>Latitude</th>\n",
       "      <th>Longitude</th>\n",
       "      <th>Slope</th>\n",
       "      <th>Rainfall</th>\n",
       "      <th>Min_temperature_C</th>\n",
       "      <th>Max_temperature_C</th>\n",
       "      <th>Ave_temps</th>\n",
       "      <th>Soil_fertility</th>\n",
       "      <th>pH</th>\n",
       "      <th>...</th>\n",
       "      <th>Soil_type_Sandy</th>\n",
       "      <th>Soil_type_Silt</th>\n",
       "      <th>Soil_type_Volcanic</th>\n",
       "      <th>Crop_type_cassava</th>\n",
       "      <th>Crop_type_coffee</th>\n",
       "      <th>Crop_type_maize</th>\n",
       "      <th>Crop_type_potato</th>\n",
       "      <th>Crop_type_rice</th>\n",
       "      <th>Crop_type_tea</th>\n",
       "      <th>Crop_type_wheat</th>\n",
       "    </tr>\n",
       "  </thead>\n",
       "  <tbody>\n",
       "    <tr>\n",
       "      <th>0</th>\n",
       "      <td>786.05580</td>\n",
       "      <td>-7.389911</td>\n",
       "      <td>-7.556202</td>\n",
       "      <td>14.795113</td>\n",
       "      <td>1125.2</td>\n",
       "      <td>-3.1</td>\n",
       "      <td>33.1</td>\n",
       "      <td>15.00</td>\n",
       "      <td>0.62</td>\n",
       "      <td>6.169393</td>\n",
       "      <td>...</td>\n",
       "      <td>1</td>\n",
       "      <td>0</td>\n",
       "      <td>0</td>\n",
       "      <td>1</td>\n",
       "      <td>0</td>\n",
       "      <td>0</td>\n",
       "      <td>0</td>\n",
       "      <td>0</td>\n",
       "      <td>0</td>\n",
       "      <td>0</td>\n",
       "    </tr>\n",
       "    <tr>\n",
       "      <th>1</th>\n",
       "      <td>674.33410</td>\n",
       "      <td>-7.736849</td>\n",
       "      <td>-1.051539</td>\n",
       "      <td>11.374611</td>\n",
       "      <td>1450.7</td>\n",
       "      <td>-3.9</td>\n",
       "      <td>30.6</td>\n",
       "      <td>13.35</td>\n",
       "      <td>0.64</td>\n",
       "      <td>5.676648</td>\n",
       "      <td>...</td>\n",
       "      <td>0</td>\n",
       "      <td>0</td>\n",
       "      <td>1</td>\n",
       "      <td>1</td>\n",
       "      <td>0</td>\n",
       "      <td>0</td>\n",
       "      <td>0</td>\n",
       "      <td>0</td>\n",
       "      <td>0</td>\n",
       "      <td>0</td>\n",
       "    </tr>\n",
       "    <tr>\n",
       "      <th>2</th>\n",
       "      <td>826.53390</td>\n",
       "      <td>-9.926616</td>\n",
       "      <td>0.115156</td>\n",
       "      <td>11.339692</td>\n",
       "      <td>2208.9</td>\n",
       "      <td>-1.8</td>\n",
       "      <td>28.4</td>\n",
       "      <td>13.30</td>\n",
       "      <td>0.69</td>\n",
       "      <td>5.331993</td>\n",
       "      <td>...</td>\n",
       "      <td>0</td>\n",
       "      <td>0</td>\n",
       "      <td>1</td>\n",
       "      <td>0</td>\n",
       "      <td>0</td>\n",
       "      <td>0</td>\n",
       "      <td>0</td>\n",
       "      <td>0</td>\n",
       "      <td>1</td>\n",
       "      <td>0</td>\n",
       "    </tr>\n",
       "    <tr>\n",
       "      <th>3</th>\n",
       "      <td>574.94617</td>\n",
       "      <td>-2.420131</td>\n",
       "      <td>-6.592215</td>\n",
       "      <td>7.109855</td>\n",
       "      <td>328.8</td>\n",
       "      <td>-5.8</td>\n",
       "      <td>32.2</td>\n",
       "      <td>13.20</td>\n",
       "      <td>0.54</td>\n",
       "      <td>5.328150</td>\n",
       "      <td>...</td>\n",
       "      <td>0</td>\n",
       "      <td>0</td>\n",
       "      <td>0</td>\n",
       "      <td>1</td>\n",
       "      <td>0</td>\n",
       "      <td>0</td>\n",
       "      <td>0</td>\n",
       "      <td>0</td>\n",
       "      <td>0</td>\n",
       "      <td>0</td>\n",
       "    </tr>\n",
       "    <tr>\n",
       "      <th>4</th>\n",
       "      <td>886.35300</td>\n",
       "      <td>-3.055434</td>\n",
       "      <td>-7.952609</td>\n",
       "      <td>55.007656</td>\n",
       "      <td>785.2</td>\n",
       "      <td>-2.5</td>\n",
       "      <td>31.0</td>\n",
       "      <td>14.25</td>\n",
       "      <td>0.72</td>\n",
       "      <td>5.721234</td>\n",
       "      <td>...</td>\n",
       "      <td>1</td>\n",
       "      <td>0</td>\n",
       "      <td>0</td>\n",
       "      <td>0</td>\n",
       "      <td>0</td>\n",
       "      <td>0</td>\n",
       "      <td>0</td>\n",
       "      <td>0</td>\n",
       "      <td>0</td>\n",
       "      <td>1</td>\n",
       "    </tr>\n",
       "  </tbody>\n",
       "</table>\n",
       "<p>5 rows × 30 columns</p>\n",
       "</div>"
      ],
      "text/plain": [
       "   Elevation  Latitude  Longitude      Slope  Rainfall  Min_temperature_C  \\\n",
       "0  786.05580 -7.389911  -7.556202  14.795113    1125.2               -3.1   \n",
       "1  674.33410 -7.736849  -1.051539  11.374611    1450.7               -3.9   \n",
       "2  826.53390 -9.926616   0.115156  11.339692    2208.9               -1.8   \n",
       "3  574.94617 -2.420131  -6.592215   7.109855     328.8               -5.8   \n",
       "4  886.35300 -3.055434  -7.952609  55.007656     785.2               -2.5   \n",
       "\n",
       "   Max_temperature_C  Ave_temps  Soil_fertility        pH  ...  \\\n",
       "0               33.1      15.00            0.62  6.169393  ...   \n",
       "1               30.6      13.35            0.64  5.676648  ...   \n",
       "2               28.4      13.30            0.69  5.331993  ...   \n",
       "3               32.2      13.20            0.54  5.328150  ...   \n",
       "4               31.0      14.25            0.72  5.721234  ...   \n",
       "\n",
       "   Soil_type_Sandy  Soil_type_Silt  Soil_type_Volcanic  Crop_type_cassava  \\\n",
       "0                1               0                   0                  1   \n",
       "1                0               0                   1                  1   \n",
       "2                0               0                   1                  0   \n",
       "3                0               0                   0                  1   \n",
       "4                1               0                   0                  0   \n",
       "\n",
       "   Crop_type_coffee  Crop_type_maize  Crop_type_potato  Crop_type_rice  \\\n",
       "0                 0                0                 0               0   \n",
       "1                 0                0                 0               0   \n",
       "2                 0                0                 0               0   \n",
       "3                 0                0                 0               0   \n",
       "4                 0                0                 0               0   \n",
       "\n",
       "   Crop_type_tea  Crop_type_wheat  \n",
       "0              0                0  \n",
       "1              0                0  \n",
       "2              1                0  \n",
       "3              0                0  \n",
       "4              0                1  \n",
       "\n",
       "[5 rows x 30 columns]"
      ]
     },
     "execution_count": 44,
     "metadata": {},
     "output_type": "execute_result"
    }
   ],
   "source": [
    "# Your code here\n",
    "# encoded_dataset.head()\n",
    "# encoded_dataset.info()\n",
    "\n",
    "# Simple conversation ti integer at dummy_df level\n",
    "fast_encoded_dataset =pd.get_dummies(df, drop_first = True, dtype= \"int\")\n",
    "\n",
    "bool_columns = encoded_dataset.select_dtypes(include=[bool]).columns\n",
    "encoded_dataset[bool_columns] = encoded_dataset[bool_columns].astype(int)\n",
    "# fast_encoded_dataset.head()\n",
    "\n",
    "encoded_dataset.head()"
   ]
  },
  {
   "cell_type": "markdown",
   "metadata": {},
   "source": [
    "### Question 5\n",
    "Suppose we wish to determine which of the predictors in our dataset are statistically significant. We will follow the following steps:\n",
    "\n",
    "* Fit a statsmodels regression model to predict `Standard_yield` using our encoded dataset.\n",
    "* Extract p-values for each predictor from the fitted model to find the ones that are significant based on a given threshold.\n",
    "\n",
    "Which of the following variables do we find to be statistically significant for predicting `Standard_yield`, based on a p-value threshold of 0.05 `(p-value < 0.05)`?\n",
    "\n",
    "#### Options\n",
    "\n",
    "* Slope\n",
    "* Elevation\n",
    "* pH\n",
    "* Soil_fertility"
   ]
  },
  {
   "cell_type": "code",
   "execution_count": 61,
   "metadata": {},
   "outputs": [
    {
     "data": {
      "text/plain": [
       "Longitude                   3.686453e-02\n",
       "Location_Rural_Kilimani     1.875099e-03\n",
       "Latitude                    7.507619e-04\n",
       "const                       1.428115e-04\n",
       "Location_Rural_Sokoto       4.320614e-14\n",
       "Crop_type_cassava           1.131029e-22\n",
       "Crop_type_maize             1.016239e-31\n",
       "Soil_type_Volcanic          6.050057e-36\n",
       "pH                          7.425131e-47\n",
       "Crop_type_wheat             3.750143e-50\n",
       "Soil_type_Peaty             1.000074e-61\n",
       "Soil_type_Rocky             6.256187e-84\n",
       "Crop_type_rice             1.519311e-117\n",
       "Soil_type_Sandy            1.761947e-120\n",
       "Soil_type_Silt             9.623895e-136\n",
       "Crop_type_potato           5.443582e-141\n",
       "Crop_type_tea              7.595539e-197\n",
       "Pollution_level            5.588050e-247\n",
       "Annual_yield                0.000000e+00\n",
       "Plot_size                   0.000000e+00\n",
       "dtype: float64"
      ]
     },
     "execution_count": 61,
     "metadata": {},
     "output_type": "execute_result"
    }
   ],
   "source": [
    "# Your code here\n",
    "# Set target column\n",
    "target_feature = 'Standard_yield'\n",
    "\n",
    "# Define Y and Z\n",
    "y = encoded_dataset[target_feature]\n",
    "z = encoded_dataset.drop(target_feature, axis=1)\n",
    "\n",
    "# Define or calculate the constant\n",
    "X = s.add_constant(z)\n",
    "\n",
    "# print(X)\n",
    "\n",
    "# fit OLS model\n",
    "model = s.OLS(y, X)\n",
    "results = model.fit()\n",
    "\n",
    "p_values = results.pvalues\n",
    "p_values.sort_values(ascending=False)\n",
    "threshold = 0.05\n",
    "\n",
    "sig_p_value =p_values[p_values < threshold].sort_values(ascending=False)\n",
    "\n",
    "sig_p_value\n",
    "# sig_p_value.index\n"
   ]
  },
  {
   "cell_type": "markdown",
   "metadata": {},
   "source": [
    "## Challenge 2: Generating a multiple linear regression model\n",
    "\n",
    "After encoding our variables and performing preliminary analysis, let's continue our efforts to identify the variables that will enable us to construct the most accurate multiple linear regression model possible with the data that we have."
   ]
  },
  {
   "cell_type": "markdown",
   "metadata": {},
   "source": [
    "### Question 6\n",
    "Create a correlation matrix using all the columns in our encoded dataset and display it as a heatmap.<br>\n",
    "\n",
    "Which of the following independent variables have a strong correlation with one another.\n",
    "\n",
    "* Plot_size and Crop_type_tea\n",
    "* Pollution_level and Soil_type_Rocky\n",
    "* Crop_type_cassava and Soil_type_Sandy\n",
    "* Min_temperature_C and Elevation"
   ]
  },
  {
   "cell_type": "code",
   "execution_count": 75,
   "metadata": {},
   "outputs": [
    {
     "name": "stdout",
     "output_type": "stream",
     "text": [
      "Plot_size and Crop_type_tea: 9.986874953491435e-05\n",
      "Pollution_level and Soil_type_Rocky: 0.012915216253655555\n",
      "Crop_type_cassava and Soil_type_Sandy: -0.005827353678890523\n",
      "Min_temperature_C and Elevation: 0.9564181399438542\n"
     ]
    },
    {
     "data": {
      "image/png": "[encoded data removed]",
      "text/plain": [
       "<Figure size 640x480 with 2 Axes>"
      ]
     },
     "metadata": {},
     "output_type": "display_data"
    }
   ],
   "source": [
    "# Create the correlation_matrix\n",
    "\n",
    "correlation_matrix2 = dummy_df.corr()\n",
    "\n",
    "sns.heatmap(correlation_matrix2)\n",
    "\n",
    "\n",
    "psize_vs_ct_tea = dummy_df['Plot_size'].corr(dummy_df['Crop_type_tea'])\n",
    "\n",
    "plevel_vs_st_rocky = dummy_df['Pollution_level'].corr(dummy_df['Soil_type_Rocky'])\n",
    "\n",
    "ct_cassava__vs_st_rocky = dummy_df['Crop_type_cassava'].corr(dummy_df['Soil_type_Sandy'])\n",
    "\n",
    "mintemp_vs_elevation = dummy_df['Min_temperature_C'].corr(dummy_df['Elevation'])\n",
    "\n",
    "print('Plot_size and Crop_type_tea: {}' .format(psize_vs_ct_tea))\n",
    "print('Pollution_level and Soil_type_Rocky: {}' .format(plevel_vs_st_rocky))\n",
    "print('Crop_type_cassava and Soil_type_Sandy: {}' .format(ct_cassava__vs_st_rocky))\n",
    "print('Min_temperature_C and Elevation: {}' .format(mintemp_vs_elevation))\n"
   ]
  },
  {
   "cell_type": "code",
   "execution_count": 76,
   "metadata": {},
   "outputs": [
    {
     "name": "stdout",
     "output_type": "stream",
     "text": [
      "9.986874953491435e-05\n"
     ]
    }
   ],
   "source": [
    "print(psize_vs_ct_tea)"
   ]
  },
  {
   "cell_type": "markdown",
   "metadata": {},
   "source": [
    "### Question 7\n",
    "Now that we have analysed our variables, let's fit an ordinary least squares regression model using `statsmodels.formula.api` and then print the model summary. Construct the model using all the independent variables in our encoded dataset (excuding `Field_ID`).<br>\n",
    "\n",
    "Which of the following statements accurately describes the interpretation of the F-statistic in the context of our regression model?\n",
    "\n",
    "#### Options\n",
    "* The F-statistic tests the overall significance of the regression model. A low F-statistic value with a corresponding high p-value  indicates that the regression model is statistically significant, meaning that at least one of the independent variables has a significant effect on the dependent variable.\n",
    "* The F-statistic tests the overall significance of the regression model. A high F-statistic value with a corresponding low p-value indicates that the regression model is statistically significant, meaning that at least one of the independent variables has a significant effect on the dependent variable.\n",
    "* The F-statistic tests the overall significance of the regression model. A high F-statistic value with a corresponding high p-value indicates that the regression model is statistically significant, meaning that at least one of the independent variables has a significant effect on the dependent variable.\n",
    "* The F-statistic tests the overall significance of the regression model. A low F-statistic value with a corresponding low p-value  indicates that the regression model is not statistically significant, meaning that none of the independent variables have a significant effect on the dependent variable."
   ]
  },
  {
   "cell_type": "code",
   "execution_count": 78,
   "metadata": {},
   "outputs": [
    {
     "name": "stdout",
     "output_type": "stream",
     "text": [
      "                            OLS Regression Results                            \n",
      "==============================================================================\n",
      "Dep. Variable:         Standard_yield   R-squared:                       0.756\n",
      "Model:                            OLS   Adj. R-squared:                  0.755\n",
      "Method:                 Least Squares   F-statistic:                     623.8\n",
      "Date:                Sat, 06 Apr 2024   Prob (F-statistic):               0.00\n",
      "Time:                        15:17:07   Log-Likelihood:                 8358.2\n",
      "No. Observations:                5654   AIC:                        -1.666e+04\n",
      "Df Residuals:                    5625   BIC:                        -1.647e+04\n",
      "Df Model:                          28                                         \n",
      "Covariance Type:            nonrobust                                         \n",
      "===========================================================================================\n",
      "                              coef    std err          t      P>|t|      [0.025      0.975]\n",
      "-------------------------------------------------------------------------------------------\n",
      "Intercept                   0.6982      0.183      3.806      0.000       0.339       1.058\n",
      "Elevation               -6.517e-05      0.000     -0.628      0.530      -0.000       0.000\n",
      "Latitude                   -0.0023      0.001     -3.372      0.001      -0.004      -0.001\n",
      "Longitude                  -0.0014      0.001     -2.088      0.037      -0.003   -8.32e-05\n",
      "Slope                       0.0014      0.001      1.769      0.077      -0.000       0.003\n",
      "Rainfall                  4.27e-05   2.24e-05      1.906      0.057   -1.21e-06    8.66e-05\n",
      "Min_temperature_C           0.0121      0.010      1.273      0.203      -0.007       0.031\n",
      "Max_temperature_C          -0.0026      0.002     -1.328      0.184      -0.006       0.001\n",
      "Ave_temps                   0.0048      0.004      1.250      0.211      -0.003       0.012\n",
      "Soil_fertility             -0.3560      0.257     -1.383      0.167      -0.861       0.149\n",
      "pH                          0.0206      0.001     14.509      0.000       0.018       0.023\n",
      "Pollution_level            -0.1665      0.005    -35.319      0.000      -0.176      -0.157\n",
      "Plot_size                  -0.0429      0.001    -50.411      0.000      -0.045      -0.041\n",
      "Annual_yield                0.0811      0.002     53.269      0.000       0.078       0.084\n",
      "Location_Rural_Amanzi       0.0062      0.005      1.325      0.185      -0.003       0.015\n",
      "Location_Rural_Hawassa     -0.0001      0.003     -0.040      0.968      -0.007       0.007\n",
      "Location_Rural_Kilimani     0.0128      0.004      3.111      0.002       0.005       0.021\n",
      "Location_Rural_Sokoto       0.0355      0.005      7.570      0.000       0.026       0.045\n",
      "Soil_type_Peaty            -0.0963      0.006    -16.784      0.000      -0.108      -0.085\n",
      "Soil_type_Rocky            -0.1022      0.005    -19.741      0.000      -0.112      -0.092\n",
      "Soil_type_Sandy            -0.0744      0.003    -23.917      0.000      -0.081      -0.068\n",
      "Soil_type_Silt             -0.1178      0.005    -25.492      0.000      -0.127      -0.109\n",
      "Soil_type_Volcanic         -0.0534      0.004    -12.605      0.000      -0.062      -0.045\n",
      "Crop_type_cassava           0.0344      0.003      9.842      0.000       0.028       0.041\n",
      "Crop_type_coffee           -0.0029      0.003     -0.891      0.373      -0.009       0.004\n",
      "Crop_type_maize             0.0505      0.004     11.792      0.000       0.042       0.059\n",
      "Crop_type_potato            0.0998      0.004     26.015      0.000       0.092       0.107\n",
      "Crop_type_rice              0.1011      0.004     23.605      0.000       0.093       0.110\n",
      "Crop_type_tea               0.1162      0.004     31.166      0.000       0.109       0.123\n",
      "Crop_type_wheat             0.0468      0.003     15.040      0.000       0.041       0.053\n",
      "==============================================================================\n",
      "Omnibus:                       67.669   Durbin-Watson:                   1.947\n",
      "Prob(Omnibus):                  0.000   Jarque-Bera (JB):               85.983\n",
      "Skew:                          -0.182   Prob(JB):                     2.13e-19\n",
      "Kurtosis:                       3.482   Cond. No.                     1.05e+16\n",
      "==============================================================================\n",
      "\n",
      "Notes:\n",
      "[1] Standard Errors assume that the covariance matrix of the errors is correctly specified.\n",
      "[2] The smallest eigenvalue is 1.05e-22. This might indicate that there are\n",
      "strong multicollinearity problems or that the design matrix is singular.\n"
     ]
    }
   ],
   "source": [
    "# Your code here\n",
    "y_name = 'Standard_yield'\n",
    "x_names = [col for col in dummy_df.columns if col != y_name]\n",
    "\n",
    "formular_string = y_name + \" ~ \"+\" + \".join(x_names)\n",
    "formular_string\n",
    "\n",
    "model_ols = smf.ols(formular_string, dummy_df)\n",
    "\n",
    "result = model_ols.fit()\n",
    "print(result.summary())"
   ]
  },
  {
   "attachments": {},
   "cell_type": "markdown",
   "metadata": {},
   "source": [
    "### Question 8 \n",
    "\n",
    "This summary  gives us an indication of possible multicollinearity present within our predictor variables. The presence of any correlation among predictors is detrimental to model quality because it tends to increase the standard error of the coefficients and it becomes difficult to estimate the effect of any one predictor variable on the response variable.\n",
    "\n",
    "To avoid this, let's reduce the number of independent variables included in our model.\n",
    "Fit the model using the following variables:<br>\n",
    "\n",
    "* `Pollution_level` \n",
    "* `Crop_type_coffee` \n",
    "* `Crop_type_tea`\n",
    "* `Location_Rural_Sokoto`\n",
    "* `Annual_yield` \n",
    "* `Soil_type_Silt`\n",
    "* `Soil_type_Volcanic`\n",
    "\n",
    "After reducing the number of dependent variables accordingly, how did the model change?\n",
    "\n",
    "#### Options:\n",
    "\n",
    "* The model worsened.\n",
    "* The model improved.\n",
    "* The model remained unchanged.\n",
    "* It cannot be determined from the given information."
   ]
  },
  {
   "cell_type": "code",
   "execution_count": 79,
   "metadata": {},
   "outputs": [
    {
     "name": "stdout",
     "output_type": "stream",
     "text": [
      "                            OLS Regression Results                            \n",
      "==============================================================================\n",
      "Dep. Variable:         Standard_yield   R-squared:                       0.406\n",
      "Model:                            OLS   Adj. R-squared:                  0.406\n",
      "Method:                 Least Squares   F-statistic:                     552.1\n",
      "Date:                Sat, 06 Apr 2024   Prob (F-statistic):               0.00\n",
      "Time:                        15:21:12   Log-Likelihood:                 5839.8\n",
      "No. Observations:                5654   AIC:                        -1.166e+04\n",
      "Df Residuals:                    5646   BIC:                        -1.161e+04\n",
      "Df Model:                           7                                         \n",
      "Covariance Type:            nonrobust                                         \n",
      "=========================================================================================\n",
      "                            coef    std err          t      P>|t|      [0.025      0.975]\n",
      "-----------------------------------------------------------------------------------------\n",
      "Intercept                 0.5690      0.003    212.947      0.000       0.564       0.574\n",
      "Pollution_level          -0.2237      0.006    -37.672      0.000      -0.235      -0.212\n",
      "Crop_type_coffee         -0.0556      0.004    -14.370      0.000      -0.063      -0.048\n",
      "Crop_type_tea             0.0931      0.004     23.626      0.000       0.085       0.101\n",
      "Location_Rural_Sokoto     0.0647      0.004     16.768      0.000       0.057       0.072\n",
      "Annual_yield              0.0071      0.001     11.824      0.000       0.006       0.008\n",
      "Soil_type_Silt           -0.0693      0.003    -21.619      0.000      -0.076      -0.063\n",
      "Soil_type_Volcanic       -0.0127      0.004     -3.288      0.001      -0.020      -0.005\n",
      "==============================================================================\n",
      "Omnibus:                      111.561   Durbin-Watson:                   1.967\n",
      "Prob(Omnibus):                  0.000   Jarque-Bera (JB):              117.254\n",
      "Skew:                          -0.348   Prob(JB):                     3.46e-26\n",
      "Kurtosis:                       2.880   Cond. No.                         17.5\n",
      "==============================================================================\n",
      "\n",
      "Notes:\n",
      "[1] Standard Errors assume that the covariance matrix of the errors is correctly specified.\n"
     ]
    }
   ],
   "source": [
    "# Your code here\n",
    "selected_features = ['Pollution_level','Crop_type_coffee','Crop_type_tea','Location_Rural_Sokoto','Annual_yield','Soil_type_Silt','Soil_type_Volcanic']\n",
    "\n",
    "formular2_string = y_name + \" ~ \"+\" + \".join(selected_features)\n",
    "formular2_string\n",
    "\n",
    "model_ols = smf.ols(formular2_string, dummy_df)\n",
    "\n",
    "result = model_ols.fit()\n",
    "print(result.summary())"
   ]
  },
  {
   "cell_type": "markdown",
   "metadata": {},
   "source": [
    "### Question 9\n",
    "Let's evaluate our model's results. Generate a scatter plot of the residuals against the fitted values allowing us to visually inspect whether the residuals have constant variance and are distributed randomly around the zero residual line.\n",
    "\n",
    "What does the scatter plot tell us?\n",
    "\n",
    "#### Options\n",
    "\n",
    "* The model has perfect predictive accuracy.\n",
    "* The plot indicates homoscedasticity as residuals have a constant variance and are distributed randomly around the zero residual line.\n",
    "* There is no linear relationship between the dependent and independent variables.\n",
    "* The model suffers from multicollinearity."
   ]
  },
  {
   "cell_type": "code",
   "execution_count": 80,
   "metadata": {},
   "outputs": [
    {
     "data": {
      "text/plain": [
       "Text(0.5, 1.0, 'Fitted Values VS Residuals')"
      ]
     },
     "execution_count": 80,
     "metadata": {},
     "output_type": "execute_result"
    },
    {
     "data": {
      "image/png": "[encoded data removed]",
      "text/plain": [
       "<Figure size 640x480 with 1 Axes>"
      ]
     },
     "metadata": {},
     "output_type": "display_data"
    }
   ],
   "source": [
    "#Your code here\n",
    "fitted_values = result.fittedvalues\n",
    "residuals = result.resid\n",
    "\n",
    "plt.scatter(x=fitted_values, y=residuals)\n",
    "plt.xlabel('Fitted Values')\n",
    "plt.ylabel('Residuals')\n",
    "plt.title('Fitted Values VS Residuals')"
   ]
  },
  {
   "cell_type": "markdown",
   "metadata": {},
   "source": [
    "### Question 10\n",
    "If a linear regression model indicated heteroscedasticity, which of the following actions could be considered to address this issue?\n",
    "\n",
    "* Applying transformations to the independent variables to better fit the linear relationship.\n",
    "* Implementing weighted least squares regression to give less emphasis to observations with higher variance in residuals.\n",
    "* Removing outliers from the dataset to reduce the impact of extreme values on the variance of residuals.\n",
    "* All of the above."
   ]
  },
  {
   "cell_type": "code",
   "execution_count": 82,
   "metadata": {},
   "outputs": [
    {
     "data": {
      "text/plain": [
       "'All of the above'"
      ]
     },
     "execution_count": 82,
     "metadata": {},
     "output_type": "execute_result"
    }
   ],
   "source": [
    "\"All of the above\""
   ]
  },
  {
   "cell_type": "markdown",
   "metadata": {},
   "source": [
    "## Challenge 3: Using regularisation to optimise agricultural yield\n",
    "\n",
    "Continuing with our task, after fitting our model, we decide to go back to the drawing board to explore more ways to implement feature engineering and data pre-processing in order to optimise our model. We suspect that, if we use all the variables available to us, the model might overfit due to the high dimensionality of the data. Regularisation techniques will therefore be critical in building a predictive model that generalises well to new, unseen data."
   ]
  },
  {
   "cell_type": "markdown",
   "metadata": {},
   "source": [
    "### Question 11\n",
    "Our first step in the feature engineering involves creating a new feature, `Temperature_Range`, and scaling features using `StandardScaler`. The difference between `Min_temperature_C` and `Max_temperature_C` is the temperature range.\n",
    "\n",
    "Given the code block below, which option correctly completes the feature engineering step of creating the `Temperature_Range` column?\n",
    "\n",
    "**Hint**: Insert the correct code snippet into the appropriate location within the code block to run it.\n",
    "\n",
    "#### Options:\n",
    "\n",
    "* `dataset['Temperature_Range'] = dataset[['Min_temperature_C','Max_temperature_C']].min(axis=1)`\n",
    "* `dataset['Temperature_Range'] = dataset['Max_temperature_C'] - dataset['Min_temperature_C']`\n",
    "* `dataset = dataset.assign(Temperature_Range = dataset['Max_temperature'] - dataset['Min_temperature'])`\n",
    "* `dataset[['Temperature_Range']] = dataset[['Max_temperature_C']] - dataset[['Min_temperature_C']]`\n",
    "\n"
   ]
  },
  {
   "cell_type": "code",
   "execution_count": null,
   "metadata": {},
   "outputs": [],
   "source": [
    "from sklearn.preprocessing import StandardScaler\n",
    "\n",
    "# Insert selected option here\n",
    "\n",
    "\n",
    "\n",
    "# Select features for scaling (exclude non-numeric or target variables)\n",
    "features = ['Elevation', 'Slope', 'Rainfall', 'Ave_temps', 'Temperature_Range', 'Soil_fertility', 'pH', 'Pollution_level']\n",
    "\n",
    "# Initialise StandardScaler and apply it to the features\n",
    "scaler = StandardScaler()\n",
    "scaled_features = scaler.fit_transform(dataset[features])\n",
    "\n",
    "# Show the first 5 rows of the scaled features\n",
    "print(scaled_features[:5])"
   ]
  },
  {
   "cell_type": "markdown",
   "metadata": {},
   "source": [
    "### Question 12\n",
    "\n",
    "\n",
    "Consider a scenario where we decide to employ LASSO regression to identify predictive features associated with our dependent variable.\n",
    "\n",
    "We implement the Python code block provided below.\n",
    "\n",
    "What is the purpose of the `LassoCV(cv=5)` constructor parameter `cv=5`?\n",
    "\n",
    "#### Options:\n",
    "\n",
    "* It indicates that 5-fold cross-validation should be used to select the best regularisation parameter.\n",
    "* It sets the penalty coefficient to 5, increasing the regularisation strength.\n",
    "* It specifies that the LASSO model should use a 5-degree polynomial feature expansion.\n",
    "* It defines that the model should only select 5 features at most."
   ]
  },
  {
   "cell_type": "code",
   "execution_count": null,
   "metadata": {},
   "outputs": [],
   "source": [
    "from sklearn.linear_model import LassoCV\n",
    "\n",
    "# scaled_features is our matrix of scaled features and dataset['Standard_yield'] is the target variable\n",
    "lasso = LassoCV(cv=5).fit(scaled_features, dataset['Standard_yield'])\n",
    "\n",
    "# Find the features with non-zero coefficients\n",
    "selected_features = [features[i] for i, coef in enumerate(lasso.coef_) if coef != 0]"
   ]
  },
  {
   "cell_type": "markdown",
   "metadata": {},
   "source": [
    "### Question 13\n",
    "\n",
    "In trying to address multicollinearity in our dataset, we also decide to implement Ridge regression. After understanding that Ridge regression applies an L2 penalty to the coefficients to reduce their magnitude without setting them to zero, we decide to use `RidgeCV` for applying Ridge regression with cross-validation to select the optimal penalty strength. Given the snippet of code below, which parameter correctly adjusts the strength of the regularisation applied to the model?\n",
    "\n",
    "**Hint**: Insert the correct code snippet into the appropriate location within the code block to run it.\n",
    "\n",
    "#### Options:\n",
    "* `cv=[0.001, 0.01, 0.1, 1, 10, 100]`\n",
    "* `fit_intercept=True`\n",
    "* `alphas=[0.001, 0.01, 0.1, 1, 10, 100]`\n",
    "* `scoring='neg_mean_squared_error`"
   ]
  },
  {
   "cell_type": "code",
   "execution_count": null,
   "metadata": {},
   "outputs": [],
   "source": [
    "from sklearn.linear_model import RidgeCV\n",
    "\n",
    "# Insert selected option here\n",
    "\n",
    "\n",
    "# Apply Ridge regression with cross-validation\n",
    "ridge = RidgeCV(alphas=alphas, cv=5).fit(scaled_features, dataset['Standard_yield'])"
   ]
  },
  {
   "cell_type": "markdown",
   "metadata": {},
   "source": [
    "### Question 14\n",
    "\n",
    "Given our dataset includes variables such as `Elevation` and `Slope`, and considering the potential interactions between these variables might impact crop yield, we aim to capture both these interactions and possible non-linear relationships. Which of the following methods is specifically designed to create a quadratic interaction term without including an intercept in the feature set?\n",
    "\n",
    "**HINT:** Consider utilising `sklearn`'s feature transformation tools for this purpose.\n",
    "\n",
    "* `poly = PolynomialFeatures(degree=2, include_bias=False)` \n",
    "* `poly = PolynomialFeatures(degree=1, include_bias=False)` \n",
    "* `poly = PolynomialFeatures(degree=3, include_bias=True)` \n",
    "* `poly = PolynomialFeatures(degree=2, include_bias=True)`"
   ]
  },
  {
   "cell_type": "code",
   "execution_count": null,
   "metadata": {},
   "outputs": [],
   "source": [
    "from sklearn.preprocessing import PolynomialFeatures\n",
    "\n",
    "# Generate polynomial and interaction features\n",
    "#Insert selected option here\n",
    "\n",
    "poly_features = poly.fit_transform(dataset[['Elevation', 'Slope']])\n",
    "\n",
    "# Display the shape of the new feature matrix\n",
    "poly_features.shape\n"
   ]
  },
  {
   "cell_type": "markdown",
   "metadata": {},
   "source": [
    "### Question 15\n",
    "\n",
    "After implementing Ridge regression to address multicollinearity and prevent overfitting in our model we need to interpret the coefficients to understand the impact of each feature on the standard yield.\n",
    "\n",
    "Based on the output of the Ridge regression coefficients in the code block below, which statement is true regarding the impact of each feature on the standard yield?\n",
    "\n",
    "#### Options:\n",
    "\n",
    "* Feature 1 has the highest positive impact, followed by Feature 2 and Feature 3.\n",
    "* Feature 3 has the highest positive impact, followed by Feature 1 and Feature 2.\n",
    "* The coefficients are inconclusive; further analysis is needed to determine the impact of each feature.\n",
    "* Feature 2 has the highest positive impact, while Feature 3 and Feature 1 have negative impacts."
   ]
  },
  {
   "cell_type": "code",
   "execution_count": null,
   "metadata": {},
   "outputs": [],
   "source": [
    "from sklearn.linear_model import Ridge\n",
    "import numpy as np\n",
    "\n",
    "# Assuming `X` is the feature matrix and `y` is the target variable\n",
    "X = np.array([[0.5, 0.2, 0.1],\n",
    "              [0.9, 0.3, 0.5],\n",
    "              [0.3, 0.8, 0.2]])\n",
    "y = np.array([0.7, 0.6, 0.8])\n",
    "\n",
    "# Fit Ridge regression model with alpha = 0.1\n",
    "ridge_model = Ridge(alpha=0.1)\n",
    "ridge_model.fit(X, y)\n",
    "\n",
    "# Display the coefficients of the model\n",
    "ridge_model.coef_\n"
   ]
  },
  {
   "cell_type": "markdown",
   "metadata": {},
   "source": [
    "## Challenge 4: Making a prediction using decision trees\n",
    "\n",
    "After learning that decision trees are easy to implement and are capable of handling both categorical and numerical data while being resilient to outliers, we decide to implement a decision tree on our encoded dataset."
   ]
  },
  {
   "cell_type": "markdown",
   "metadata": {},
   "source": [
    "### Question 16\n",
    "Train a decision tree with the following specifications:\n",
    "* Using our **previously encoded dataset**, split the data into dependent and independent variables using all the features except for `Standard_yield` and `Field_ID` as independent variables.\n",
    "* Split the data into training and testing data.\n",
    "* Use the `DecisionTreeRegressor` to fit a model using a `max_depth' of 2 and a `random_state` of 42.\n",
    "\n",
    "Using the trained Decision Tree Regressor model, make a prediction for `y` given the following x-values:<br> \n",
    "`[864.66138, -8.12890218821531, -8.311822719284072, 16.274624300000003, 1237.7200000000003, -3.4100000000000006, 36.410000000000004,`\n",
    "`16.5,0.682, 6.7863323423108195, 0.09379352739936421, 1.4300000000000002, 0.8264890400277934,0.0,0.0,0.0,0.0,0.0,0.0,1.1,0.0,0.0,1.1,0.0, 0.0,0.0,0.0,0.0,0.0]`\n",
    "\n",
    "What is the value of the predicted y?\n",
    "\n",
    "#### Options\n",
    "* 0.3250077\n",
    "* 0.6654377\n",
    "* 0.48494414\n",
    "* 0.8050340"
   ]
  },
  {
   "cell_type": "code",
   "execution_count": null,
   "metadata": {},
   "outputs": [],
   "source": [
    "# Your code here"
   ]
  },
  {
   "cell_type": "markdown",
   "metadata": {},
   "source": [
    "### Question 17\n",
    "\n",
    "Based on the model above, what is the value of our RMSE?\n",
    "\n",
    "* 0.0658\n",
    "* 0.0881\n",
    "* 0.5656\n",
    "* 0.8810"
   ]
  },
  {
   "cell_type": "code",
   "execution_count": null,
   "metadata": {},
   "outputs": [],
   "source": [
    "# Your code here"
   ]
  },
  {
   "cell_type": "markdown",
   "metadata": {},
   "source": [
    "### Question 18\n",
    "Which of the following statements is correct about our RMSE?\n",
    "\n",
    "#### Options\n",
    "* An RMSE of 0.0881 suggests that, on average, the predicted values are off by approximately 0.0881 units\n",
    "* An RMSE value of 0.0881 suggests that, at most, the predicted values deviate by approximately 0.08 units from the actual values.\n",
    "* An RMSE of 0.0881 indicates a perfect fit of the model to the training data.\n",
    "* An RMSE of 0.0881 suggests that the predicted values are correct 8.81% of the time."
   ]
  },
  {
   "attachments": {},
   "cell_type": "markdown",
   "metadata": {},
   "source": [
    "### Question 19 \n",
    "What is the likely effect of adjusting the `max_depth` parameter in a Decision Tree model?\n",
    "\n",
    "#### Options\n",
    "\n",
    "* Lower max_depth values may lead to increased model complexity and a higher risk of underfitting\n",
    "* Higher max_depth values may lead to decreased model complexity and a lower risk of overfitting\n",
    "* Higher max_depth values reduce the likelihood of capturing complex relationships in the data.\n",
    "* Higher max_depth values may lead to increased model complexity and a higher risk of overfitting.\n"
   ]
  },
  {
   "cell_type": "code",
   "execution_count": null,
   "metadata": {},
   "outputs": [],
   "source": [
    "# Your code here"
   ]
  },
  {
   "cell_type": "markdown",
   "metadata": {},
   "source": [
    "### Question 20 \n",
    "Let's attempt to enhance our model's performance by setting the `max_depth` hyperparameter to 5.\n",
    "\n",
    "True or false? The decision tree model was improved by fitting it with a `max_depth` parameter of 5.\n",
    "\n",
    "#### Options\n",
    "* True\n",
    "* False"
   ]
  },
  {
   "cell_type": "code",
   "execution_count": null,
   "metadata": {},
   "outputs": [],
   "source": [
    "# Your code here"
   ]
  },
  {
   "cell_type": "markdown",
   "metadata": {},
   "source": [
    "## Challenge 5: Ensemble Methods & Bootstrapping\n",
    "\n",
    "Using our original dataset, our objective is to explore ensemble methods and bootstrapping techniques to enhance the model performance. We'll work with a subset of features from the dataset to predict the `Standard_yield`."
   ]
  },
  {
   "cell_type": "markdown",
   "metadata": {},
   "source": [
    "### Question 21 \n",
    "Consider the following approach to implement a bootstrap aggregation (bagging) for predicting the `Standard_yield` based on features `Elevation`, `Slope`, `Soil_fertility`, and `Pollution_level`. Given are the steps and part of the Python code implementing this method. Our task is to identify the correct piece of code that completes the implementation.\n",
    "\n",
    "The steps for the implementation are as follows:\n",
    "\n",
    "1. Create an empty list named `predictions` to store predictions from each bootstrap sample.\n",
    "2. Generate `n_bootstrap_samples` bootstrap samples from the original dataset.\n",
    "3. For each bootstrap sample, fit a linear regression model and predict the `Standard_yield` on the entire dataset.\n",
    "4. Store each set of predictions in the predictions list.\n",
    "5. Average the predictions across all bootstrap samples to obtain the final bagged prediction.\n",
    "6. Compute and print the mean squared error (MSE) to evaluate the performance of the bagged model.\n",
    "\n",
    "\n",
    "Below is the code block with a missing part that needs to be completed:"
   ]
  },
  {
   "cell_type": "code",
   "execution_count": null,
   "metadata": {},
   "outputs": [],
   "source": [
    "from sklearn.linear_model import LinearRegression\n",
    "from sklearn.metrics import mean_squared_error\n",
    "from sklearn.utils import resample\n",
    "import numpy as np\n",
    "\n",
    "# X_train, y_train represent the features and target variable from the training data\n",
    "X = dataset[['Elevation', 'Slope', 'Soil_fertility', 'Pollution_level']]\n",
    "y = dataset['Standard_yield']\n",
    "\n",
    "predictions = []\n",
    "n_bootstrap_samples = 100\n",
    "\n",
    "for _ in range(n_bootstrap_samples):\n",
    "    X_sample, y_sample = resample(X, y)\n",
    "    model = LinearRegression()\n",
    "    model.fit(X_sample, y_sample)\n",
    "    y_pred = model.predict(X)\n",
    "    predictions.append(y_pred)\n",
    "\n",
    "# MISSING PART HERE\n",
    "\n",
    "\n",
    "print(f\"Mean Squared Error of Bagged Linear Regression Models: {mse_bagged}\")\n"
   ]
  },
  {
   "cell_type": "markdown",
   "metadata": {},
   "source": [
    "Which code should replace the # MISSING PART HERE section to correctly implement the averaging of predictions and computation of the mean squared error?\n",
    "\n",
    "#### Options\n",
    "\n",
    "\n",
    "* `bagged_prediction = np.average(predictions, axis=1)`\n",
    "\n",
    "   `mse_bagged = mean_squared_error(y, bagged_prediction)`\n",
    "<br><br>\n",
    "\n",
    "* `bagged_prediction = np.median(predictions, axis=0)`\n",
    "\n",
    "  `mse_bagged = mean_squared_error(y, bagged_prediction)`\n",
    "<br><br>\n",
    "\n",
    "* `bagged_prediction = np.mean(predictions, axis=0)`\n",
    "\n",
    "   `mse_bagged = mean_squared_error(y, bagged_prediction)`\n",
    "<br><br>\n",
    "\n",
    "* `bagged_prediction = np.mean(predictions, axis=1)`\n",
    "\n",
    "   `mse_bagged = mean_squared_error(y, bagged_prediction)` "
   ]
  },
  {
   "cell_type": "markdown",
   "metadata": {},
   "source": [
    "### Question 22 \n",
    "\n",
    "Given the following code snippet that applies a `RandomForestRegressor` to a dataset, which parameter in the `RandomForestRegressor` constructor is crucial for implementing the random subspace method by allowing the algorithm to select a random subset of features for each split?\n",
    "\n",
    "#### Options\n",
    "* `max_depth`\n",
    "* `random_state`\n",
    "* `max_features`\n",
    "* `n_estimators`"
   ]
  },
  {
   "cell_type": "code",
   "execution_count": null,
   "metadata": {},
   "outputs": [],
   "source": [
    "from sklearn.ensemble import RandomForestRegressor\n",
    "from sklearn.metrics import mean_squared_error\n",
    "\n",
    "# Initialise and train the random forest model\n",
    "rf_model = RandomForestRegressor(n_estimators=100)\n",
    "rf_model.fit(X, y)\n",
    "\n",
    "# Predict using the random forest model\n",
    "y_pred_rf = rf_model.predict(X)\n",
    "\n",
    "# Evaluate the model\n",
    "mse_rf = mean_squared_error(y, y_pred_rf)\n",
    "print(f\"Mean Squared Error of Random Forest Regressor: {mse_rf}\")\n"
   ]
  },
  {
   "cell_type": "markdown",
   "metadata": {},
   "source": [
    "### Question 23\n",
    "\n",
    "### Question 23 (Medium)\n",
    "\n",
    "Consider the theoretical setup for a stacking ensemble model designed for a regression task. The first layer of this model includes three different types of regression models: linear regression, ridge regression, and a support vector machine (SVM) with a linear kernel. The second layer, or the final estimator, uses a linear regression model to combine the predictions from the first layer. The goal is to theoretically predict `Standard_yield` based on features such as `Elevation`, `Slope`, `Soil_fertility`, and `Pollution_level`, with the intention to evaluate the model's hypothetical performance using the Mean Squared Error (MSE).\n",
    "\n",
    "Given the following theoretical code snippet that outlines this stacking ensemble model's setup, what should replace the `_____` in the code to correctly configure the SVM with a linear kernel as part of the base learners in the stacking model?\n",
    "\n",
    "#### Options\n",
    "* `linear`\n",
    "* `lin`\n",
    "* `sigmoid`\n",
    "* `degree=1`"
   ]
  },
  {
   "cell_type": "code",
   "execution_count": null,
   "metadata": {},
   "outputs": [],
   "source": [
    "from sklearn.linear_model import LinearRegression, Ridge\n",
    "from sklearn.svm import SVR\n",
    "from sklearn.ensemble import StackingRegressor\n",
    "from sklearn.metrics import mean_squared_error\n",
    "\n",
    "# Define base learners\n",
    "estimators = [\n",
    "    ('lr', LinearRegression()),\n",
    "    ('ridge', Ridge()),\n",
    "    ('svr', SVR(kernel='_____'))\n",
    "]\n",
    "\n",
    "# Define the theoretical stacking model\n",
    "stacking_model = StackingRegressor(estimators=estimators, final_estimator=LinearRegression())\n",
    "\n",
    "# Note: Assume X, y represent the features and target variable respectively, for a theoretical prediction scenario."
   ]
  },
  {
   "cell_type": "markdown",
   "metadata": {},
   "source": [
    "### Question 24\n",
    "\n",
    "Consider the following Python code snippet that aims to implement a 5-fold cross-validation scheme to estimate the accuracy of a ridge regression model. This model uses bootstrapped samples within each fold to predict `Standard_yield` and calculates the average Mean Squared Error (MSE) across all folds.\n",
    "\n",
    "Which of the following options correctly fill in the blanks to ensure the code correctly implements the described functionality?\n",
    "\n",
    "#### Options\n",
    "* `scoring='r2'`, `cv=10`\n",
    "* `scoring='mean_absolute_error'`, `cv=5`\n",
    "* `scoring='neg_mean_squared_error'`, `cv=5`\n",
    "* `scoring='neg_mean_squared_error'`, `cv='Bootstrap'`\n"
   ]
  },
  {
   "cell_type": "code",
   "execution_count": null,
   "metadata": {},
   "outputs": [],
   "source": [
    "from sklearn.linear_model import Ridge\n",
    "from sklearn.model_selection import cross_val_score\n",
    "import numpy as np\n",
    "\n",
    "# Initialise the ridge regression model\n",
    "ridge_model = Ridge()\n",
    "\n",
    "# Perform 5-fold cross-validation with bootstrapping\n",
    "scores = cross_val_score(ridge_model, X, y, scoring='___', cv=___) #add correct option here \n",
    "\n",
    "# Convert scores to positive MSE\n",
    "mse_scores = -scores\n",
    "\n",
    "# Calculate average MSE\n",
    "average_mse = np.mean(mse_scores)\n",
    "print(f\"Average Mean Squared Error from Cross-Validation: {average_mse}\")"
   ]
  },
  {
   "cell_type": "markdown",
   "metadata": {},
   "source": [
    "### Question 25\n",
    "\n",
    "Consider the code snippet that extracts and prints the feature importances from a trained random forest regressor model. The model is used to predict `Standard_yield` based on various features. The code utilises the `feature_importances_` attribute of the random forest model to obtain importance scores for each feature.\n",
    "\n",
    "Which of the following statements best describes the purpose and outcome of the provided code snippet?\n",
    "\n",
    "#### Options\n",
    "\n",
    "* The code identifies and prints the importance scores for each feature in the random forest model, indicating how much each feature contributes to the model's ability to predict `Standard_yield`. Higher scores suggest a greater contribution to the prediction.\n",
    "\n",
    "* The code counts the number of times each feature is used to split the data across all trees in the random forest, thereby determining each feature's importance in predicting `Standard_yield`.\n",
    "\n",
    "* The code calculates and prints the coefficient values for each feature used in the  random forest, model to predict `Standard_yield`, indicating the strength and direction of the relationship between each feature and the target variable.\n",
    "\n",
    "* The code computes the correlation between each feature and the target variable `Standard_yield`, printing a list of features sorted by their correlation coefficients to identify the most relevant predictors."
   ]
  },
  {
   "cell_type": "code",
   "execution_count": null,
   "metadata": {},
   "outputs": [],
   "source": [
    "# Extract feature importances\n",
    "feature_importances = rf_model.feature_importances_\n",
    "\n",
    "# Print feature importances\n",
    "for feature, importance in zip(X.columns, feature_importances):\n",
    "    print(f\"Feature: {feature}, Importance: {importance}\")"
   ]
  },
  {
   "cell_type": "markdown",
   "metadata": {},
   "source": [
    "## Challenge 6: Random forests\n",
    "In this challenge, we want to test how our data fits to a random forest model and other functionalities that come with its such as analysing feature importance.\n",
    "\n",
    "We are required to write a function named `train_rf_model` that trains and tests a random forest model on a given dataset. Our function should do the following:\n",
    "\n",
    "* Take a `RandomForestRegressor` object (with any desired hyperparameters set) as input,\n",
    "* Separate the features `X` and target `y` dataframes\n",
    "* Split the data into training and testing sets - use a test size of `20%` and a random state of `42` for reproducibility\n",
    "* Fit the model to the training data\n",
    "* Make predictions on the testing set\n",
    "* Return the trained model, the R-squared score, and the Mean Squared Error (MSE) of the test set predictions."
   ]
  },
  {
   "attachments": {},
   "cell_type": "markdown",
   "metadata": {},
   "source": [
    "### Question 26\n",
    "1) Implement the function outlined above.\n",
    "\n",
    "2) Using the function, train a random forest model on our dataset with random_state set to 42, and max_depth=15, while leaving all other hyperparameters at their defaults. Use all the features available in the encoded dataset for this task. What are the R-squared and MSE scores for the model on the test data?\n",
    "\n",
    "#### Options\n",
    "\n",
    "* R2: 0.0059, MSE: 0.6198\n",
    "* R2: 0.5555, MSE: 0.2345\n",
    "* R2: 0.9586, MSE: 0.0006\n",
    "* R2: 0.8196, MSE: 0.0500"
   ]
  },
  {
   "cell_type": "code",
   "execution_count": null,
   "metadata": {},
   "outputs": [],
   "source": [
    "#Your code here"
   ]
  },
  {
   "attachments": {},
   "cell_type": "markdown",
   "metadata": {},
   "source": [
    "### Question 27\n",
    "\n",
    "We want to examine how our data will fit to a random forest model when we tune the number of trees. We want to train and compare two random forest models with the same dataset as in the previous exercise. The first model should be trained with `150` trees, and the second model with `200` trees. Both models should use the default hyperparameters for all other settings, apart from a random_state of `42` to ensure reproducibility. After evaluating both models on the test set, how does the error differ between the two models?\n",
    "\n",
    "#### Options\n",
    "\n",
    "* The error increased when the number of trees was increased from 150 to 200.\n",
    "* The model with 200 trees showed a significant decrease in error compared to the model with 150 trees.\n",
    "* The model with 200 trees showed a very slight decrease in error compared to the model with 150 trees.\n",
    "* There was no change in the error."
   ]
  },
  {
   "cell_type": "code",
   "execution_count": null,
   "metadata": {},
   "outputs": [],
   "source": [
    "#Your code here"
   ]
  },
  {
   "cell_type": "markdown",
   "metadata": {},
   "source": [
    "### Question 28\n",
    "Which of the following is a possible effect of increasing the number of trees in a random forest regression model?\n",
    "\n",
    "#### Options\n",
    "* Increasing the number of trees increases the model’s predictive ability up to a certain point, after which additional trees do not significantly impact performance.\n",
    "* Increasing the number of trees always improves the model's predictive ability\n",
    "* Increasing the number of trees significantly decreases the model's predictive ability\n",
    "* The number of trees in a random forest model has no impact on the model's predictive ability."
   ]
  },
  {
   "attachments": {},
   "cell_type": "markdown",
   "metadata": {},
   "source": [
    "### Question 29\n",
    "\n",
    "Following the training of our random forest models, we decide to analyse the feature importance scores provided by the model built using 200 trees. Our aim is to identify which features the model considers most significant in predicting the target variable.\n",
    "\n",
    "Which of the following does the model consider to be the top 3 most significant features in predicting Standard_yield?\n",
    "\n",
    "#### Options\n",
    "\n",
    "* Soil_fertility, Rainfall, Slope\n",
    "* Rainfall, Crop_type_tea, Latitude\n",
    "* pH, Rainfall, Location_Rural_Hawassa\n",
    "* Elevation, Soil_fertility, pH"
   ]
  },
  {
   "cell_type": "code",
   "execution_count": null,
   "metadata": {},
   "outputs": [],
   "source": [
    "#Your code here"
   ]
  },
  {
   "attachments": {},
   "cell_type": "markdown",
   "metadata": {},
   "source": [
    "### Question 30\n",
    "Which of the following initialised random forest models will allow access and calculation of the Out-of-Bag (OOB) score for performance evaluation without requiring a separate validation set?\n",
    "\n",
    "#### Options\n",
    "* RandomForestRegressor(n_estimators=100, max_depth=10, min_samples_split=2, random_state=42)\n",
    "* RandomForestRegressor(n_estimators=150, max_depth=None, oob_score=True)\n",
    "* RandomForestRegressor(n_estimators=200, max_depth=5, min_samples_leaf=4, oob_score=False)\n",
    "* RandomForestRegressor(n_estimators=120, max_features='sqrt', min_samples_leaf=2)"
   ]
  },
  {
   "cell_type": "markdown",
   "metadata": {},
   "source": [
    "#  \n",
    "\n",
    "<div align=\"center\" style=\" font-size: 80%; text-align: center; margin: 0 auto\">\n",
    "<img src=\"https://raw.githubusercontent.com/Explore-AI/Pictures/master/ExploreAI_logos/EAI_Blue_Dark.png\"  style=\"width:200px\";/>\n",
    "</div>"
   ]
  }
 ],
 "metadata": {
  "kernelspec": {
   "display_name": "Python 3 (ipykernel)",
   "language": "python",
   "name": "python3"
  },
  "language_info": {
   "codemirror_mode": {
    "name": "ipython",
    "version": 3
   },
   "file_extension": ".py",
   "mimetype": "text/x-python",
   "name": "python",
   "nbconvert_exporter": "python",
   "pygments_lexer": "ipython3",
   "version": "3.11.7"
  }
 },
 "nbformat": 4,
 "nbformat_minor": 4
}
