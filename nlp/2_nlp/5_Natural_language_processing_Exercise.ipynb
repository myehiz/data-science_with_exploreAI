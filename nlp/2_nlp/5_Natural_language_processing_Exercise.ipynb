{
 "cells": [
  {
   "attachments": {},
   "cell_type": "markdown",
   "metadata": {},
   "source": [
    "<div align=\"center\" style=\" font-size: 80%; text-align: center; margin: 0 auto\">\n",
    "<img src=\"https://raw.githubusercontent.com/Explore-AI/Pictures/master/Python-Notebook-Banners/Exercise.png\"  style=\"display: block; margin-left: auto; margin-right: auto;\";/>\n",
    "</div>"
   ]
  },
  {
   "attachments": {},
   "cell_type": "markdown",
   "metadata": {},
   "source": [
    "# Exercise: Natural language processing\n",
    "© ExploreAI Academy\n",
    "\n",
    "In this exercise, we will perform text preprocessing tasks such as converting to lowercase, removing punctuation, creating a bag-of-words, and applying stemming and lemmatisation techniques in order to analyse text data to gain some insights.\n",
    "\n",
    "## Learning objectives\n",
    "\n",
    "By the end of this exercise, you should be able to:\n",
    "* Implement text preprocessing techniques such as converting to lowercase and removing punctuation.\n",
    "* Apply stemming and lemmatisation techniques to extract the root forms of words.\n",
    "* Create a bag-of-words representation to quantify the occurrence of words in text.\n",
    "* Calculate statistics such as the number of stopwords, unique words, and word frequencies in text data."
   ]
  },
  {
   "attachments": {},
   "cell_type": "markdown",
   "metadata": {},
   "source": [
    "## Import libraries and read in the data"
   ]
  },
  {
   "cell_type": "code",
   "execution_count": 4,
   "metadata": {},
   "outputs": [],
   "source": [
    "import nltk\n",
    "from nltk import TreebankWordTokenizer, SnowballStemmer\n",
    "from nltk.stem import WordNetLemmatizer\n",
    "from nltk.corpus import stopwords\n",
    "import string\n",
    "import urllib\n",
    "\n",
    "#nltk.download('wordnet')\n",
    "#nltk.download('stopwords')\n",
    "#nltk.download('omw-1.4')"
   ]
  },
  {
   "attachments": {},
   "cell_type": "markdown",
   "metadata": {},
   "source": [
    "The data used in this notebook is text from the book \"Alice's Adventures in Wonderland\" by Lewis Carroll. "
   ]
  },
  {
   "cell_type": "code",
   "execution_count": 5,
   "metadata": {},
   "outputs": [
    {
     "name": "stdout",
     "output_type": "stream",
     "text": [
      "Alice's Adventures in Wonderland\n",
      "\n",
      "                ALICE'S ADVENTURES IN WONDERLAND\n",
      "\n",
      "                          Lewis Carroll\n",
      "\n",
      "               THE MILLENNIUM FULCRUM EDITION 3.0\n",
      "\n",
      "\n",
      "\n",
      "\n",
      "                            CHAPTER I\n",
      "\n",
      "                      Down the Rabbit-Hole\n",
      "\n",
      "\n",
      "  Alice was beginning to get very tired of sitting by her sister\n",
      "on the bank, and of having nothing to do:  once or twice she had\n",
      "peeped into the book her sister was reading, but it had no\n",
      "pictures or conversations in it, `and what is the use of a book,'\n",
      "thought Alice `without pictures or conversation?'\n",
      "\n",
      "  So she was considering in her own mind (as well as she could,\n",
      "for the hot day made her feel very sleepy and stupid), whether\n",
      "the pleasure of making a daisy-chain would be worth the trouble\n",
      "of getting up and picking the daisies, when suddenly a White\n",
      "Rabbit with pink eyes ran close by her.\n",
      "\n",
      " \n"
     ]
    }
   ],
   "source": [
    "# read in the data\n",
    "def print_some_url():\n",
    "    with urllib.request.urlopen('https://raw.githubusercontent.com/Explore-AI/Public-Data/master/Data/classification_sprint//alice_in_wonderland.txt') as f:\n",
    "        return f.read().decode('ISO-8859-1')\n",
    "\n",
    "data = print_some_url()\n",
    "print(data[:863])"
   ]
  },
  {
   "cell_type": "code",
   "execution_count": 6,
   "metadata": {},
   "outputs": [
    {
     "name": "stdout",
     "output_type": "stream",
     "text": [
      "Alice's Adventures in Wonderland\n",
      "\n",
      "                ALICE'S ADVENTURES IN WONDERLAND\n",
      "\n",
      "                          Lewis Carroll\n",
      "\n",
      "               THE MILLENNIUM FULCRUM EDITION 3.0\n",
      "\n",
      "\n",
      "\n",
      "\n",
      "                            CHAPTER I\n",
      "\n",
      "                      Down the Rabbit-Hole\n",
      "\n",
      "\n",
      "  Alice was beginning to get very tired of sitting by her sister\n",
      "on the bank, and of having nothing to do:  once or twice she had\n",
      "peeped into the book her sister was reading, but it had no\n",
      "pictures or conversations in it, `and what is the use of a book,'\n",
      "thought Alice `without pictures or conversation?'\n",
      "\n",
      "  So she was considering in her own mind (as well as she could,\n",
      "for the hot day made her feel very sleepy and stupid), whether\n",
      "the pleasure of making a daisy-chain would be worth the trouble\n",
      "of getting up and picking the daisies, when suddenly a White\n",
      "Rabbit with pink eyes ran close by her.\n",
      "\n",
      "  There was nothing so VERY remarkable in that; nor did Alice\n",
      "think it so VERY much out of the way to hear the Rabbit say to\n",
      "itself, `Oh d\n"
     ]
    }
   ],
   "source": [
    "# URL of the text file\n",
    "url = \"https://raw.githubusercontent.com/Explore-AI/Public-Data/master/Data/classification_sprint/alice_in_wonderland.txt\"\n",
    "\n",
    "# Fetch the data from the URL\n",
    "response = urllib.request.urlopen(url)\n",
    "\n",
    "# Read the text data and store it in a variable\n",
    "sample_book = response.read().decode('utf-8')\n",
    "\n",
    "# Print the first 1000 characters in the book\n",
    "print(sample_book[:1000])"
   ]
  },
  {
   "attachments": {},
   "cell_type": "markdown",
   "metadata": {},
   "source": [
    "## Data preprocessing\n",
    "We will first start by providing you with the functions required to remove puntuation, create a bag-of-words and define a stemmer, tokeniser and lemmatiser. Once you apply the functions to pre-process the data, you will be asked to perform some calculations and analysis in the exercise questions below.\n",
    "\n",
    "\n",
    "**Convert to lowercase and remove punctuation** "
   ]
  },
  {
   "cell_type": "code",
   "execution_count": 7,
   "metadata": {},
   "outputs": [],
   "source": [
    "#Function to remove puntauation\n",
    "\n",
    "def remove_punctuation(words):\n",
    "    words = words.lower()\n",
    "    return ''.join([x for x in words if x not in string.punctuation])"
   ]
  },
  {
   "cell_type": "code",
   "execution_count": 8,
   "metadata": {},
   "outputs": [],
   "source": [
    "#Apply the remove_punctuation function to the data\n",
    "data = remove_punctuation(data)"
   ]
  },
  {
   "cell_type": "code",
   "execution_count": 9,
   "metadata": {},
   "outputs": [
    {
     "name": "stdout",
     "output_type": "stream",
     "text": [
      "alices adventures in wonderland\n",
      "\n",
      "                alices adventures in wonderland\n",
      "\n",
      "                          lewis carroll\n",
      "\n",
      "               the millennium fulcrum edition 30\n",
      "\n",
      "\n",
      "\n",
      "\n",
      "                            chapter i\n",
      "\n",
      "                      down the rabbithole\n",
      "\n",
      "\n",
      "  alice was beginning to get very tired of sitting by her sister\n",
      "on the bank and of having nothing to do  once or twice she had\n",
      "peeped into the book her sister was reading but it had no\n",
      "pictures or conversations in it and what is the use of a book\n",
      "thought alice without pictures or conversation\n",
      "\n",
      "  so she was considering in her own mind as well as she could\n",
      "for the hot day made her feel very sleepy and stupid whether\n",
      "the pleasure of making a daisychain would be worth the trouble\n",
      "of getting up and picking the daisies when suddenly a white\n",
      "rabbit with pink eyes ran close by her\n",
      "\n",
      "  there was nothing so very remarkable in that nor did alice\n",
      "think it so very much out of the way to hear the rabbit say to\n",
      "itself oh dear  oh dear  i shall be\n"
     ]
    }
   ],
   "source": [
    "import string\n",
    "\n",
    "def remove_punctuation(text):\n",
    "    \"\"\"\n",
    "    Remove punctuation from the given text.\n",
    "    \n",
    "    Parameters:\n",
    "    text (str): Input text\n",
    "    \n",
    "    Returns:\n",
    "    str: Text with punctuation removed\n",
    "    \"\"\"\n",
    "    # Convert string to lower case \n",
    "    text = text.lower()\n",
    "    \n",
    "    # Define punctuation characters\n",
    "    punctuations = string.punctuation\n",
    "    \n",
    "    # Remove punctuation characters from the text\n",
    "    text_no_punct = ''.join(char for char in text if char not in punctuations)\n",
    "    \n",
    "    return text_no_punct\n",
    "\n",
    "\n",
    "# Apply remove_punctuation function to sample_book\n",
    "sample_book_no_punct = remove_punctuation(sample_book)\n",
    "\n",
    "# Print the first 1000 characters after removing punctuation\n",
    "print(sample_book_no_punct[:1000])\n"
   ]
  },
  {
   "cell_type": "code",
   "execution_count": 10,
   "metadata": {},
   "outputs": [
    {
     "name": "stdout",
     "output_type": "stream",
     "text": [
      "alices adventures in wonderland\n",
      "\n",
      "                alices adventures in wonderland\n",
      "\n",
      "                          lewis carroll\n",
      "\n",
      "               the millennium fulcrum edition 30\n",
      "\n",
      "\n",
      "\n",
      "\n",
      "                            chapter i\n",
      "\n",
      "                      down the rabbithole\n",
      "\n",
      "\n",
      "  alice was beginning to get very tired of sitting by her sister\n",
      "on the bank and of having nothing to do  once or twice she had\n",
      "peeped into the book her sister was reading but it had no\n",
      "pictures or conversations in it and what is the use of \n"
     ]
    }
   ],
   "source": [
    "print(data[:500])"
   ]
  },
  {
   "attachments": {},
   "cell_type": "markdown",
   "metadata": {},
   "source": [
    "**Create a bag-of-words and assign our stemmer and lemmatiser.**"
   ]
  },
  {
   "cell_type": "code",
   "execution_count": 11,
   "metadata": {},
   "outputs": [],
   "source": [
    "# define stemmer function\n",
    "stemmer = SnowballStemmer('english')\n",
    "\n",
    "# tokenise data\n",
    "tokeniser = TreebankWordTokenizer()\n",
    "tokens = tokeniser.tokenize(data)\n",
    "\n",
    "# define lemmatiser\n",
    "lemmatizer = WordNetLemmatizer()\n",
    "\n",
    "# bag-of-words\n",
    "def bag_of_words_count(words, word_dict={}):\n",
    "    \"\"\" this function takes in a list of words and returns a dictionary \n",
    "        with each word as a key, and the value represents the number of \n",
    "        times that word appeared\"\"\"\n",
    "    for word in words:\n",
    "        if word in word_dict.keys():\n",
    "            word_dict[word] += 1\n",
    "        else:\n",
    "            word_dict[word] = 1\n",
    "    return word_dict\n",
    "\n",
    "# remove stopwords\n",
    "tokens_less_stopwords = [word for word in tokens if word not in stopwords.words('english')]\n",
    "\n",
    "# create bag of words\n",
    "bag_of_words = bag_of_words_count(tokens_less_stopwords)"
   ]
  },
  {
   "cell_type": "code",
   "execution_count": 12,
   "metadata": {},
   "outputs": [
    {
     "name": "stdout",
     "output_type": "stream",
     "text": [
      "{'alices': 13, 'adventures': 7, 'wonderland': 4, 'lewis': 1, 'carroll': 1, 'millennium': 1, 'fulcrum': 1, 'edition': 1, '30': 1, 'chapter': 12, 'rabbithole': 3, 'alice': 386, 'beginning': 13, 'get': 46, 'tired': 7, 'sitting': 10, 'sister': 8, 'bank': 2, 'nothing': 34, 'twice': 5, 'peeped': 3, 'book': 7, 'reading': 3, 'pictures': 4, 'conversations': 1, 'use': 18, 'thought': 74, 'without': 25, 'conversation': 10, 'considering': 3, 'mind': 10, 'well': 60, 'could': 77, 'hot': 5, 'day': 25, 'made': 30, 'feel': 8, 'sleepy': 5, 'stupid': 6, 'whether': 11, 'pleasure': 2, 'making': 8, 'daisychain': 1, 'would': 83, 'worth': 4, 'trouble': 6, 'getting': 22, 'picking': 2, 'daisies': 1, 'suddenly': 13, 'white': 30, 'rabbit': 43, 'pink': 1, 'eyes': 27, 'ran': 16, 'close': 13, 'remarkable': 2, 'think': 53, 'much': 51, 'way': 52, 'hear': 14, 'say': 50, 'oh': 38, 'dear': 29, 'shall': 25, 'late': 6, 'afterwards': 2, 'occurred': 2, 'ought': 14, 'wondered': 1, 'time': 68, 'seemed': 27, 'quite': 55, 'natural': 4, 'actually': 1, 'took': 24, 'watch': 8, 'waistcoat': 1, 'pocket': 6, 'looked': 45, 'hurried': 11, 'started': 2, 'feet': 19, 'flashed': 1, 'across': 5, 'never': 45, 'seen': 14, 'either': 10, 'waistcoatpocket': 1, 'take': 21, 'burning': 1, 'curiosity': 5, 'field': 1, 'fortunately': 1, 'see': 66, 'pop': 1, 'large': 33, 'hedge': 2, 'another': 22, 'moment': 29, 'went': 83, 'world': 7, 'straight': 2, 'like': 85, 'tunnel': 1, 'dipped': 2, 'stopping': 1, 'found': 32, 'falling': 2, 'deep': 7, 'fell': 6, 'slowly': 8, 'plenty': 2, 'look': 28, 'wonder': 18, 'going': 27, 'happen': 8, 'next': 30, 'first': 49, 'tried': 19, 'make': 26, 'coming': 9, 'dark': 3, 'anything': 19, 'sides': 4, 'noticed': 8, 'filled': 3, 'cupboards': 2, 'bookshelves': 1, 'saw': 14, 'maps': 1, 'hung': 1, 'upon': 26, 'pegs': 1, 'jar': 2, 'one': 101, 'shelves': 1, 'passed': 5, 'labelled': 1, 'orange': 1, 'marmalade': 1, 'great': 39, 'disappointment': 1, 'empty': 1, 'drop': 1, 'fear': 4, 'killing': 1, 'somebody': 7, 'managed': 4, 'put': 31, 'past': 1, 'fall': 7, 'tumbling': 2, 'stairs': 3, 'brave': 1, 'theyll': 4, 'home': 5, 'wouldnt': 13, 'even': 19, 'top': 8, 'house': 18, 'likely': 5, 'true': 4, 'come': 46, 'end': 18, 'many': 12, 'miles': 3, 'ive': 34, 'fallen': 4, 'said': 462, 'aloud': 5, 'must': 44, 'somewhere': 3, 'near': 15, 'centre': 1, 'earth': 4, 'let': 17, 'four': 6, 'thousand': 2, 'learnt': 2, 'several': 4, 'things': 28, 'sort': 20, 'lessons': 10, 'schoolroom': 1, 'though': 11, 'good': 25, 'opportunity': 8, 'showing': 2, 'knowledge': 3, 'listen': 7, 'still': 13, 'practice': 1, 'yes': 13, 'thats': 33, 'right': 31, 'distancebut': 1, 'latitude': 2, 'longitude': 2, 'got': 45, 'idea': 15, 'nice': 6, 'grand': 3, 'words': 21, 'presently': 2, 'began': 58, 'funny': 3, 'itll': 8, 'seem': 8, 'among': 12, 'people': 13, 'walk': 5, 'heads': 11, 'downward': 1, 'antipathies': 1, 'rather': 25, 'glad': 11, 'listening': 3, 'didnt': 14, 'sound': 4, 'word': 10, 'ask': 11, 'name': 10, 'country': 1, 'know': 86, 'please': 19, 'maam': 1, 'new': 5, 'zealand': 1, 'australia': 1, 'curtsey': 1, 'spokefancy': 1, 'curtseying': 1, 'youre': 23, 'air': 14, 'manage': 7, 'ignorant': 1, 'little': 128, 'girl': 4, 'shell': 3, 'asking': 5, 'perhaps': 17, 'written': 6, 'else': 10, 'soon': 25, 'talking': 17, 'dinahll': 2, 'miss': 4, 'tonight': 1, 'dinah': 11, 'cat': 35, 'hope': 3, 'remember': 14, 'saucer': 1, 'milk': 1, 'teatime': 2, 'wish': 21, 'mice': 3, 'im': 57, 'afraid': 12, 'might': 28, 'catch': 3, 'bat': 3, 'mouse': 38, 'cats': 15, 'eat': 18, 'bats': 4, 'saying': 15, 'dreamy': 1, 'sometimes': 5, 'couldnt': 9, 'answer': 9, 'question': 17, 'matter': 9, 'felt': 23, 'dozing': 1, 'begun': 7, 'dream': 7, 'walking': 5, 'hand': 20, 'earnestly': 2, 'tell': 31, 'truth': 1, 'ever': 21, 'thump': 2, 'came': 40, 'heap': 1, 'sticks': 1, 'dry': 8, 'leaves': 6, 'bit': 16, 'hurt': 3, 'jumped': 6, 'overhead': 1, 'long': 32, 'passage': 4, 'sight': 10, 'hurrying': 1, 'lost': 3, 'away': 25, 'wind': 2, 'turned': 16, 'corner': 3, 'ears': 5, 'whiskers': 3, 'behind': 13, 'longer': 3, 'low': 14, 'hall': 9, 'lit': 1, 'row': 2, 'lamps': 1, 'hanging': 3, 'roof': 6, 'doors': 2, 'round': 41, 'locked': 1, 'side': 17, 'trying': 14, 'every': 12, 'door': 29, 'walked': 10, 'sadly': 5, 'middle': 7, 'wondering': 7, 'threelegged': 2, 'table': 18, 'solid': 1, 'glass': 10, 'except': 4, 'tiny': 4, 'golden': 7, 'key': 9, 'belong': 1, 'alas': 4, 'locks': 2, 'small': 10, 'rate': 9, 'open': 7, 'however': 20, 'second': 4, 'curtain': 1, 'fifteen': 1, 'inches': 6, 'high': 16, 'lock': 1, 'delight': 3, 'fitted': 1, 'opened': 10, 'led': 4, 'larger': 7, 'rathole': 1, 'knelt': 1, 'along': 5, 'loveliest': 1, 'garden': 15, 'longed': 2, 'wander': 1, 'beds': 1, 'bright': 7, 'flowers': 2, 'cool': 2, 'fountains': 2, 'head': 48, 'doorway': 1, 'go': 50, 'poor': 27, 'shoulders': 4, 'shut': 5, 'telescope': 3, 'begin': 13, 'outoftheway': 3, 'happened': 7, 'lately': 1, 'indeed': 16, 'really': 13, 'impossible': 3, 'waiting': 9, 'back': 38, 'half': 21, 'hoping': 3, 'find': 21, 'rules': 3, 'shutting': 2, 'telescopes': 1, 'bottle': 10, 'certainly': 14, 'neck': 7, 'paper': 4, 'label': 2, 'drink': 7, 'beautifully': 2, 'printed': 1, 'letters': 1, 'wise': 2, 'hurry': 11, 'ill': 33, 'marked': 6, 'poison': 3, 'read': 11, 'histories': 1, 'children': 10, 'burnt': 1, 'eaten': 1, 'wild': 2, 'beasts': 2, 'unpleasant': 2, 'simple': 5, 'friends': 2, 'taught': 4, 'redhot': 1, 'poker': 1, 'burn': 2, 'hold': 9, 'cut': 5, 'finger': 5, 'deeply': 4, 'knife': 2, 'usually': 2, 'bleeds': 1, 'forgotten': 6, 'almost': 6, 'certain': 3, 'disagree': 1, 'sooner': 2, 'later': 3, 'ventured': 4, 'taste': 2, 'finding': 3, 'fact': 8, 'mixed': 2, 'flavour': 1, 'cherrytart': 1, 'custard': 1, 'pineapple': 1, 'roast': 1, 'turkey': 1, 'toffee': 1, 'buttered': 1, 'toast': 1, 'finished': 12, 'curious': 19, 'feeling': 7, 'ten': 6, 'face': 14, 'brightened': 2, 'size': 13, 'lovely': 2, 'waited': 11, 'minutes': 11, 'shrink': 1, 'nervous': 5, 'altogether': 5, 'candle': 3, 'fancy': 5, 'flame': 1, 'blown': 1, 'thing': 49, 'decided': 3, 'possibly': 3, 'reach': 4, 'plainly': 1, 'best': 12, 'climb': 1, 'legs': 3, 'slippery': 1, 'sat': 17, 'cried': 20, 'theres': 24, 'crying': 2, 'sharply': 4, 'advise': 1, 'leave': 9, 'minute': 21, 'generally': 7, 'gave': 15, 'advice': 2, 'seldom': 1, 'followed': 8, 'scolded': 1, 'severely': 4, 'bring': 3, 'tears': 11, 'remembered': 5, 'box': 4, 'cheated': 1, 'game': 12, 'croquet': 6, 'playing': 2, 'child': 10, 'fond': 3, 'pretending': 1, 'two': 39, 'pretend': 1, 'hardly': 12, 'enough': 17, 'left': 14, 'respectable': 1, 'person': 4, 'eye': 7, 'lying': 8, 'cake': 3, 'currants': 1, 'makes': 11, 'grow': 13, 'smaller': 3, 'creep': 1, 'dont': 60, 'care': 4, 'happens': 5, 'ate': 1, 'anxiously': 14, 'holding': 3, 'growing': 11, 'surprised': 7, 'remained': 3, 'sure': 24, 'eats': 1, 'expecting': 3, 'dull': 3, 'life': 11, 'common': 1, 'set': 14, 'work': 8, 'ii': 2, 'pool': 10, 'curiouser': 2, 'forgot': 2, 'speak': 14, 'english': 6, 'opening': 3, 'largest': 1, 'goodbye': 1, 'far': 13, 'shoes': 7, 'stockings': 1, 'dears': 3, 'shant': 6, 'able': 1, 'deal': 12, 'kind': 7, 'wont': 24, 'want': 9, 'give': 12, 'pair': 5, 'boots': 4, 'christmas': 1, 'planning': 1, 'carrier': 1, 'sending': 2, 'presents': 2, 'ones': 2, 'odd': 1, 'directions': 3, 'foot': 10, 'esq': 1, 'hearthrug': 1, 'fender': 1, 'love': 3, 'nonsense': 7, 'struck': 2, 'nine': 5, 'hopeless': 1, 'cry': 3, 'ashamed': 2, 'stop': 6, 'shedding': 1, 'gallons': 1, 'reaching': 1, 'heard': 30, 'pattering': 3, 'distance': 7, 'hastily': 16, 'dried': 1, 'returning': 1, 'splendidly': 1, 'dressed': 1, 'kid': 5, 'gloves': 10, 'fan': 10, 'trotting': 2, 'muttering': 3, 'duchess': 39, 'savage': 4, 'kept': 13, 'desperate': 1, 'ready': 8, 'help': 9, 'timid': 3, 'voice': 47, 'sir': 7, 'violently': 4, 'dropped': 5, 'skurried': 1, 'darkness': 1, 'hard': 8, 'fanning': 1, 'queer': 11, 'everything': 10, 'today': 4, 'yesterday': 3, 'usual': 5, 'changed': 8, 'night': 3, 'morning': 5, 'different': 9, 'ah': 5, 'puzzle': 1, 'thinking': 11, 'knew': 14, 'age': 4, 'ada': 1, 'hair': 7, 'goes': 7, 'ringlets': 2, 'mine': 8, 'doesnt': 16, 'cant': 28, 'mabel': 4, 'sorts': 3, 'knows': 2, 'besides': 4, 'shes': 7, 'andoh': 2, 'puzzling': 4, 'try': 12, 'used': 12, 'times': 6, 'five': 8, 'twelve': 4, 'six': 2, 'thirteen': 1, 'seven': 6, 'isoh': 2, 'twenty': 1, 'multiplication': 1, 'signify': 1, 'lets': 5, 'geography': 1, 'london': 1, 'capital': 4, 'paris': 2, 'rome': 1, 'romeno': 1, 'wrong': 5, 'doth': 3, 'crossed': 3, 'hands': 12, 'lap': 2, 'repeat': 7, 'sounded': 5, 'hoarse': 3, 'strange': 5, 'crocodile': 1, 'improve': 1, 'shining': 1, 'tail': 9, 'pour': 1, 'waters': 1, 'nile': 1, 'scale': 1, 'cheerfully': 1, 'seems': 5, 'grin': 6, 'neatly': 2, 'spread': 3, 'claws': 2, 'welcome': 1, 'fishes': 1, 'gently': 3, 'smiling': 2, 'jaws': 2, 'live': 8, 'poky': 1, 'toys': 1, 'play': 8, 'learn': 7, 'stay': 5, 'putting': 3, 'till': 21, 'elsebut': 1, 'sudden': 5, 'burst': 1, 'alone': 4, 'rabbits': 4, 'done': 15, 'measure': 1, 'nearly': 11, 'guess': 3, 'shrinking': 4, 'rapidly': 2, 'cause': 3, 'avoid': 1, 'narrow': 2, 'escape': 4, 'frightened': 7, 'change': 14, 'existence': 1, 'speed': 1, 'worse': 3, 'declare': 2, 'bad': 2, 'slipped': 3, 'splash': 1, 'chin': 7, 'salt': 2, 'water': 4, 'somehow': 1, 'sea': 13, 'case': 5, 'railway': 2, 'seaside': 1, 'general': 3, 'conclusion': 2, 'wherever': 2, 'coast': 1, 'number': 5, 'bathing': 1, 'machines': 1, 'digging': 4, 'sand': 1, 'wooden': 1, 'spades': 1, 'lodging': 1, 'houses': 1, 'station': 1, 'wept': 1, 'hadnt': 8, 'swam': 5, 'punished': 1, 'suppose': 14, 'drowned': 1, 'something': 18, 'splashing': 2, 'nearer': 5, 'walrus': 1, 'hippopotamus': 1, 'talk': 14, 'harm': 1, 'swimming': 2, 'speaking': 5, 'brothers': 1, 'latin': 1, 'grammar': 1, 'mouseof': 1, 'mouseto': 1, 'mousea': 1, 'mouseo': 1, 'inquisitively': 1, 'wink': 2, 'understand': 6, 'daresay': 1, 'french': 4, 'william': 7, 'conqueror': 2, 'history': 7, 'clear': 2, 'notion': 3, 'ago': 2, 'ou': 1, 'est': 1, 'chatte': 1, 'sentence': 6, 'lessonbook': 1, 'leap': 1, 'quiver': 1, 'fright': 2, 'beg': 8, 'pardon': 6, 'animals': 5, 'feelings': 2, 'shrill': 5, 'passionate': 1, 'soothing': 1, 'tone': 40, 'angry': 5, 'yet': 22, 'show': 3, 'youd': 10, 'quiet': 2, 'lazily': 1, 'sits': 1, 'purring': 2, 'nicely': 2, 'fire': 3, 'licking': 1, 'paws': 4, 'washing': 2, 'faceand': 1, 'soft': 1, 'nurseand': 1, 'catching': 2, 'miceoh': 1, 'bristling': 1, 'offended': 10, 'trembling': 6, 'subject': 6, 'family': 1, 'always': 12, 'hated': 1, 'nasty': 1, 'vulgar': 1, 'youare': 1, 'fondofof': 1, 'dogs': 4, 'eagerly': 8, 'dog': 2, 'brighteyed': 1, 'terrier': 1, 'curly': 1, 'brown': 2, 'fetch': 7, 'throw': 3, 'sit': 8, 'dinner': 2, 'thingsi': 1, 'themand': 2, 'belongs': 2, 'farmer': 1, 'says': 4, 'useful': 2, 'hundred': 1, 'pounds': 1, 'kills': 1, 'rats': 1, 'sorrowful': 2, 'commotion': 1, 'called': 15, 'softly': 1, 'pale': 4, 'passion': 3, 'us': 14, 'shore': 3, 'youll': 6, 'hate': 1, 'crowded': 5, 'birds': 9, 'duck': 4, 'dodo': 13, 'lory': 7, 'eaglet': 3, 'creatures': 10, 'whole': 13, 'party': 8, 'iii': 1, 'caucusrace': 3, 'tale': 4, 'queerlooking': 1, 'assembled': 2, 'bankthe': 1, 'draggled': 1, 'feathers': 1, 'fur': 3, 'clinging': 1, 'dripping': 1, 'wet': 2, 'cross': 1, 'uncomfortable': 4, 'course': 25, 'consultation': 1, 'familiarly': 1, 'known': 1, 'argument': 4, 'last': 33, 'sulky': 3, 'older': 2, 'better': 14, 'allow': 3, 'knowing': 2, 'old': 19, 'positively': 1, 'refused': 1, 'authority': 2, 'ring': 2, 'fixed': 1, 'cold': 1, 'ahem': 1, 'important': 5, 'driest': 1, 'silence': 14, 'whose': 2, 'favoured': 1, 'pope': 1, 'submitted': 1, 'wanted': 4, 'leaders': 1, 'accustomed': 1, 'usurpation': 1, 'conquest': 1, 'edwin': 2, 'morcar': 2, 'earls': 2, 'mercia': 2, 'northumbria': 2, 'ugh': 2, 'shiver': 1, 'frowning': 4, 'politely': 6, 'proceed': 2, 'declared': 1, 'stigand': 1, 'patriotic': 1, 'archbishop': 2, 'canterbury': 1, 'advisable': 2, 'replied': 29, 'crossly': 1, 'means': 4, 'frog': 2, 'worm': 1, 'notice': 5, 'hurriedly': 2, 'edgar': 1, 'atheling': 1, 'meet': 2, 'offer': 2, 'crown': 3, 'williams': 1, 'conduct': 1, 'moderate': 1, 'insolence': 1, 'normans': 1, 'continued': 9, 'turning': 12, 'spoke': 16, 'melancholy': 6, 'solemnly': 4, 'rising': 1, 'move': 3, 'meeting': 1, 'adjourn': 1, 'immediate': 1, 'adoption': 1, 'energetic': 1, 'remedies': 1, 'meaning': 8, 'whats': 5, 'believe': 9, 'bent': 1, 'hide': 1, 'smile': 2, 'tittered': 1, 'audibly': 1, 'paused': 1, 'inclined': 1, 'explain': 10, 'winter': 1, 'racecourse': 1, 'circle': 1, 'exact': 1, 'shape': 1, 'placed': 1, 'three': 26, 'running': 8, 'liked': 6, 'easy': 2, 'race': 2, 'hour': 2, 'panting': 2, 'pressed': 3, 'forehead': 2, 'position': 2, 'shakespeare': 1, 'rest': 10, 'everybody': 8, 'prizes': 5, 'chorus': 6, 'voices': 2, 'asked': 17, 'pointing': 4, 'calling': 1, 'confused': 4, 'despair': 1, 'pulled': 1, 'comfits': 2, 'luckily': 2, 'handed': 3, 'exactly': 8, 'apiece': 1, 'prize': 1, 'gravely': 3, 'thimble': 4, 'presented': 1, 'acceptance': 1, 'elegant': 1, 'short': 4, 'speech': 3, 'cheered': 3, 'absurd': 2, 'grave': 3, 'dare': 5, 'laugh': 1, 'simply': 2, 'bowed': 4, 'looking': 31, 'solemn': 3, 'caused': 2, 'noise': 3, 'confusion': 5, 'complained': 1, 'choked': 3, 'patted': 1, 'begged': 1, 'promised': 1, 'hatec': 1, 'added': 23, 'whisper': 3, 'sad': 3, 'sighing': 3, 'mouses': 1, 'call': 9, 'fury': 3, 'met': 3, 'law': 2, 'prosecute': 1, 'denial': 1, 'trial': 7, 'cur': 1, 'jury': 17, 'judge': 4, 'wasting': 2, 'breath': 4, 'cunning': 1, 'condemn': 1, 'death': 1, 'attending': 3, 'humbly': 2, 'fifth': 1, 'bend': 2, 'angrily': 9, 'knot': 2, 'undo': 1, 'insult': 1, 'mean': 10, 'pleaded': 3, 'easily': 3, 'growled': 1, 'reply': 5, 'finish': 5, 'story': 8, 'others': 7, 'joined': 3, 'shook': 9, 'impatiently': 5, 'quicker': 1, 'pity': 3, 'sighed': 5, 'crab': 3, 'daughter': 1, 'lesson': 1, 'lose': 1, 'temper': 5, 'tongue': 4, 'young': 5, 'snappishly': 1, 'patience': 1, 'oyster': 1, 'addressing': 1, 'nobody': 8, 'particular': 4, 'shed': 2, 'venture': 3, 'pet': 1, 'dinahs': 1, 'bird': 2, 'sensation': 2, 'magpie': 1, 'wrapping': 1, 'carefully': 3, 'remarking': 3, 'nightair': 1, 'suit': 3, 'throat': 2, 'canary': 1, 'bed': 1, 'various': 1, 'pretexts': 1, 'moved': 5, 'mentioned': 3, 'lonely': 2, 'lowspirited': 1, 'footsteps': 2, 'iv': 1, 'sends': 1, 'bill': 12, 'executed': 6, 'ferrets': 2, 'guessed': 3, 'goodnaturedly': 1, 'hunting': 3, 'nowhere': 2, 'seeneverything': 1, 'since': 4, 'swim': 5, 'vanished': 4, 'completely': 1, 'mary': 4, 'ann': 4, 'run': 4, 'quick': 2, 'direction': 5, 'pointed': 1, 'mistake': 3, 'housemaid': 1, 'hell': 1, 'finds': 1, 'id': 11, 'glovesthat': 1, 'neat': 1, 'brass': 1, 'plate': 3, 'w': 1, 'engraved': 1, 'knocking': 3, 'upstairs': 1, 'lest': 1, 'real': 3, 'messages': 2, 'fancying': 1, 'directly': 2, 'nurse': 2, 'theyd': 4, 'ordering': 2, 'tidy': 1, 'room': 13, 'window': 8, 'hoped': 1, 'pairs': 1, 'stood': 7, 'nevertheless': 1, 'uncorked': 1, 'lips': 1, 'interesting': 5, 'whenever': 1, 'expected': 1, 'drunk': 2, 'pressing': 1, 'ceiling': 1, 'stoop': 2, 'save': 1, 'broken': 6, 'enoughi': 1, 'moreas': 1, 'doori': 1, 'kneel': 1, 'floor': 3, 'effect': 3, 'elbow': 3, 'arm': 12, 'curled': 2, 'resource': 1, 'chimney': 5, 'whatever': 3, 'become': 5, 'magic': 1, 'full': 6, 'grew': 1, 'chance': 4, 'unhappy': 2, 'pleasanter': 1, 'wasnt': 11, 'ordered': 4, 'gone': 13, 'rabbitholeand': 1, 'yetand': 1, 'yetits': 1, 'fairytales': 1, 'fancied': 2, 'write': 6, 'onebut': 1, 'grown': 7, 'least': 8, 'thatll': 1, 'comfort': 1, 'waynever': 1, 'woman': 2, 'thenalways': 1, 'shouldnt': 5, 'foolish': 1, 'answered': 4, 'lessonbooks': 1, 'taking': 5, 'outside': 4, 'stopped': 3, 'trembled': 2, 'forgetting': 3, 'reason': 9, 'inwards': 1, 'attempt': 1, 'proved': 2, 'failure': 1, 'snatch': 2, 'shriek': 5, 'crash': 2, 'concluded': 2, 'possible': 1, 'cucumberframe': 1, 'voicethe': 1, 'rabbitspat': 1, 'pat': 2, 'apples': 2, 'yer': 4, 'honour': 4, 'sounds': 4, 'pronounced': 1, 'arrum': 1, 'goose': 2, 'fills': 1, 'business': 7, 'whispers': 1, 'coward': 1, 'shrieks': 1, 'cucumberframes': 1, 'pulling': 1, 'hearing': 4, 'rumbling': 1, 'cartwheels': 1, 'together': 9, 'wheres': 2, 'ladderwhy': 1, 'bills': 3, 'otherbill': 1, 'ladhere': 1, 'em': 3, 'cornerno': 1, 'tie': 1, 'firstthey': 1, 'yetoh': 1, 'ropewill': 1, 'bearmind': 1, 'loose': 1, 'slateoh': 1, 'loud': 6, 'crashnow': 1, 'thatit': 1, 'fancywhos': 1, 'chimneynay': 1, 'itthat': 1, 'thenbills': 1, 'downhere': 1, 'master': 3, 'shy': 1, 'place': 8, 'fireplace': 1, 'kick': 3, 'drew': 5, 'animal': 1, 'scratching': 1, 'scrambling': 1, 'sharp': 6, 'alongcatch': 1, 'voiceshold': 1, 'headbrandy': 1, 'nowdont': 1, 'choke': 1, 'himhow': 1, 'fellow': 4, 'feeble': 2, 'squeaking': 2, 'knowno': 1, 'thank': 4, 'ye': 1, 'nowbut': 1, 'flustered': 1, 'youall': 1, 'comes': 2, 'jackinthebox': 1, 'skyrocket': 1, 'dead': 4, 'instantly': 5, 'sense': 3, 'moving': 3, 'barrowful': 2, 'doubt': 4, 'shower': 2, 'pebbles': 2, 'rattling': 2, 'hit': 2, 'shouted': 9, 'produced': 1, 'surprise': 5, 'cakes': 3, 'lay': 4, 'swallowed': 1, 'delighted': 2, 'crowd': 4, 'lizard': 5, 'held': 4, 'guineapigs': 4, 'giving': 2, 'rush': 2, 'appeared': 8, 'safe': 2, 'thick': 1, 'wood': 7, 'wandered': 2, 'plan': 4, 'excellent': 2, 'arranged': 1, 'difficulty': 4, 'smallest': 2, 'peering': 1, 'trees': 7, 'bark': 2, 'enormous': 1, 'puppy': 6, 'feebly': 1, 'stretching': 2, 'paw': 3, 'touch': 1, 'coaxing': 2, 'whistle': 1, 'terribly': 1, 'hungry': 3, 'spite': 1, 'picked': 3, 'stick': 4, 'whereupon': 1, 'yelp': 1, 'rushed': 1, 'worry': 1, 'dodged': 1, 'thistle': 2, 'keep': 11, 'tumbled': 1, 'heels': 1, 'carthorse': 1, 'trampled': 1, 'series': 1, 'charges': 1, 'forwards': 1, 'barking': 1, 'hoarsely': 1, 'mouth': 10, 'puppys': 1, 'faint': 1, 'leant': 1, 'buttercup': 1, 'fanned': 1, 'teaching': 1, 'tricks': 1, 'ifif': 1, 'seehow': 1, 'blades': 1, 'grass': 4, 'circumstances': 1, 'mushroom': 8, 'height': 5, 'stretched': 2, 'tiptoe': 2, 'edge': 3, 'immediately': 3, 'caterpillar': 27, 'arms': 6, 'folded': 3, 'quietly': 5, 'smoking': 2, 'hookah': 5, 'v': 1, 'addressed': 2, 'languid': 1, 'encouraging': 2, 'shyly': 1, 'present': 3, 'sternly': 1, 'clearly': 1, 'sizes': 1, 'confusing': 3, 'isnt': 7, 'havent': 8, 'turn': 10, 'chrysalisyou': 1, 'knowand': 1, 'butterfly': 1, 'may': 13, 'contemptuously': 2, 'brought': 3, 'irritated': 1, 'caterpillars': 1, 'remarks': 3, 'state': 1, 'promising': 1, 'swallowing': 1, 'anger': 2, 'wait': 1, 'puffed': 1, 'unfolded': 2, 'usedand': 1, 'busy': 2, 'bee': 1, 'father': 6, 'man': 5, 'incessantly': 1, 'stand': 6, 'youth': 6, 'son': 1, 'feared': 1, 'injure': 1, 'brain': 1, 'perfectly': 4, 'none': 4, 'uncommonly': 1, 'fat': 1, 'backsomersault': 1, 'pray': 3, 'sage': 1, 'grey': 1, 'limbs': 1, 'supple': 1, 'ointmentone': 1, 'shilling': 1, 'sell': 2, 'couple': 1, 'weak': 2, 'tougher': 1, 'suet': 1, 'bones': 1, 'beak': 1, 'argued': 1, 'wife': 1, 'muscular': 1, 'strength': 1, 'jaw': 1, 'lasted': 2, 'steady': 1, 'balanced': 1, 'eel': 1, 'nose': 8, 'awfully': 1, 'clever': 2, 'questions': 3, 'airs': 1, 'stuff': 4, 'timidly': 9, 'altered': 1, 'decidedly': 4, 'changing': 2, 'often': 5, 'contradicted': 1, 'losing': 1, 'content': 1, 'wretched': 2, 'rearing': 1, 'upright': 1, 'piteous': 1, 'patiently': 2, 'chose': 2, 'yawned': 2, 'crawled': 1, 'merely': 2, 'taller': 2, 'shorter': 2, 'thoughtfully': 4, 'difficult': 2, 'broke': 2, 'nibbled': 2, 'righthand': 2, 'violent': 2, 'blow': 2, 'underneath': 1, 'closely': 1, 'swallow': 1, 'morsel': 1, 'lefthand': 2, 'free': 3, 'alarm': 2, 'immense': 1, 'length': 1, 'rise': 1, 'stalk': 1, 'green': 4, 'result': 1, 'follow': 2, 'shaking': 3, 'distant': 2, 'serpent': 9, 'succeeded': 3, 'curving': 1, 'graceful': 1, 'zigzag': 1, 'dive': 1, 'tops': 1, 'wandering': 2, 'hiss': 1, 'draw': 7, 'pigeon': 12, 'flown': 1, 'beating': 2, 'wings': 1, 'screamed': 4, 'indignantly': 4, 'repeated': 10, 'subdued': 1, 'sob': 1, 'roots': 1, 'banks': 1, 'hedges': 1, 'serpents': 3, 'pleasing': 1, 'puzzled': 9, 'hatching': 1, 'eggs': 5, 'lookout': 1, 'sleep': 6, 'weeks': 1, 'sorry': 1, 'youve': 6, 'annoyed': 1, 'taken': 4, 'highest': 1, 'tree': 5, 'raising': 1, 'needs': 1, 'wriggling': 1, 'sky': 4, 'aim': 1, 'invent': 1, 'iim': 1, 'doubtfully': 2, 'changes': 2, 'deepest': 1, 'contempt': 1, 'girls': 3, 'denying': 1, 'telling': 2, 'tasted': 3, 'egg': 1, 'truthful': 1, 'theyre': 13, 'silent': 7, 'adding': 1, 'matters': 2, 'raw': 1, 'settled': 3, 'nest': 1, 'crouched': 1, 'entangled': 2, 'branches': 2, 'untwist': 1, 'pieces': 3, 'nibbling': 3, 'bringing': 3, 'beautiful': 14, 'gardenhow': 1, 'whoever': 1, 'lives': 4, 'frighten': 1, 'wits': 1, 'vi': 1, 'pig': 8, 'pepper': 7, 'footman': 10, 'livery': 3, 'woodshe': 1, 'considered': 3, 'otherwise': 4, 'judging': 1, 'fishand': 1, 'rapped': 1, 'loudly': 3, 'knuckles': 1, 'footmen': 1, 'powdered': 1, 'crept': 1, 'fishfootman': 2, 'producing': 1, 'letter': 3, 'invitation': 2, 'queen': 68, 'frogfootman': 1, 'order': 3, 'curls': 1, 'laughed': 2, 'ground': 4, 'staring': 3, 'stupidly': 1, 'knocked': 1, 'reasons': 1, 'secondly': 2, 'inside': 2, 'extraordinary': 2, 'withina': 1, 'constant': 2, 'howling': 3, 'sneezing': 6, 'dish': 4, 'kettle': 1, 'instance': 3, 'knock': 1, 'uncivil': 1, 'questionshow': 1, 'remarked': 10, 'tomorrow': 1, 'skimming': 1, 'footmans': 1, 'grazed': 1, 'maybe': 1, 'louder': 1, 'told': 6, 'dreadful': 2, 'muttered': 2, 'argue': 1, 'drive': 2, 'crazy': 1, 'repeating': 3, 'remark': 10, 'variations': 1, 'days': 4, 'whistling': 1, 'desperately': 1, 'hes': 3, 'idiotic': 1, 'kitchen': 4, 'smoke': 1, 'stool': 1, 'nursing': 3, 'baby': 13, 'cook': 13, 'leaning': 2, 'stirring': 2, 'cauldron': 2, 'soup': 18, 'sneezed': 1, 'occasionally': 1, 'alternately': 1, 'moments': 2, 'pause': 2, 'sneeze': 2, 'hearth': 1, 'grinning': 1, 'ear': 6, 'manners': 1, 'grins': 1, 'cheshire': 7, 'violence': 1, 'courage': 3, 'grinned': 3, 'pleased': 7, 'introduce': 2, 'fix': 1, 'throwing': 2, 'within': 1, 'fireirons': 1, 'saucepans': 1, 'plates': 2, 'dishes': 2, 'already': 2, 'blows': 1, 'jumping': 4, 'agony': 1, 'terror': 1, 'precious': 1, 'unusually': 1, 'saucepan': 1, 'flew': 1, 'carried': 4, 'minded': 1, 'growl': 3, 'faster': 3, 'advantage': 3, 'takes': 2, 'twentyfour': 2, 'hours': 4, 'axis': 1, 'axes': 1, 'chop': 1, 'glanced': 1, 'meant': 5, 'hint': 2, 'busily': 4, 'bother': 1, 'abide': 1, 'figures': 1, 'singing': 2, 'lullaby': 1, 'shake': 1, 'line': 2, 'roughly': 1, 'boy': 2, 'beat': 4, 'sneezes': 2, 'annoy': 1, 'teases': 1, 'wow': 6, 'sang': 2, 'verse': 4, 'song': 7, 'tossing': 3, 'howled': 1, 'thoroughly': 2, 'enjoy': 1, 'pleases': 1, 'flinging': 1, 'threw': 2, 'fryingpan': 1, 'missed': 2, 'caught': 3, 'shaped': 3, 'creature': 4, 'starfish': 1, 'snorting': 1, 'steamengine': 1, 'doubling': 1, 'straightening': 1, 'proper': 3, 'twist': 2, 'tight': 1, 'prevent': 1, 'undoing': 1, 'kill': 1, 'murder': 1, 'grunted': 4, 'grunt': 1, 'expressing': 1, 'turnup': 1, 'snout': 1, 'also': 2, 'extremely': 2, 'sobbing': 3, 'seriously': 1, 'sobbed': 1, 'neither': 2, 'less': 4, 'carry': 1, 'relieved': 1, 'trot': 1, 'dreadfully': 6, 'ugly': 2, 'handsome': 1, 'pigs': 2, 'startled': 2, 'seeing': 1, 'bough': 1, 'yards': 1, 'natured': 1, 'teeth': 1, 'treated': 1, 'respect': 1, 'puss': 1, 'wider': 1, 'depends': 1, 'explanation': 2, 'denied': 2, 'waving': 5, 'hatter': 55, 'march': 33, 'hare': 31, 'visit': 1, 'mad': 14, 'grant': 1, 'growls': 1, 'wags': 1, 'wag': 1, 'therefore': 1, 'growling': 1, 'invited': 2, 'happening': 1, 'bythebye': 1, 'became': 2, 'appear': 2, 'hatters': 2, 'raving': 2, 'madat': 1, 'branch': 1, 'fig': 1, 'appearing': 1, 'vanishing': 1, 'giddy': 2, 'ending': 1, 'farther': 1, 'chimneys': 1, 'thatched': 1, 'raised': 2, 'towards': 1, 'instead': 3, 'vii': 1, 'teaparty': 2, 'front': 2, 'tea': 12, 'dormouse': 39, 'fast': 4, 'asleep': 8, 'using': 2, 'cushion': 2, 'resting': 2, 'elbows': 1, 'armchair': 1, 'wine': 2, 'civil': 3, 'laid': 2, 'wants': 2, 'cutting': 1, 'personal': 2, 'severity': 1, 'rude': 2, 'wide': 2, 'raven': 1, 'writingdesk': 1, 'fun': 3, 'theyve': 1, 'riddlesi': 1, 'leastat': 1, 'saythats': 1, 'breathe': 3, 'ravens': 1, 'writingdesks': 1, 'break': 2, 'month': 2, 'uneasily': 2, 'fourth': 1, 'butter': 3, 'works': 1, 'meekly': 2, 'crumbs': 4, 'grumbled': 1, 'breadknife': 1, 'gloomily': 1, 'cup': 2, 'shoulder': 4, 'tells': 2, 'oclock': 3, 'year': 2, 'readily': 1, 'stays': 1, 'poured': 1, 'riddle': 1, 'slightest': 1, 'wearily': 1, 'waste': 1, 'riddles': 1, 'answers': 1, 'cautiously': 3, 'music': 3, 'accounts': 1, 'terms': 1, 'hed': 1, 'clock': 2, 'twinkling': 4, 'halfpast': 2, 'theni': 1, 'mournfully': 1, 'quarrelled': 1, 'marchjust': 1, 'spoon': 2, 'concert': 2, 'given': 1, 'hearts': 8, 'sing': 6, 'twinkle': 8, 'fly': 3, 'teatray': 1, 'pinch': 2, 'bawled': 1, 'murdering': 1, 'exclaimed': 6, 'mournful': 1, 'teathings': 1, 'sigh': 4, 'weve': 2, 'wash': 2, 'whiles': 1, 'interrupted': 9, 'yawning': 2, 'vote': 1, 'lady': 3, 'alarmed': 1, 'proposal': 1, 'wake': 2, 'pinched': 2, 'fellows': 1, 'sisters': 2, 'names': 2, 'elsie': 1, 'lacie': 1, 'tillie': 1, 'lived': 3, 'bottom': 4, 'interest': 1, 'eating': 1, 'drinking': 1, 'treacle': 5, 'ways': 1, 'living': 2, 'opinion': 1, 'whos': 1, 'triumphantly': 2, 'helped': 1, 'breadandbutter': 5, 'treaclewell': 1, 'sh': 2, 'sulkily': 2, 'interrupt': 1, 'consented': 1, 'sistersthey': 1, 'learning': 2, 'promise': 1, 'clean': 1, 'dormouses': 1, 'unwillingly': 1, 'upset': 3, 'milkjug': 1, 'offend': 1, 'waterwell': 1, 'treaclewelleh': 1, 'choosing': 1, 'interrupting': 2, 'rubbing': 2, 'manner': 2, 'thingseverything': 1, 'begins': 4, 'closed': 2, 'doze': 1, 'woke': 1, 'mousetraps': 1, 'moon': 1, 'memory': 1, 'muchness': 2, 'muchnessdid': 1, 'drawing': 1, 'piece': 5, 'rudeness': 1, 'bear': 1, 'disgust': 1, 'teapot': 1, 'stupidest': 1, 'leading': 1, 'everythings': 2, 'unlocking': 1, 'thenshe': 1, 'flowerbeds': 1, 'viii': 1, 'queens': 8, 'croquetground': 3, 'rosetree': 4, 'entrance': 1, 'roses': 3, 'gardeners': 8, 'painting': 2, 'red': 2, 'paint': 1, 'jogged': 1, 'blame': 1, 'deserved': 1, 'beheaded': 3, 'spoken': 1, 'himit': 1, 'tuliproots': 1, 'onions': 1, 'flung': 1, 'brush': 1, 'unjust': 1, 'chanced': 1, 'watching': 3, 'checked': 3, 'afore': 1, 'flat': 2, 'faces': 5, 'eager': 3, 'soldiers': 10, 'carrying': 2, 'clubs': 1, 'oblong': 1, 'corners': 1, 'courtiers': 2, 'ornamented': 2, 'diamonds': 1, 'royal': 2, 'merrily': 1, 'couples': 1, 'guests': 3, 'mostly': 2, 'kings': 3, 'recognised': 1, 'noticing': 1, 'knave': 9, 'crimson': 2, 'velvet': 1, 'procession': 5, 'king': 61, 'doubtful': 2, 'lie': 2, 'rule': 5, 'processions': 1, 'opposite': 1, 'smiled': 2, 'idiot': 1, 'majesty': 12, 'pack': 5, 'cards': 3, 'neednt': 3, 'pattern': 1, 'backs': 1, 'glaring': 1, 'beast': 1, 'consider': 4, 'bowing': 1, 'humble': 1, 'knee': 5, 'meanwhile': 1, 'examining': 1, 'remaining': 1, 'execute': 1, 'unfortunate': 3, 'protection': 1, 'flowerpot': 1, 'marched': 1, 'evidently': 1, 'roared': 1, 'itsits': 1, 'fine': 2, 'peeping': 1, 'hush': 3, 'whispered': 5, 'execution': 2, 'boxed': 1, 'scream': 2, 'laughter': 1, 'places': 2, 'thunder': 1, 'ridges': 1, 'furrows': 1, 'balls': 1, 'hedgehogs': 3, 'mallets': 1, 'flamingoes': 2, 'double': 1, 'arches': 4, 'chief': 1, 'managing': 1, 'flamingo': 5, 'body': 2, 'tucked': 3, 'comfortably': 1, 'straightened': 1, 'hedgehog': 7, 'expression': 1, 'bursting': 1, 'laughing': 2, 'provoking': 1, 'unrolled': 2, 'act': 1, 'crawling': 1, 'ridge': 1, 'furrow': 1, 'send': 1, 'doubledup': 1, 'parts': 1, 'players': 4, 'played': 1, 'turns': 3, 'quarrelling': 2, 'fighting': 1, 'furious': 1, 'stamping': 2, 'shouting': 2, 'uneasy': 1, 'dispute': 2, 'beheading': 1, 'alive': 3, 'appearance': 1, 'nodded': 1, 'account': 1, 'someone': 1, 'fairly': 1, 'complaining': 1, 'quarrel': 1, 'oneself': 1, 'speakand': 1, 'attends': 1, 'arch': 1, 'groundand': 1, 'croqueted': 1, 'win': 1, 'finishing': 1, 'friend': 3, 'minea': 1, 'kiss': 1, 'likes': 1, 'impertinent': 1, 'removed': 2, 'passing': 1, 'settling': 1, 'difficulties': 1, 'executioner': 5, 'screaming': 1, 'search': 1, 'engaged': 1, 'fight': 2, 'croqueting': 1, 'helpless': 1, 'collected': 2, 'appealed': 1, 'settle': 1, 'arguments': 1, 'executioners': 1, 'unless': 2, 'werent': 1, 'anxious': 3, 'prison': 1, 'arrow': 1, 'fading': 1, 'entirely': 2, 'disappeared': 2, 'wildly': 2, 'ix': 1, 'mock': 56, 'turtles': 4, 'affectionately': 1, 'pleasant': 1, 'hopeful': 1, 'withoutmaybe': 1, 'hottempered': 1, 'vinegar': 1, 'sourand': 1, 'camomile': 1, 'bitterandand': 1, 'barleysugar': 1, 'sweettempered': 1, 'stingy': 1, 'forget': 2, 'moral': 8, 'hasnt': 2, 'tut': 2, 'squeezed': 1, 'closer': 1, 'keeping': 2, 'uncomfortably': 1, 'bore': 1, 'games': 2, 'tis': 5, 'minding': 1, 'istake': 1, 'morals': 1, 'waist': 1, 'experiment': 2, 'bite': 2, 'mustard': 2, 'isbirds': 1, 'feather': 1, 'flock': 1, 'mineral': 1, 'agree': 2, 'mustardmine': 1, 'isthe': 1, 'attended': 1, 'vegetable': 1, 'isbe': 1, 'beor': 1, 'simplynever': 1, 'imagine': 2, 'cheap': 1, 'birthday': 1, 'dig': 1, 'worried': 1, 'duchesss': 3, 'died': 1, 'favourite': 1, 'linked': 1, 'tremble': 1, 'thunderstorm': 1, 'fair': 1, 'warning': 1, 'choice': 2, 'absence': 1, 'shade': 1, 'delay': 1, 'cost': 1, 'sentenced': 1, 'custody': 2, 'turtle': 56, 'company': 1, 'pardoned': 1, 'executions': 2, 'gryphon': 55, 'sun': 2, 'picture': 1, 'lazy': 1, 'leaving': 1, 'rubbed': 1, 'watched': 2, 'chuckled': 1, 'executes': 1, 'ledge': 1, 'rock': 1, 'heart': 2, 'pitied': 1, 'sorrow': 2, 'hollow': 1, 'occasional': 1, 'exclamation': 1, 'hjckrrh': 1, 'heavy': 2, 'calmly': 1, 'school': 5, 'turtlewe': 1, 'tortoise': 3, 'sink': 1, 'maynt': 1, 'educationsin': 1, 'dayschool': 1, 'proud': 2, 'extras': 1, 'learned': 1, 'relief': 2, 'washingextra': 1, 'afford': 1, 'regular': 2, 'inquired': 1, 'reeling': 1, 'writhing': 1, 'arithmetic': 1, 'ambition': 1, 'distraction': 1, 'uglification': 2, 'derision': 1, 'lifted': 1, 'uglifying': 1, 'beautify': 1, 'meanstomakeanythingprettier': 1, 'uglify': 1, 'simpleton': 1, 'encouraged': 1, 'mystery': 2, 'counting': 1, 'subjects': 1, 'flappers': 1, 'ancient': 1, 'modern': 1, 'seaography': 1, 'drawlingthe': 1, 'drawlingmaster': 1, 'congereel': 1, 'week': 3, 'drawling': 1, 'fainting': 1, 'coils': 1, 'stiff': 1, 'classics': 1, 'grief': 1, 'hid': 1, 'lessen': 1, 'eleventh': 1, 'holiday': 1, 'twelfth': 1, 'x': 1, 'lobster': 7, 'quadrille': 4, 'flapper': 1, 'sobs': 4, 'bone': 1, 'punching': 1, 'recovered': 2, 'cheeks': 1, 'introduced': 1, 'delightful': 2, 'dance': 13, 'form': 1, 'seashore': 1, 'lines': 1, 'seals': 1, 'salmon': 1, 'cleared': 1, 'jellyfish': 1, 'advance': 3, 'partner': 1, 'partners': 1, 'lobsters': 7, 'retire': 1, 'bound': 1, 'somersault': 1, 'capering': 1, 'yelled': 1, 'land': 1, 'figure': 3, 'dropping': 1, 'pretty': 1, 'dancing': 2, 'treading': 2, 'toes': 3, 'forepaws': 1, 'mark': 3, 'whiting': 8, 'snail': 3, 'porpoise': 4, 'shinglewill': 1, 'join': 9, 'askance': 1, 'thanked': 1, 'kindly': 2, 'scaly': 1, 'england': 1, 'france': 1, 'beloved': 1, 'theyyouve': 1, 'dinn': 2, 'tails': 3, 'mouthsand': 1, 'mouths': 3, 'eyestell': 1, 'thrown': 1, 'shiny': 1, 'blacking': 1, 'soles': 1, 'eels': 1, 'shrimp': 1, 'thoughts': 2, 'obliged': 3, 'fish': 3, 'anywhere': 1, 'journey': 1, 'purpose': 1, 'adventuresbeginning': 1, 'impatient': 1, 'explanations': 1, 'gained': 1, 'listeners': 1, 'part': 2, 'sluggard': 1, 'baked': 1, 'sugar': 1, 'eyelids': 1, 'trims': 1, 'belt': 1, 'buttons': 1, 'editions': 2, 'follows': 3, 'sands': 1, 'gay': 1, 'lark': 1, 'contemptuous': 1, 'tones': 2, 'shark': 1, 'tide': 1, 'rises': 1, 'sharks': 1, 'around': 3, 'tremulous': 1, 'uncommon': 1, 'explained': 1, 'persisted': 2, 'disobey': 1, 'owl': 3, 'panther': 3, 'sharing': 1, 'pie': 2, 'piecrust': 1, 'gravy': 1, 'meat': 1, 'share': 1, 'treat': 1, 'boon': 1, 'permitted': 1, 'received': 1, 'fork': 1, 'banquet': 1, 'hm': 1, 'accounting': 1, 'tastes': 1, 'rich': 1, 'tureen': 1, 'dainties': 1, 'evening': 2, 'beauootiful': 4, 'soooop': 7, 'eeevening': 3, 'cares': 2, 'pennyworth': 2, 'trials': 4, 'panted': 1, 'faintly': 1, 'breeze': 1, 'xi': 1, 'stole': 2, 'tarts': 7, 'seated': 1, 'throne': 1, 'arrived': 1, 'themall': 1, 'standing': 1, 'chains': 1, 'soldier': 1, 'guard': 1, 'trumpet': 3, 'scroll': 2, 'parchment': 2, 'court': 18, 'themi': 1, 'refreshments': 1, 'pass': 1, 'justice': 1, 'books': 1, 'wig': 2, 'wore': 1, 'frontispiece': 1, 'comfortable': 1, 'becoming': 1, 'jurybox': 4, 'jurors': 4, 'rightly': 1, 'jurymen': 5, 'writing': 4, 'slates': 7, 'indignant': 1, 'spectacles': 3, 'spell': 1, 'neighbour': 1, 'muddle': 1, 'slatesll': 1, 'pencil': 1, 'squeaked': 1, 'quickly': 2, 'juror': 1, 'slate': 2, 'herald': 1, 'accusation': 1, 'blew': 2, 'blasts': 2, 'summer': 2, 'verdict': 3, 'witness': 10, 'teacup': 3, 'sent': 2, 'arminarm': 1, 'fourteenth': 1, 'fifteenth': 1, 'sixteenth': 1, 'wrote': 3, 'dates': 1, 'reduced': 1, 'shillings': 1, 'pence': 1, 'hat': 1, 'stolen': 1, 'memorandum': 1, 'fidgeted': 1, 'evidence': 7, 'spot': 1, 'encourage': 1, 'shifting': 1, 'remain': 1, 'squeeze': 1, 'boldly': 1, 'reasonable': 1, 'pace': 1, 'ridiculous': 1, 'fashion': 2, 'officers': 4, 'list': 3, 'singers': 2, 'teanot': 1, 'soand': 1, 'thinand': 1, 'dunce': 1, 'twinkled': 1, 'thatonly': 1, 'deny': 2, 'denies': 1, 'bread': 1, 'andbutter': 1, 'miserable': 2, 'speaker': 1, 'suppressed': 4, 'canvas': 1, 'bag': 1, 'tied': 1, 'strings': 1, 'guineapig': 2, 'newspapers': 1, 'attempts': 1, 'applause': 1, 'understood': 1, 'lower': 1, 'officer': 1, 'pepperbox': 1, 'crossexamine': 2, 'folding': 1, 'collar': 1, 'shrieked': 1, 'behead': 1, 'suppress': 1, 'undertone': 2, 'ache': 1, 'fumbled': 1, 'xii': 1, 'flurry': 1, 'tipped': 1, 'skirt': 1, 'upsetting': 1, 'sprawling': 1, 'reminding': 1, 'globe': 1, 'goldfish': 2, 'accidentally': 1, 'dismay': 1, 'accident': 2, 'vague': 1, 'die': 1, 'emphasis': 1, 'haste': 1, 'downwards': 1, 'unable': 1, 'signifies': 1, 'shock': 1, 'pencils': 1, 'diligently': 1, 'overcome': 1, 'gazing': 1, 'unimportant': 3, 'respectful': 1, 'importantunimportant': 1, 'unimportantimportant': 1, 'notebook': 2, 'cackled': 1, 'fortytwo': 1, 'persons': 1, 'mile': 2, 'invented': 1, 'oldest': 1, 'prisoner': 1, 'toto': 1, 'directed': 2, 'verses': 4, 'prisoners': 1, 'handwriting': 1, 'queerest': 1, 'imitated': 1, 'elses': 1, 'prove': 1, 'signed': 2, 'sign': 1, 'mischief': 1, 'honest': 1, 'clapping': 1, 'proves': 2, 'guilt': 1, 'character': 1, 'push': 1, 'returned': 2, 'involved': 1, 'affair': 1, 'trusts': 1, 'fit': 3, 'obstacle': 1, 'secret': 1, 'sixpence': 1, 'atom': 2, 'attempted': 1, 'saves': 1, 'spreading': 1, 'cardboard': 1, 'clearer': 1, 'againbefore': 1, 'fits': 1, 'furiously': 1, 'inkstand': 1, 'ink': 1, 'trickling': 1, 'pun': 1, 'twentieth': 1, 'firstverdict': 1, 'purple': 1, 'rose': 1, 'flying': 1, 'brushing': 1, 'fluttered': 1, 'kissed': 1, 'wonderful': 2, 'setting': 1, 'dreaming': 1, 'dreamed': 1, 'clasped': 1, 'hersshe': 1, 'toss': 1, 'eyesand': 1, 'listened': 1, 'rustled': 1, 'bythe': 1, 'splashed': 1, 'neighbouring': 1, 'poolshe': 1, 'rattle': 1, 'teacups': 2, 'shared': 1, 'neverending': 1, 'meal': 1, 'executiononce': 1, 'pigbaby': 1, 'crashed': 1, 'itonce': 1, 'lizards': 1, 'slatepencil': 1, 'choking': 1, 'believed': 1, 'realitythe': 1, 'rustling': 1, 'rippling': 1, 'reedsthe': 1, 'tinkling': 1, 'sheep': 1, 'bells': 1, 'cries': 1, 'shepherd': 1, 'boyand': 1, 'noises': 1, 'clamour': 1, 'farmyardwhile': 1, 'lowing': 1, 'cattle': 1, 'lastly': 1, 'pictured': 1, 'aftertime': 1, 'riper': 1, 'years': 1, 'loving': 1, 'childhood': 1, 'gather': 1, 'sorrows': 1, 'joys': 1, 'remembering': 1, 'childlife': 1, 'happy': 1}\n"
     ]
    }
   ],
   "source": [
    "print(bag_of_words)"
   ]
  },
  {
   "cell_type": "code",
   "execution_count": 13,
   "metadata": {},
   "outputs": [
    {
     "name": "stdout",
     "output_type": "stream",
     "text": [
      "['alices', 'adventures', 'wonderland', 'alices', 'adventures', 'wonderland', 'lewis', 'carroll', 'millennium', 'fulcrum', 'edition', '30', 'chapter', 'rabbithole', 'alice', 'beginning', 'get', 'tired', 'sitting', 'sister', 'bank', 'nothing', 'twice', 'peeped', 'book', 'sister', 'reading', 'pictures', 'conversations', 'use', 'book', 'thought', 'alice', 'without', 'pictures', 'conversation', 'considering', 'mind', 'well', 'could', 'hot', 'day', 'made', 'feel', 'sleepy', 'stupid', 'whether', 'pleasure', 'making', 'daisychain', 'would', 'worth', 'trouble', 'getting', 'picking', 'daisies', 'suddenly', 'white', 'rabbit', 'pink', 'eyes', 'ran', 'close', 'nothing', 'remarkable', 'alice', 'think', 'much', 'way', 'hear', 'rabbit', 'say', 'oh', 'dear', 'oh', 'dear', 'shall', 'late', 'thought', 'afterwards', 'occurred', 'ought', 'wondered', 'time', 'seemed', 'quite', 'natural', 'rabbit', 'actually', 'took', 'watch', 'waistcoat', 'pocket', 'looked', 'hurried', 'alice', 'started', 'feet', 'flashed', 'across', 'mind', 'never', 'seen', 'rabbit', 'either', 'waistcoatpocket', 'watch', 'take', 'burning', 'curiosity', 'ran', 'across', 'field', 'fortunately', 'time', 'see', 'pop', 'large', 'rabbithole', 'hedge', 'another', 'moment', 'went', 'alice', 'never', 'considering', 'world', 'get', 'rabbithole', 'went', 'straight', 'like', 'tunnel', 'way', 'dipped', 'suddenly', 'suddenly', 'alice', 'moment', 'think', 'stopping', 'found', 'falling', 'deep', 'well', 'either', 'well', 'deep', 'fell', 'slowly', 'plenty', 'time', 'went', 'look', 'wonder', 'going', 'happen', 'next', 'first', 'tried', 'look', 'make', 'coming', 'dark', 'see', 'anything', 'looked', 'sides', 'well', 'noticed', 'filled', 'cupboards', 'bookshelves', 'saw', 'maps', 'pictures', 'hung', 'upon', 'pegs', 'took', 'jar', 'one', 'shelves', 'passed', 'labelled', 'orange', 'marmalade', 'great', 'disappointment', 'empty', 'like', 'drop', 'jar', 'fear', 'killing', 'somebody', 'managed', 'put', 'one', 'cupboards', 'fell', 'past', 'well', 'thought', 'alice', 'fall', 'shall', 'think', 'nothing', 'tumbling', 'stairs', 'brave', 'theyll', 'think', 'home', 'wouldnt', 'say', 'anything', 'even', 'fell', 'top', 'house', 'likely', 'true', 'would', 'fall', 'never', 'come', 'end', 'wonder', 'many', 'miles', 'ive', 'fallen', 'time', 'said', 'aloud', 'must', 'getting', 'somewhere', 'near', 'centre', 'earth', 'let', 'see', 'would', 'four', 'thousand', 'miles', 'think', 'see', 'alice', 'learnt', 'several', 'things', 'sort', 'lessons', 'schoolroom', 'though', 'good', 'opportunity', 'showing', 'knowledge', 'one', 'listen', 'still', 'good', 'practice', 'say', 'yes', 'thats', 'right', 'distancebut', 'wonder', 'latitude', 'longitude', 'ive', 'got', 'alice', 'idea', 'latitude', 'longitude', 'either', 'thought', 'nice', 'grand', 'words', 'say', 'presently', 'began', 'wonder', 'shall', 'fall', 'right', 'earth', 'funny', 'itll', 'seem', 'come', 'among', 'people', 'walk', 'heads', 'downward', 'antipathies', 'think', 'rather', 'glad', 'one', 'listening', 'time', 'didnt', 'sound', 'right', 'word', 'shall', 'ask', 'name', 'country', 'know', 'please', 'maam', 'new', 'zealand', 'australia', 'tried', 'curtsey', 'spokefancy', 'curtseying', 'youre', 'falling', 'air', 'think', 'could', 'manage', 'ignorant', 'little', 'girl', 'shell', 'think', 'asking', 'itll', 'never', 'ask', 'perhaps', 'shall', 'see', 'written', 'somewhere', 'nothing', 'else', 'alice', 'soon', 'began', 'talking', 'dinahll', 'miss', 'much', 'tonight', 'think', 'dinah', 'cat', 'hope', 'theyll', 'remember', 'saucer', 'milk', 'teatime', 'dinah', 'dear', 'wish', 'mice', 'air', 'im', 'afraid', 'might', 'catch', 'bat', 'thats', 'like', 'mouse', 'know', 'cats', 'eat', 'bats', 'wonder', 'alice', 'began', 'get', 'rather', 'sleepy', 'went', 'saying', 'dreamy', 'sort', 'way', 'cats', 'eat', 'bats', 'cats', 'eat', 'bats', 'sometimes', 'bats', 'eat', 'cats', 'see', 'couldnt', 'answer', 'either', 'question', 'didnt', 'much', 'matter', 'way', 'put', 'felt', 'dozing', 'begun', 'dream', 'walking', 'hand', 'hand', 'dinah', 'saying', 'earnestly', 'dinah', 'tell', 'truth', 'ever', 'eat', 'bat', 'suddenly', 'thump', 'thump', 'came', 'upon', 'heap', 'sticks', 'dry', 'leaves', 'fall', 'alice', 'bit', 'hurt', 'jumped', 'feet', 'moment', 'looked', 'dark', 'overhead', 'another', 'long', 'passage', 'white', 'rabbit', 'still', 'sight', 'hurrying', 'moment', 'lost', 'away', 'went', 'alice', 'like', 'wind', 'time', 'hear', 'say', 'turned', 'corner', 'oh', 'ears', 'whiskers', 'late', 'getting', 'close', 'behind', 'turned', 'corner', 'rabbit', 'longer', 'seen', 'found', 'long', 'low', 'hall', 'lit', 'row', 'lamps', 'hanging', 'roof', 'doors', 'round', 'hall', 'locked', 'alice', 'way', 'one', 'side', 'trying', 'every', 'door', 'walked', 'sadly', 'middle', 'wondering', 'ever', 'get', 'suddenly', 'came', 'upon', 'little', 'threelegged', 'table', 'made', 'solid', 'glass', 'nothing', 'except', 'tiny', 'golden', 'key', 'alices', 'first', 'thought', 'might', 'belong', 'one', 'doors', 'hall', 'alas', 'either', 'locks', 'large', 'key', 'small', 'rate', 'would', 'open', 'however', 'second', 'time', 'round', 'came', 'upon', 'low', 'curtain', 'noticed', 'behind', 'little', 'door', 'fifteen', 'inches', 'high', 'tried', 'little', 'golden', 'key', 'lock', 'great', 'delight', 'fitted', 'alice', 'opened', 'door', 'found', 'led', 'small', 'passage', 'much', 'larger', 'rathole', 'knelt', 'looked', 'along', 'passage', 'loveliest', 'garden', 'ever', 'saw', 'longed', 'get', 'dark', 'hall', 'wander', 'among', 'beds', 'bright', 'flowers', 'cool', 'fountains', 'could', 'even', 'get', 'head', 'doorway', 'even', 'head', 'would', 'go', 'thought', 'poor', 'alice', 'would', 'little', 'use', 'without', 'shoulders', 'oh', 'wish', 'could', 'shut', 'like', 'telescope', 'think', 'could', 'know', 'begin', 'see', 'many', 'outoftheway', 'things', 'happened', 'lately', 'alice', 'begun', 'think', 'things', 'indeed', 'really', 'impossible', 'seemed', 'use', 'waiting', 'little', 'door', 'went', 'back', 'table', 'half', 'hoping', 'might', 'find', 'another', 'key', 'rate', 'book', 'rules', 'shutting', 'people', 'like', 'telescopes', 'time', 'found', 'little', 'bottle', 'certainly', 'said', 'alice', 'round', 'neck', 'bottle', 'paper', 'label', 'words', 'drink', 'beautifully', 'printed', 'large', 'letters', 'well', 'say', 'drink', 'wise', 'little', 'alice', 'going', 'hurry', 'ill', 'look', 'first', 'said', 'see', 'whether', 'marked', 'poison', 'read', 'several', 'nice', 'little', 'histories', 'children', 'got', 'burnt', 'eaten', 'wild', 'beasts', 'unpleasant', 'things', 'would', 'remember', 'simple', 'rules', 'friends', 'taught', 'redhot', 'poker', 'burn', 'hold', 'long', 'cut', 'finger', 'deeply', 'knife', 'usually', 'bleeds', 'never', 'forgotten', 'drink', 'much', 'bottle', 'marked', 'poison', 'almost', 'certain', 'disagree', 'sooner', 'later', 'however', 'bottle', 'marked', 'poison', 'alice', 'ventured', 'taste', 'finding', 'nice', 'fact', 'sort', 'mixed', 'flavour', 'cherrytart', 'custard', 'pineapple', 'roast', 'turkey', 'toffee', 'hot', 'buttered', 'toast', 'soon', 'finished', 'curious', 'feeling', 'said', 'alice', 'must', 'shutting', 'like', 'telescope', 'indeed', 'ten', 'inches', 'high', 'face', 'brightened', 'thought', 'right', 'size', 'going', 'little', 'door', 'lovely', 'garden', 'first', 'however', 'waited', 'minutes', 'see', 'going', 'shrink', 'felt', 'little', 'nervous', 'might', 'end', 'know', 'said', 'alice', 'going', 'altogether', 'like', 'candle', 'wonder', 'like', 'tried', 'fancy', 'flame', 'candle', 'like', 'candle', 'blown', 'could', 'remember', 'ever', 'seen', 'thing', 'finding', 'nothing', 'happened', 'decided', 'going', 'garden', 'alas', 'poor', 'alice', 'got', 'door', 'found', 'forgotten', 'little', 'golden', 'key', 'went', 'back', 'table', 'found', 'could', 'possibly', 'reach', 'could', 'see', 'quite', 'plainly', 'glass', 'tried', 'best', 'climb', 'one', 'legs', 'table', 'slippery', 'tired', 'trying', 'poor', 'little', 'thing', 'sat', 'cried', 'come', 'theres', 'use', 'crying', 'like', 'said', 'alice', 'rather', 'sharply', 'advise', 'leave', 'minute', 'generally', 'gave', 'good', 'advice', 'though', 'seldom', 'followed', 'sometimes', 'scolded', 'severely', 'bring', 'tears', 'eyes', 'remembered', 'trying', 'box', 'ears', 'cheated', 'game', 'croquet', 'playing', 'curious', 'child', 'fond', 'pretending', 'two', 'people', 'use', 'thought', 'poor', 'alice', 'pretend', 'two', 'people', 'theres', 'hardly', 'enough', 'left', 'make', 'one', 'respectable', 'person', 'soon', 'eye', 'fell', 'little', 'glass', 'box', 'lying', 'table', 'opened', 'found', 'small', 'cake', 'words', 'eat', 'beautifully', 'marked', 'currants', 'well', 'ill', 'eat', 'said', 'alice', 'makes', 'grow', 'larger', 'reach', 'key', 'makes', 'grow', 'smaller', 'creep', 'door', 'either', 'way', 'ill', 'get', 'garden', 'dont', 'care', 'happens', 'ate', 'little', 'bit', 'said', 'anxiously', 'way', 'way', 'holding', 'hand', 'top', 'head', 'feel', 'way', 'growing', 'quite', 'surprised', 'find', 'remained', 'size', 'sure', 'generally', 'happens', 'one', 'eats', 'cake', 'alice', 'got', 'much', 'way', 'expecting', 'nothing', 'outoftheway', 'things', 'happen', 'seemed', 'quite', 'dull', 'stupid', 'life', 'go', 'common', 'way', 'set', 'work', 'soon', 'finished', 'cake', 'chapter', 'ii', 'pool', 'tears', 'curiouser', 'curiouser', 'cried', 'alice', 'much', 'surprised', 'moment', 'quite', 'forgot', 'speak', 'good', 'english', 'im', 'opening', 'like', 'largest', 'telescope', 'ever', 'goodbye', 'feet', 'looked', 'feet', 'seemed', 'almost', 'sight', 'getting', 'far', 'oh', 'poor', 'little', 'feet', 'wonder', 'put', 'shoes', 'stockings', 'dears', 'im', 'sure', 'shant', 'able', 'shall', 'great', 'deal', 'far', 'trouble', 'must', 'manage', 'best', 'way', 'must', 'kind', 'thought', 'alice', 'perhaps', 'wont', 'walk', 'way', 'want', 'go', 'let', 'see', 'ill', 'give', 'new', 'pair', 'boots', 'every', 'christmas', 'went', 'planning', 'would', 'manage', 'must', 'go', 'carrier', 'thought', 'funny', 'itll', 'seem', 'sending', 'presents', 'ones', 'feet', 'odd', 'directions', 'look', 'alices', 'right', 'foot', 'esq', 'hearthrug', 'near', 'fender', 'alices', 'love', 'oh', 'dear', 'nonsense', 'im', 'talking', 'head', 'struck', 'roof', 'hall', 'fact', 'nine', 'feet', 'high', 'took', 'little', 'golden', 'key', 'hurried', 'garden', 'door', 'poor', 'alice', 'much', 'could', 'lying', 'one', 'side', 'look', 'garden', 'one', 'eye', 'get', 'hopeless', 'ever', 'sat', 'began', 'cry', 'ought', 'ashamed', 'said', 'alice', 'great', 'girl', 'like', 'might', 'well', 'say', 'go', 'crying', 'way', 'stop', 'moment', 'tell', 'went', 'shedding', 'gallons', 'tears', 'large', 'pool', 'round', 'four', 'inches', 'deep', 'reaching', 'half', 'hall', 'time', 'heard', 'little', 'pattering', 'feet', 'distance', 'hastily', 'dried', 'eyes', 'see', 'coming', 'white', 'rabbit', 'returning', 'splendidly', 'dressed', 'pair', 'white', 'kid', 'gloves', 'one', 'hand', 'large', 'fan', 'came', 'trotting', 'along', 'great', 'hurry', 'muttering', 'came', 'oh', 'duchess', 'duchess', 'oh', 'wont', 'savage', 'ive', 'kept', 'waiting', 'alice', 'felt', 'desperate', 'ready', 'ask', 'help', 'one', 'rabbit', 'came', 'near', 'began', 'low', 'timid', 'voice', 'please', 'sir', 'rabbit', 'started', 'violently', 'dropped', 'white', 'kid', 'gloves', 'fan', 'skurried', 'away', 'darkness', 'hard', 'could', 'go', 'alice', 'took', 'fan', 'gloves', 'hall', 'hot', 'kept', 'fanning', 'time', 'went', 'talking', 'dear', 'dear', 'queer', 'everything', 'today', 'yesterday', 'things', 'went', 'usual', 'wonder', 'ive', 'changed', 'night', 'let', 'think', 'got', 'morning', 'almost', 'think', 'remember', 'feeling', 'little', 'different', 'im', 'next', 'question', 'world', 'ah', 'thats', 'great', 'puzzle', 'began', 'thinking', 'children', 'knew', 'age', 'see', 'could', 'changed', 'im', 'sure', 'im', 'ada', 'said', 'hair', 'goes', 'long', 'ringlets', 'mine', 'doesnt', 'go', 'ringlets', 'im', 'sure', 'cant', 'mabel', 'know', 'sorts', 'things', 'oh', 'knows', 'little', 'besides', 'shes', 'im', 'andoh', 'dear', 'puzzling', 'ill', 'try', 'know', 'things', 'used', 'know', 'let', 'see', 'four', 'times', 'five', 'twelve', 'four', 'times', 'six', 'thirteen', 'four', 'times', 'seven', 'isoh', 'dear', 'shall', 'never', 'get', 'twenty', 'rate', 'however', 'multiplication', 'table', 'doesnt', 'signify', 'lets', 'try', 'geography', 'london', 'capital', 'paris', 'paris', 'capital', 'rome', 'romeno', 'thats', 'wrong', 'im', 'certain', 'must', 'changed', 'mabel', 'ill', 'try', 'say', 'doth', 'little', 'crossed', 'hands', 'lap', 'saying', 'lessons', 'began', 'repeat', 'voice', 'sounded', 'hoarse', 'strange', 'words', 'come', 'used', 'doth', 'little', 'crocodile', 'improve', 'shining', 'tail', 'pour', 'waters', 'nile', 'every', 'golden', 'scale', 'cheerfully', 'seems', 'grin', 'neatly', 'spread', 'claws', 'welcome', 'little', 'fishes', 'gently', 'smiling', 'jaws', 'im', 'sure', 'right', 'words', 'said', 'poor', 'alice', 'eyes', 'filled', 'tears', 'went', 'must', 'mabel', 'shall', 'go', 'live', 'poky', 'little', 'house', 'next', 'toys', 'play', 'oh', 'ever', 'many', 'lessons', 'learn', 'ive', 'made', 'mind', 'im', 'mabel', 'ill', 'stay', 'itll', 'use', 'putting', 'heads', 'saying', 'come', 'dear', 'shall', 'look', 'say', 'tell', 'first', 'like', 'person', 'ill', 'come', 'ill', 'stay', 'till', 'im', 'somebody', 'elsebut', 'oh', 'dear', 'cried', 'alice', 'sudden', 'burst', 'tears', 'wish', 'would', 'put', 'heads', 'tired', 'alone', 'said', 'looked', 'hands', 'surprised', 'see', 'put', 'one', 'rabbits', 'little', 'white', 'kid', 'gloves', 'talking', 'done', 'thought', 'must', 'growing', 'small', 'got', 'went', 'table', 'measure', 'found', 'nearly', 'could', 'guess', 'two', 'feet', 'high', 'going', 'shrinking', 'rapidly', 'soon', 'found', 'cause', 'fan', 'holding', 'dropped', 'hastily', 'time', 'avoid', 'shrinking', 'away', 'altogether', 'narrow', 'escape', 'said', 'alice', 'good', 'deal', 'frightened', 'sudden', 'change', 'glad', 'find', 'still', 'existence', 'garden', 'ran', 'speed', 'back', 'little', 'door', 'alas', 'little', 'door', 'shut', 'little', 'golden', 'key', 'lying', 'glass', 'table', 'things', 'worse', 'ever', 'thought', 'poor', 'child', 'never', 'small', 'never', 'declare', 'bad', 'said', 'words', 'foot', 'slipped', 'another', 'moment', 'splash', 'chin', 'salt', 'water', 'first', 'idea', 'somehow', 'fallen', 'sea', 'case', 'go', 'back', 'railway', 'said', 'alice', 'seaside', 'life', 'come', 'general', 'conclusion', 'wherever', 'go', 'english', 'coast', 'find', 'number', 'bathing', 'machines', 'sea', 'children', 'digging', 'sand', 'wooden', 'spades', 'row', 'lodging', 'houses', 'behind', 'railway', 'station', 'however', 'soon', 'made', 'pool', 'tears', 'wept', 'nine', 'feet', 'high', 'wish', 'hadnt', 'cried', 'much', 'said', 'alice', 'swam', 'trying', 'find', 'way', 'shall', 'punished', 'suppose', 'drowned', 'tears', 'queer', 'thing', 'sure', 'however', 'everything', 'queer', 'today', 'heard', 'something', 'splashing', 'pool', 'little', 'way', 'swam', 'nearer', 'make', 'first', 'thought', 'must', 'walrus', 'hippopotamus', 'remembered', 'small', 'soon', 'made', 'mouse', 'slipped', 'like', 'would', 'use', 'thought', 'alice', 'speak', 'mouse', 'everything', 'outoftheway', 'think', 'likely', 'talk', 'rate', 'theres', 'harm', 'trying', 'began', 'mouse', 'know', 'way', 'pool', 'tired', 'swimming', 'mouse', 'alice', 'thought', 'must', 'right', 'way', 'speaking', 'mouse', 'never', 'done', 'thing', 'remembered', 'seen', 'brothers', 'latin', 'grammar', 'mouseof', 'mouseto', 'mousea', 'mouseo', 'mouse', 'mouse', 'looked', 'rather', 'inquisitively', 'seemed', 'wink', 'one', 'little', 'eyes', 'said', 'nothing', 'perhaps', 'doesnt', 'understand', 'english', 'thought', 'alice', 'daresay', 'french', 'mouse', 'come', 'william', 'conqueror', 'knowledge', 'history', 'alice', 'clear', 'notion', 'long', 'ago', 'anything', 'happened', 'began', 'ou', 'est', 'chatte', 'first', 'sentence', 'french', 'lessonbook', 'mouse', 'gave', 'sudden', 'leap', 'water', 'seemed', 'quiver', 'fright', 'oh', 'beg', 'pardon', 'cried', 'alice', 'hastily', 'afraid', 'hurt', 'poor', 'animals', 'feelings', 'quite', 'forgot', 'didnt', 'like', 'cats', 'like', 'cats', 'cried', 'mouse', 'shrill', 'passionate', 'voice', 'would', 'like', 'cats', 'well', 'perhaps', 'said', 'alice', 'soothing', 'tone', 'dont', 'angry', 'yet', 'wish', 'could', 'show', 'cat', 'dinah', 'think', 'youd', 'take', 'fancy', 'cats', 'could', 'see', 'dear', 'quiet', 'thing', 'alice', 'went', 'half', 'swam', 'lazily', 'pool', 'sits', 'purring', 'nicely', 'fire', 'licking', 'paws', 'washing', 'faceand', 'nice', 'soft', 'thing', 'nurseand', 'shes', 'capital', 'one', 'catching', 'miceoh', 'beg', 'pardon', 'cried', 'alice', 'time', 'mouse', 'bristling', 'felt', 'certain', 'must', 'really', 'offended', 'wont', 'talk', 'youd', 'rather', 'indeed', 'cried', 'mouse', 'trembling', 'end', 'tail', 'would', 'talk', 'subject', 'family', 'always', 'hated', 'cats', 'nasty', 'low', 'vulgar', 'things', 'dont', 'let', 'hear', 'name', 'wont', 'indeed', 'said', 'alice', 'great', 'hurry', 'change', 'subject', 'conversation', 'youare', 'fondofof', 'dogs', 'mouse', 'answer', 'alice', 'went', 'eagerly', 'nice', 'little', 'dog', 'near', 'house', 'like', 'show', 'little', 'brighteyed', 'terrier', 'know', 'oh', 'long', 'curly', 'brown', 'hair', 'itll', 'fetch', 'things', 'throw', 'itll', 'sit', 'beg', 'dinner', 'sorts', 'thingsi', 'cant', 'remember', 'half', 'themand', 'belongs', 'farmer', 'know', 'says', 'useful', 'worth', 'hundred', 'pounds', 'says', 'kills', 'rats', 'andoh', 'dear', 'cried', 'alice', 'sorrowful', 'tone', 'im', 'afraid', 'ive', 'offended', 'mouse', 'swimming', 'away', 'hard', 'could', 'go', 'making', 'quite', 'commotion', 'pool', 'went', 'called', 'softly', 'mouse', 'dear', 'come', 'back', 'wont', 'talk', 'cats', 'dogs', 'either', 'dont', 'like', 'mouse', 'heard', 'turned', 'round', 'swam', 'slowly', 'back', 'face', 'quite', 'pale', 'passion', 'alice', 'thought', 'said', 'low', 'trembling', 'voice', 'let', 'us', 'get', 'shore', 'ill', 'tell', 'history', 'youll', 'understand', 'hate', 'cats', 'dogs', 'high', 'time', 'go', 'pool', 'getting', 'quite', 'crowded', 'birds', 'animals', 'fallen', 'duck', 'dodo', 'lory', 'eaglet', 'several', 'curious', 'creatures', 'alice', 'led', 'way', 'whole', 'party', 'swam', 'shore', 'chapter', 'iii', 'caucusrace', 'long', 'tale', 'indeed', 'queerlooking', 'party', 'assembled', 'bankthe', 'birds', 'draggled', 'feathers', 'animals', 'fur', 'clinging', 'close', 'dripping', 'wet', 'cross', 'uncomfortable', 'first', 'question', 'course', 'get', 'dry', 'consultation', 'minutes', 'seemed', 'quite', 'natural', 'alice', 'find', 'talking', 'familiarly', 'known', 'life', 'indeed', 'quite', 'long', 'argument', 'lory', 'last', 'turned', 'sulky', 'would', 'say', 'older', 'must', 'know', 'better', 'alice', 'would', 'allow', 'without', 'knowing', 'old', 'lory', 'positively', 'refused', 'tell', 'age', 'said', 'last', 'mouse', 'seemed', 'person', 'authority', 'among', 'called', 'sit', 'listen', 'ill', 'soon', 'make', 'dry', 'enough', 'sat', 'large', 'ring', 'mouse', 'middle', 'alice', 'kept', 'eyes', 'anxiously', 'fixed', 'felt', 'sure', 'would', 'catch', 'bad', 'cold', 'get', 'dry', 'soon', 'ahem', 'said', 'mouse', 'important', 'air', 'ready', 'driest', 'thing', 'know', 'silence', 'round', 'please', 'william', 'conqueror', 'whose', 'cause', 'favoured', 'pope', 'soon', 'submitted', 'english', 'wanted', 'leaders', 'late', 'much', 'accustomed', 'usurpation', 'conquest', 'edwin', 'morcar', 'earls', 'mercia', 'northumbria', 'ugh', 'said', 'lory', 'shiver', 'beg', 'pardon', 'said', 'mouse', 'frowning', 'politely', 'speak', 'said', 'lory', 'hastily', 'thought', 'said', 'mouse', 'proceed', 'edwin', 'morcar', 'earls', 'mercia', 'northumbria', 'declared', 'even', 'stigand', 'patriotic', 'archbishop', 'canterbury', 'found', 'advisable', 'found', 'said', 'duck', 'found', 'mouse', 'replied', 'rather', 'crossly', 'course', 'know', 'means', 'know', 'means', 'well', 'enough', 'find', 'thing', 'said', 'duck', 'generally', 'frog', 'worm', 'question', 'archbishop', 'find', 'mouse', 'notice', 'question', 'hurriedly', 'went', 'found', 'advisable', 'go', 'edgar', 'atheling', 'meet', 'william', 'offer', 'crown', 'williams', 'conduct', 'first', 'moderate', 'insolence', 'normans', 'getting', 'dear', 'continued', 'turning', 'alice', 'spoke', 'wet', 'ever', 'said', 'alice', 'melancholy', 'tone', 'doesnt', 'seem', 'dry', 'case', 'said', 'dodo', 'solemnly', 'rising', 'feet', 'move', 'meeting', 'adjourn', 'immediate', 'adoption', 'energetic', 'remedies', 'speak', 'english', 'said', 'eaglet', 'dont', 'know', 'meaning', 'half', 'long', 'words', 'whats', 'dont', 'believe', 'either', 'eaglet', 'bent', 'head', 'hide', 'smile', 'birds', 'tittered', 'audibly', 'going', 'say', 'said', 'dodo', 'offended', 'tone', 'best', 'thing', 'get', 'us', 'dry', 'would', 'caucusrace', 'caucusrace', 'said', 'alice', 'wanted', 'much', 'know', 'dodo', 'paused', 'thought', 'somebody', 'ought', 'speak', 'one', 'else', 'seemed', 'inclined', 'say', 'anything', 'said', 'dodo', 'best', 'way', 'explain', 'might', 'like', 'try', 'thing', 'winter', 'day', 'tell', 'dodo', 'managed', 'first', 'marked', 'racecourse', 'sort', 'circle', 'exact', 'shape', 'doesnt', 'matter', 'said', 'party', 'placed', 'along', 'course', 'one', 'two', 'three', 'away', 'began', 'running', 'liked', 'left', 'liked', 'easy', 'know', 'race', 'however', 'running', 'half', 'hour', 'quite', 'dry', 'dodo', 'suddenly', 'called', 'race', 'crowded', 'round', 'panting', 'asking', 'question', 'dodo', 'could', 'answer', 'without', 'great', 'deal', 'thought', 'sat', 'long', 'time', 'one', 'finger', 'pressed', 'upon', 'forehead', 'position', 'usually', 'see', 'shakespeare', 'pictures', 'rest', 'waited', 'silence', 'last', 'dodo', 'said', 'everybody', 'must', 'prizes', 'give', 'prizes', 'quite', 'chorus', 'voices', 'asked', 'course', 'said', 'dodo', 'pointing', 'alice', 'one', 'finger', 'whole', 'party', 'crowded', 'round', 'calling', 'confused', 'way', 'prizes', 'prizes', 'alice', 'idea', 'despair', 'put', 'hand', 'pocket', 'pulled', 'box', 'comfits', 'luckily', 'salt', 'water', 'got', 'handed', 'round', 'prizes', 'exactly', 'one', 'apiece', 'round', 'must', 'prize', 'know', 'said', 'mouse', 'course', 'dodo', 'replied', 'gravely', 'else', 'got', 'pocket', 'went', 'turning', 'alice', 'thimble', 'said', 'alice', 'sadly', 'hand', 'said', 'dodo', 'crowded', 'round', 'dodo', 'solemnly', 'presented', 'thimble', 'saying', 'beg', 'acceptance', 'elegant', 'thimble', 'finished', 'short', 'speech', 'cheered', 'alice', 'thought', 'whole', 'thing', 'absurd', 'looked', 'grave', 'dare', 'laugh', 'could', 'think', 'anything', 'say', 'simply', 'bowed', 'took', 'thimble', 'looking', 'solemn', 'could', 'next', 'thing', 'eat', 'comfits', 'caused', 'noise', 'confusion', 'large', 'birds', 'complained', 'could', 'taste', 'small', 'ones', 'choked', 'patted', 'back', 'however', 'last', 'sat', 'ring', 'begged', 'mouse', 'tell', 'something', 'promised', 'tell', 'history', 'know', 'said', 'alice', 'hatec', 'added', 'whisper', 'half', 'afraid', 'would', 'offended', 'mine', 'long', 'sad', 'tale', 'said', 'mouse', 'turning', 'alice', 'sighing', 'long', 'tail', 'certainly', 'said', 'alice', 'looking', 'wonder', 'mouses', 'tail', 'call', 'sad', 'kept', 'puzzling', 'mouse', 'speaking', 'idea', 'tale', 'something', 'like', 'fury', 'said', 'mouse', 'met', 'house', 'let', 'us', 'go', 'law', 'prosecute', 'come', 'ill', 'take', 'denial', 'must', 'trial', 'really', 'morning', 'ive', 'nothing', 'said', 'mouse', 'cur', 'trial', 'dear', 'sir', 'jury', 'judge', 'would', 'wasting', 'breath', 'ill', 'judge', 'ill', 'jury', 'said', 'cunning', 'old', 'fury', 'ill', 'try', 'whole', 'cause', 'condemn', 'death', 'attending', 'said', 'mouse', 'alice', 'severely', 'thinking', 'beg', 'pardon', 'said', 'alice', 'humbly', 'got', 'fifth', 'bend', 'think', 'cried', 'mouse', 'sharply', 'angrily', 'knot', 'said', 'alice', 'always', 'ready', 'make', 'useful', 'looking', 'anxiously', 'oh', 'let', 'help', 'undo', 'shall', 'nothing', 'sort', 'said', 'mouse', 'getting', 'walking', 'away', 'insult', 'talking', 'nonsense', 'didnt', 'mean', 'pleaded', 'poor', 'alice', 'youre', 'easily', 'offended', 'know', 'mouse', 'growled', 'reply', 'please', 'come', 'back', 'finish', 'story', 'alice', 'called', 'others', 'joined', 'chorus', 'yes', 'please', 'mouse', 'shook', 'head', 'impatiently', 'walked', 'little', 'quicker', 'pity', 'wouldnt', 'stay', 'sighed', 'lory', 'soon', 'quite', 'sight', 'old', 'crab', 'took', 'opportunity', 'saying', 'daughter', 'ah', 'dear', 'let', 'lesson', 'never', 'lose', 'temper', 'hold', 'tongue', 'said', 'young', 'crab', 'little', 'snappishly', 'youre', 'enough', 'try', 'patience', 'oyster', 'wish', 'dinah', 'know', 'said', 'alice', 'aloud', 'addressing', 'nobody', 'particular', 'shed', 'soon', 'fetch', 'back', 'dinah', 'might', 'venture', 'ask', 'question', 'said', 'lory', 'alice', 'replied', 'eagerly', 'always', 'ready', 'talk', 'pet', 'dinahs', 'cat', 'shes', 'capital', 'one', 'catching', 'mice', 'cant', 'think', 'oh', 'wish', 'could', 'see', 'birds', 'shell', 'eat', 'little', 'bird', 'soon', 'look', 'speech', 'caused', 'remarkable', 'sensation', 'among', 'party', 'birds', 'hurried', 'one', 'old', 'magpie', 'began', 'wrapping', 'carefully', 'remarking', 'really', 'must', 'getting', 'home', 'nightair', 'doesnt', 'suit', 'throat', 'canary', 'called', 'trembling', 'voice', 'children', 'come', 'away', 'dears', 'high', 'time', 'bed', 'various', 'pretexts', 'moved', 'alice', 'soon', 'left', 'alone', 'wish', 'hadnt', 'mentioned', 'dinah', 'said', 'melancholy', 'tone', 'nobody', 'seems', 'like', 'im', 'sure', 'shes', 'best', 'cat', 'world', 'oh', 'dear', 'dinah', 'wonder', 'shall', 'ever', 'see', 'poor', 'alice', 'began', 'cry', 'felt', 'lonely', 'lowspirited', 'little', 'however', 'heard', 'little', 'pattering', 'footsteps', 'distance', 'looked', 'eagerly', 'half', 'hoping', 'mouse', 'changed', 'mind', 'coming', 'back', 'finish', 'story', 'chapter', 'iv', 'rabbit', 'sends', 'little', 'bill', 'white', 'rabbit', 'trotting', 'slowly', 'back', 'looking', 'anxiously', 'went', 'lost', 'something', 'heard', 'muttering', 'duchess', 'duchess', 'oh', 'dear', 'paws', 'oh', 'fur', 'whiskers', 'shell', 'get', 'executed', 'sure', 'ferrets', 'ferrets', 'dropped', 'wonder', 'alice', 'guessed', 'moment', 'looking', 'fan', 'pair', 'white', 'kid', 'gloves', 'goodnaturedly', 'began', 'hunting', 'nowhere', 'seeneverything', 'seemed', 'changed', 'since', 'swim', 'pool', 'great', 'hall', 'glass', 'table', 'little', 'door', 'vanished', 'completely', 'soon', 'rabbit', 'noticed', 'alice', 'went', 'hunting', 'called', 'angry', 'tone', 'mary', 'ann', 'run', 'home', 'moment', 'fetch', 'pair', 'gloves', 'fan', 'quick', 'alice', 'much', 'frightened', 'ran', 'direction', 'pointed', 'without', 'trying', 'explain', 'mistake', 'made', 'took', 'housemaid', 'said', 'ran', 'surprised', 'hell', 'finds', 'id', 'better', 'take', 'fan', 'glovesthat', 'find', 'said', 'came', 'upon', 'neat', 'little', 'house', 'door', 'bright', 'brass', 'plate', 'name', 'w', 'rabbit', 'engraved', 'upon', 'went', 'without', 'knocking', 'hurried', 'upstairs', 'great', 'fear', 'lest', 'meet', 'real', 'mary', 'ann', 'turned', 'house', 'found', 'fan', 'gloves', 'queer', 'seems', 'alice', 'said', 'going', 'messages', 'rabbit', 'suppose', 'dinahll', 'sending', 'messages', 'next', 'began', 'fancying', 'sort', 'thing', 'would', 'happen', 'miss', 'alice', 'come', 'directly', 'get', 'ready', 'walk', 'coming', 'minute', 'nurse', 'ive', 'got', 'see', 'mouse', 'doesnt', 'get', 'dont', 'think', 'alice', 'went', 'theyd', 'let', 'dinah', 'stop', 'house', 'began', 'ordering', 'people', 'like', 'time', 'found', 'way', 'tidy', 'little', 'room', 'table', 'window', 'hoped', 'fan', 'two', 'three', 'pairs', 'tiny', 'white', 'kid', 'gloves', 'took', 'fan', 'pair', 'gloves', 'going', 'leave', 'room', 'eye', 'fell', 'upon', 'little', 'bottle', 'stood', 'near', 'looking', 'glass', 'label', 'time', 'words', 'drink', 'nevertheless', 'uncorked', 'put', 'lips', 'know', 'something', 'interesting', 'sure', 'happen', 'said', 'whenever', 'eat', 'drink', 'anything', 'ill', 'see', 'bottle', 'hope', 'itll', 'make', 'grow', 'large', 'really', 'im', 'quite', 'tired', 'tiny', 'little', 'thing', 'indeed', 'much', 'sooner', 'expected', 'drunk', 'half', 'bottle', 'found', 'head', 'pressing', 'ceiling', 'stoop', 'save', 'neck', 'broken', 'hastily', 'put', 'bottle', 'saying', 'thats', 'quite', 'enoughi', 'hope', 'shant', 'grow', 'moreas', 'cant', 'get', 'doori', 'wish', 'hadnt', 'drunk', 'quite', 'much', 'alas', 'late', 'wish', 'went', 'growing', 'growing', 'soon', 'kneel', 'floor', 'another', 'minute', 'even', 'room', 'tried', 'effect', 'lying', 'one', 'elbow', 'door', 'arm', 'curled', 'round', 'head', 'still', 'went', 'growing', 'last', 'resource', 'put', 'one', 'arm', 'window', 'one', 'foot', 'chimney', 'said', 'whatever', 'happens', 'become', 'luckily', 'alice', 'little', 'magic', 'bottle', 'full', 'effect', 'grew', 'larger', 'still', 'uncomfortable', 'seemed', 'sort', 'chance', 'ever', 'getting', 'room', 'wonder', 'felt', 'unhappy', 'much', 'pleasanter', 'home', 'thought', 'poor', 'alice', 'one', 'wasnt', 'always', 'growing', 'larger', 'smaller', 'ordered', 'mice', 'rabbits', 'almost', 'wish', 'hadnt', 'gone', 'rabbitholeand', 'yetand', 'yetits', 'rather', 'curious', 'know', 'sort', 'life', 'wonder', 'happened', 'used', 'read', 'fairytales', 'fancied', 'kind', 'thing', 'never', 'happened', 'middle', 'one', 'ought', 'book', 'written', 'ought', 'grow', 'ill', 'write', 'onebut', 'im', 'grown', 'added', 'sorrowful', 'tone', 'least', 'theres', 'room', 'grow', 'thought', 'alice', 'shall', 'never', 'get', 'older', 'thatll', 'comfort', 'one', 'waynever', 'old', 'woman', 'thenalways', 'lessons', 'learn', 'oh', 'shouldnt', 'like', 'oh', 'foolish', 'alice', 'answered', 'learn', 'lessons', 'theres', 'hardly', 'room', 'room', 'lessonbooks', 'went', 'taking', 'first', 'one', 'side', 'making', 'quite', 'conversation', 'altogether', 'minutes', 'heard', 'voice', 'outside', 'stopped', 'listen', 'mary', 'ann', 'mary', 'ann', 'said', 'voice', 'fetch', 'gloves', 'moment', 'came', 'little', 'pattering', 'feet', 'stairs', 'alice', 'knew', 'rabbit', 'coming', 'look', 'trembled', 'till', 'shook', 'house', 'quite', 'forgetting', 'thousand', 'times', 'large', 'rabbit', 'reason', 'afraid', 'presently', 'rabbit', 'came', 'door', 'tried', 'open', 'door', 'opened', 'inwards', 'alices', 'elbow', 'pressed', 'hard', 'attempt', 'proved', 'failure', 'alice', 'heard', 'say', 'ill', 'go', 'round', 'get', 'window', 'wont', 'thought', 'alice', 'waiting', 'till', 'fancied', 'heard', 'rabbit', 'window', 'suddenly', 'spread', 'hand', 'made', 'snatch', 'air', 'get', 'hold', 'anything', 'heard', 'little', 'shriek', 'fall', 'crash', 'broken', 'glass', 'concluded', 'possible', 'fallen', 'cucumberframe', 'something', 'sort', 'next', 'came', 'angry', 'voicethe', 'rabbitspat', 'pat', 'voice', 'never', 'heard', 'sure', 'im', 'digging', 'apples', 'yer', 'honour', 'digging', 'apples', 'indeed', 'said', 'rabbit', 'angrily', 'come', 'help', 'sounds', 'broken', 'glass', 'tell', 'pat', 'whats', 'window', 'sure', 'arm', 'yer', 'honour', 'pronounced', 'arrum', 'arm', 'goose', 'ever', 'saw', 'one', 'size', 'fills', 'whole', 'window', 'sure', 'yer', 'honour', 'arm', 'well', 'got', 'business', 'rate', 'go', 'take', 'away', 'long', 'silence', 'alice', 'could', 'hear', 'whispers', 'sure', 'dont', 'like', 'yer', 'honour', 'tell', 'coward', 'last', 'spread', 'hand', 'made', 'another', 'snatch', 'air', 'time', 'two', 'little', 'shrieks', 'sounds', 'broken', 'glass', 'number', 'cucumberframes', 'must', 'thought', 'alice', 'wonder', 'theyll', 'next', 'pulling', 'window', 'wish', 'could', 'im', 'sure', 'dont', 'want', 'stay', 'longer', 'waited', 'time', 'without', 'hearing', 'anything', 'last', 'came', 'rumbling', 'little', 'cartwheels', 'sound', 'good', 'many', 'voices', 'talking', 'together', 'made', 'words', 'wheres', 'ladderwhy', 'hadnt', 'bring', 'one', 'bills', 'got', 'otherbill', 'fetch', 'ladhere', 'put', 'em', 'cornerno', 'tie', 'em', 'together', 'firstthey', 'dont', 'reach', 'half', 'high', 'enough', 'yetoh', 'theyll', 'well', 'enough', 'dont', 'particular', 'bill', 'catch', 'hold', 'ropewill', 'roof', 'bearmind', 'loose', 'slateoh', 'coming', 'heads', 'loud', 'crashnow', 'thatit', 'bill', 'fancywhos', 'go', 'chimneynay', 'shant', 'itthat', 'wont', 'thenbills', 'go', 'downhere', 'bill', 'master', 'says', 'youre', 'go', 'chimney', 'oh', 'bills', 'got', 'come', 'chimney', 'said', 'alice', 'shy', 'seem', 'put', 'everything', 'upon', 'bill', 'wouldnt', 'bills', 'place', 'good', 'deal', 'fireplace', 'narrow', 'sure', 'think', 'kick', 'little', 'drew', 'foot', 'far', 'chimney', 'could', 'waited', 'till', 'heard', 'little', 'animal', 'couldnt', 'guess', 'sort', 'scratching', 'scrambling', 'chimney', 'close', 'saying', 'bill', 'gave', 'one', 'sharp', 'kick', 'waited', 'see', 'would', 'happen', 'next', 'first', 'thing', 'heard', 'general', 'chorus', 'goes', 'bill', 'rabbits', 'voice', 'alongcatch', 'hedge', 'silence', 'another', 'confusion', 'voiceshold', 'headbrandy', 'nowdont', 'choke', 'himhow', 'old', 'fellow', 'happened', 'tell', 'us', 'last', 'came', 'little', 'feeble', 'squeaking', 'voice', 'thats', 'bill', 'thought', 'alice', 'well', 'hardly', 'knowno', 'thank', 'ye', 'im', 'better', 'nowbut', 'im', 'deal', 'flustered', 'tell', 'youall', 'know', 'something', 'comes', 'like', 'jackinthebox', 'goes', 'like', 'skyrocket', 'old', 'fellow', 'said', 'others', 'must', 'burn', 'house', 'said', 'rabbits', 'voice', 'alice', 'called', 'loud', 'could', 'ill', 'set', 'dinah', 'dead', 'silence', 'instantly', 'alice', 'thought', 'wonder', 'next', 'sense', 'theyd', 'take', 'roof', 'minute', 'two', 'began', 'moving', 'alice', 'heard', 'rabbit', 'say', 'barrowful', 'begin', 'barrowful', 'thought', 'alice', 'long', 'doubt', 'next', 'moment', 'shower', 'little', 'pebbles', 'came', 'rattling', 'window', 'hit', 'face', 'ill', 'put', 'stop', 'said', 'shouted', 'youd', 'better', 'produced', 'another', 'dead', 'silence', 'alice', 'noticed', 'surprise', 'pebbles', 'turning', 'little', 'cakes', 'lay', 'floor', 'bright', 'idea', 'came', 'head', 'eat', 'one', 'cakes', 'thought', 'sure', 'make', 'change', 'size', 'cant', 'possibly', 'make', 'larger', 'must', 'make', 'smaller', 'suppose', 'swallowed', 'one', 'cakes', 'delighted', 'find', 'began', 'shrinking', 'directly', 'soon', 'small', 'enough', 'get', 'door', 'ran', 'house', 'found', 'quite', 'crowd', 'little', 'animals', 'birds', 'waiting', 'outside', 'poor', 'little', 'lizard', 'bill', 'middle', 'held', 'two', 'guineapigs', 'giving', 'something', 'bottle', 'made', 'rush', 'alice', 'moment', 'appeared', 'ran', 'hard', 'could', 'soon', 'found', 'safe', 'thick', 'wood', 'first', 'thing', 'ive', 'got', 'said', 'alice', 'wandered', 'wood', 'grow', 'right', 'size', 'second', 'thing', 'find', 'way', 'lovely', 'garden', 'think', 'best', 'plan', 'sounded', 'excellent', 'plan', 'doubt', 'neatly', 'simply', 'arranged', 'difficulty', 'smallest', 'idea', 'set', 'peering', 'anxiously', 'among', 'trees', 'little', 'sharp', 'bark', 'head', 'made', 'look', 'great', 'hurry', 'enormous', 'puppy', 'looking', 'large', 'round', 'eyes', 'feebly', 'stretching', 'one', 'paw', 'trying', 'touch', 'poor', 'little', 'thing', 'said', 'alice', 'coaxing', 'tone', 'tried', 'hard', 'whistle', 'terribly', 'frightened', 'time', 'thought', 'might', 'hungry', 'case', 'would', 'likely', 'eat', 'spite', 'coaxing', 'hardly', 'knowing', 'picked', 'little', 'bit', 'stick', 'held', 'puppy', 'whereupon', 'puppy', 'jumped', 'air', 'feet', 'yelp', 'delight', 'rushed', 'stick', 'made', 'believe', 'worry', 'alice', 'dodged', 'behind', 'great', 'thistle', 'keep', 'run', 'moment', 'appeared', 'side', 'puppy', 'made', 'another', 'rush', 'stick', 'tumbled', 'head', 'heels', 'hurry', 'get', 'hold', 'alice', 'thinking', 'like', 'game', 'play', 'carthorse', 'expecting', 'every', 'moment', 'trampled', 'feet', 'ran', 'round', 'thistle', 'puppy', 'began', 'series', 'short', 'charges', 'stick', 'running', 'little', 'way', 'forwards', 'time', 'long', 'way', 'back', 'barking', 'hoarsely', 'till', 'last', 'sat', 'good', 'way', 'panting', 'tongue', 'hanging', 'mouth', 'great', 'eyes', 'half', 'shut', 'seemed', 'alice', 'good', 'opportunity', 'making', 'escape', 'set', 'ran', 'till', 'quite', 'tired', 'breath', 'till', 'puppys', 'bark', 'sounded', 'quite', 'faint', 'distance', 'yet', 'dear', 'little', 'puppy', 'said', 'alice', 'leant', 'buttercup', 'rest', 'fanned', 'one', 'leaves', 'liked', 'teaching', 'tricks', 'much', 'ifif', 'id', 'right', 'size', 'oh', 'dear', 'id', 'nearly', 'forgotten', 'ive', 'got', 'grow', 'let', 'seehow', 'managed', 'suppose', 'ought', 'eat', 'drink', 'something', 'great', 'question', 'great', 'question', 'certainly', 'alice', 'looked', 'round', 'flowers', 'blades', 'grass', 'see', 'anything', 'looked', 'like', 'right', 'thing', 'eat', 'drink', 'circumstances', 'large', 'mushroom', 'growing', 'near', 'height', 'looked', 'sides', 'behind', 'occurred', 'might', 'well', 'look', 'see', 'top', 'stretched', 'tiptoe', 'peeped', 'edge', 'mushroom', 'eyes', 'immediately', 'met', 'large', 'caterpillar', 'sitting', 'top', 'arms', 'folded', 'quietly', 'smoking', 'long', 'hookah', 'taking', 'smallest', 'notice', 'anything', 'else', 'chapter', 'v', 'advice', 'caterpillar', 'caterpillar', 'alice', 'looked', 'time', 'silence', 'last', 'caterpillar', 'took', 'hookah', 'mouth', 'addressed', 'languid', 'sleepy', 'voice', 'said', 'caterpillar', 'encouraging', 'opening', 'conversation', 'alice', 'replied', 'rather', 'shyly', 'ii', 'hardly', 'know', 'sir', 'present', 'least', 'know', 'got', 'morning', 'think', 'must', 'changed', 'several', 'times', 'since', 'mean', 'said', 'caterpillar', 'sternly', 'explain', 'cant', 'explain', 'im', 'afraid', 'sir', 'said', 'alice', 'im', 'see', 'dont', 'see', 'said', 'caterpillar', 'im', 'afraid', 'cant', 'put', 'clearly', 'alice', 'replied', 'politely', 'cant', 'understand', 'begin', 'many', 'different', 'sizes', 'day', 'confusing', 'isnt', 'said', 'caterpillar', 'well', 'perhaps', 'havent', 'found', 'yet', 'said', 'alice', 'turn', 'chrysalisyou', 'day', 'knowand', 'butterfly', 'think', 'youll', 'feel', 'little', 'queer', 'wont', 'bit', 'said', 'caterpillar', 'well', 'perhaps', 'feelings', 'may', 'different', 'said', 'alice', 'know', 'would', 'feel', 'queer', 'said', 'caterpillar', 'contemptuously', 'brought', 'back', 'beginning', 'conversation', 'alice', 'felt', 'little', 'irritated', 'caterpillars', 'making', 'short', 'remarks', 'drew', 'said', 'gravely', 'think', 'ought', 'tell', 'first', 'said', 'caterpillar', 'another', 'puzzling', 'question', 'alice', 'could', 'think', 'good', 'reason', 'caterpillar', 'seemed', 'unpleasant', 'state', 'mind', 'turned', 'away', 'come', 'back', 'caterpillar', 'called', 'ive', 'something', 'important', 'say', 'sounded', 'promising', 'certainly', 'alice', 'turned', 'came', 'back', 'keep', 'temper', 'said', 'caterpillar', 'said', 'alice', 'swallowing', 'anger', 'well', 'could', 'said', 'caterpillar', 'alice', 'thought', 'might', 'well', 'wait', 'nothing', 'else', 'perhaps', 'might', 'tell', 'something', 'worth', 'hearing', 'minutes', 'puffed', 'away', 'without', 'speaking', 'last', 'unfolded', 'arms', 'took', 'hookah', 'mouth', 'said', 'think', 'youre', 'changed', 'im', 'afraid', 'sir', 'said', 'alice', 'cant', 'remember', 'things', 'usedand', 'dont', 'keep', 'size', 'ten', 'minutes', 'together', 'cant', 'remember', 'things', 'said', 'caterpillar', 'well', 'ive', 'tried', 'say', 'doth', 'little', 'busy', 'bee', 'came', 'different', 'alice', 'replied', 'melancholy', 'voice', 'repeat', 'old', 'father', 'william', 'said', 'caterpillar', 'alice', 'folded', 'hands', 'began', 'old', 'father', 'william', 'young', 'man', 'said', 'hair', 'become', 'white', 'yet', 'incessantly', 'stand', 'head', 'think', 'age', 'right', 'youth', 'father', 'william', 'replied', 'son', 'feared', 'might', 'injure', 'brain', 'im', 'perfectly', 'sure', 'none', 'old', 'said', 'youth', 'mentioned', 'grown', 'uncommonly', 'fat', 'yet', 'turned', 'backsomersault', 'door', 'pray', 'reason', 'youth', 'said', 'sage', 'shook', 'grey', 'locks', 'kept', 'limbs', 'supple', 'use', 'ointmentone', 'shilling', 'box', 'allow', 'sell', 'couple', 'old', 'said', 'youth', 'jaws', 'weak', 'anything', 'tougher', 'suet', 'yet', 'finished', 'goose', 'bones', 'beak', 'pray', 'manage', 'youth', 'said', 'father', 'took', 'law', 'argued', 'case', 'wife', 'muscular', 'strength', 'gave', 'jaw', 'lasted', 'rest', 'life', 'old', 'said', 'youth', 'one', 'would', 'hardly', 'suppose', 'eye', 'steady', 'ever', 'yet', 'balanced', 'eel', 'end', 'nose', 'made', 'awfully', 'clever', 'answered', 'three', 'questions', 'enough', 'said', 'father', 'dont', 'give', 'airs', 'think', 'listen', 'day', 'stuff', 'ill', 'kick', 'stairs', 'said', 'right', 'said', 'caterpillar', 'quite', 'right', 'im', 'afraid', 'said', 'alice', 'timidly', 'words', 'got', 'altered', 'wrong', 'beginning', 'end', 'said', 'caterpillar', 'decidedly', 'silence', 'minutes', 'caterpillar', 'first', 'speak', 'size', 'want', 'asked', 'oh', 'im', 'particular', 'size', 'alice', 'hastily', 'replied', 'one', 'doesnt', 'like', 'changing', 'often', 'know', 'dont', 'know', 'said', 'caterpillar', 'alice', 'said', 'nothing', 'never', 'much', 'contradicted', 'life', 'felt', 'losing', 'temper', 'content', 'said', 'caterpillar', 'well', 'like', 'little', 'larger', 'sir', 'wouldnt', 'mind', 'said', 'alice', 'three', 'inches', 'wretched', 'height', 'good', 'height', 'indeed', 'said', 'caterpillar', 'angrily', 'rearing', 'upright', 'spoke', 'exactly', 'three', 'inches', 'high', 'im', 'used', 'pleaded', 'poor', 'alice', 'piteous', 'tone', 'thought', 'wish', 'creatures', 'wouldnt', 'easily', 'offended', 'youll', 'get', 'used', 'time', 'said', 'caterpillar', 'put', 'hookah', 'mouth', 'began', 'smoking', 'time', 'alice', 'waited', 'patiently', 'chose', 'speak', 'minute', 'two', 'caterpillar', 'took', 'hookah', 'mouth', 'yawned', 'twice', 'shook', 'got', 'mushroom', 'crawled', 'away', 'grass', 'merely', 'remarking', 'went', 'one', 'side', 'make', 'grow', 'taller', 'side', 'make', 'grow', 'shorter', 'one', 'side', 'side', 'thought', 'alice', 'mushroom', 'said', 'caterpillar', 'asked', 'aloud', 'another', 'moment', 'sight', 'alice', 'remained', 'looking', 'thoughtfully', 'mushroom', 'minute', 'trying', 'make', 'two', 'sides', 'perfectly', 'round', 'found', 'difficult', 'question', 'however', 'last', 'stretched', 'arms', 'round', 'far', 'would', 'go', 'broke', 'bit', 'edge', 'hand', 'said', 'nibbled', 'little', 'righthand', 'bit', 'try', 'effect', 'next', 'moment', 'felt', 'violent', 'blow', 'underneath', 'chin', 'struck', 'foot', 'good', 'deal', 'frightened', 'sudden', 'change', 'felt', 'time', 'lost', 'shrinking', 'rapidly', 'set', 'work', 'eat', 'bit', 'chin', 'pressed', 'closely', 'foot', 'hardly', 'room', 'open', 'mouth', 'last', 'managed', 'swallow', 'morsel', 'lefthand', 'bit', 'come', 'heads', 'free', 'last', 'said', 'alice', 'tone', 'delight', 'changed', 'alarm', 'another', 'moment', 'found', 'shoulders', 'nowhere', 'found', 'could', 'see', 'looked', 'immense', 'length', 'neck', 'seemed', 'rise', 'like', 'stalk', 'sea', 'green', 'leaves', 'lay', 'far', 'green', 'stuff', 'said', 'alice', 'shoulders', 'got', 'oh', 'poor', 'hands', 'cant', 'see', 'moving', 'spoke', 'result', 'seemed', 'follow', 'except', 'little', 'shaking', 'among', 'distant', 'green', 'leaves', 'seemed', 'chance', 'getting', 'hands', 'head', 'tried', 'get', 'head', 'delighted', 'find', 'neck', 'would', 'bend', 'easily', 'direction', 'like', 'serpent', 'succeeded', 'curving', 'graceful', 'zigzag', 'going', 'dive', 'among', 'leaves', 'found', 'nothing', 'tops', 'trees', 'wandering', 'sharp', 'hiss', 'made', 'draw', 'back', 'hurry', 'large', 'pigeon', 'flown', 'face', 'beating', 'violently', 'wings', 'serpent', 'screamed', 'pigeon', 'im', 'serpent', 'said', 'alice', 'indignantly', 'let', 'alone', 'serpent', 'say', 'repeated', 'pigeon', 'subdued', 'tone', 'added', 'kind', 'sob', 'ive', 'tried', 'every', 'way', 'nothing', 'seems', 'suit', 'havent', 'least', 'idea', 'youre', 'talking', 'said', 'alice', 'ive', 'tried', 'roots', 'trees', 'ive', 'tried', 'banks', 'ive', 'tried', 'hedges', 'pigeon', 'went', 'without', 'attending', 'serpents', 'theres', 'pleasing', 'alice', 'puzzled', 'thought', 'use', 'saying', 'anything', 'till', 'pigeon', 'finished', 'wasnt', 'trouble', 'enough', 'hatching', 'eggs', 'said', 'pigeon', 'must', 'lookout', 'serpents', 'night', 'day', 'havent', 'wink', 'sleep', 'three', 'weeks', 'im', 'sorry', 'youve', 'annoyed', 'said', 'alice', 'beginning', 'see', 'meaning', 'id', 'taken', 'highest', 'tree', 'wood', 'continued', 'pigeon', 'raising', 'voice', 'shriek', 'thinking', 'free', 'last', 'must', 'needs', 'come', 'wriggling', 'sky', 'ugh', 'serpent', 'im', 'serpent', 'tell', 'said', 'alice', 'im', 'aim', 'well', 'said', 'pigeon', 'see', 'youre', 'trying', 'invent', 'something', 'iim', 'little', 'girl', 'said', 'alice', 'rather', 'doubtfully', 'remembered', 'number', 'changes', 'gone', 'day', 'likely', 'story', 'indeed', 'said', 'pigeon', 'tone', 'deepest', 'contempt', 'ive', 'seen', 'good', 'many', 'little', 'girls', 'time', 'never', 'one', 'neck', 'youre', 'serpent', 'theres', 'use', 'denying', 'suppose', 'youll', 'telling', 'next', 'never', 'tasted', 'egg', 'tasted', 'eggs', 'certainly', 'said', 'alice', 'truthful', 'child', 'little', 'girls', 'eat', 'eggs', 'quite', 'much', 'serpents', 'know', 'dont', 'believe', 'said', 'pigeon', 'theyre', 'kind', 'serpent', 'thats', 'say', 'new', 'idea', 'alice', 'quite', 'silent', 'minute', 'two', 'gave', 'pigeon', 'opportunity', 'adding', 'youre', 'looking', 'eggs', 'know', 'well', 'enough', 'matter', 'whether', 'youre', 'little', 'girl', 'serpent', 'matters', 'good', 'deal', 'said', 'alice', 'hastily', 'im', 'looking', 'eggs', 'happens', 'shouldnt', 'want', 'dont', 'like', 'raw', 'well', 'said', 'pigeon', 'sulky', 'tone', 'settled', 'nest', 'alice', 'crouched', 'among', 'trees', 'well', 'could', 'neck', 'kept', 'getting', 'entangled', 'among', 'branches', 'every', 'stop', 'untwist', 'remembered', 'still', 'held', 'pieces', 'mushroom', 'hands', 'set', 'work', 'carefully', 'nibbling', 'first', 'one', 'growing', 'sometimes', 'taller', 'sometimes', 'shorter', 'succeeded', 'bringing', 'usual', 'height', 'long', 'since', 'anything', 'near', 'right', 'size', 'felt', 'quite', 'strange', 'first', 'got', 'used', 'minutes', 'began', 'talking', 'usual', 'come', 'theres', 'half', 'plan', 'done', 'puzzling', 'changes', 'im', 'never', 'sure', 'im', 'going', 'one', 'minute', 'another', 'however', 'ive', 'got', 'back', 'right', 'size', 'next', 'thing', 'get', 'beautiful', 'gardenhow', 'done', 'wonder', 'said', 'came', 'suddenly', 'upon', 'open', 'place', 'little', 'house', 'four', 'feet', 'high', 'whoever', 'lives', 'thought', 'alice', 'itll', 'never', 'come', 'upon', 'size', 'frighten', 'wits', 'began', 'nibbling', 'righthand', 'bit', 'venture', 'go', 'near', 'house', 'till', 'brought', 'nine', 'inches', 'high', 'chapter', 'vi', 'pig', 'pepper', 'minute', 'two', 'stood', 'looking', 'house', 'wondering', 'next', 'suddenly', 'footman', 'livery', 'came', 'running', 'woodshe', 'considered', 'footman', 'livery', 'otherwise', 'judging', 'face', 'would', 'called', 'fishand', 'rapped', 'loudly', 'door', 'knuckles', 'opened', 'another', 'footman', 'livery', 'round', 'face', 'large', 'eyes', 'like', 'frog', 'footmen', 'alice', 'noticed', 'powdered', 'hair', 'curled', 'heads', 'felt', 'curious', 'know', 'crept', 'little', 'way', 'wood', 'listen', 'fishfootman', 'began', 'producing', 'arm', 'great', 'letter', 'nearly', 'large', 'handed', 'saying', 'solemn', 'tone', 'duchess', 'invitation', 'queen', 'play', 'croquet', 'frogfootman', 'repeated', 'solemn', 'tone', 'changing', 'order', 'words', 'little', 'queen', 'invitation', 'duchess', 'play', 'croquet', 'bowed', 'low', 'curls', 'got', 'entangled', 'together', 'alice', 'laughed', 'much', 'run', 'back', 'wood', 'fear', 'hearing', 'next', 'peeped', 'fishfootman', 'gone', 'sitting', 'ground', 'near', 'door', 'staring', 'stupidly', 'sky', 'alice', 'went', 'timidly', 'door', 'knocked', 'theres', 'sort', 'use', 'knocking', 'said', 'footman', 'two', 'reasons', 'first', 'im', 'side', 'door', 'secondly', 'theyre', 'making', 'noise', 'inside', 'one', 'could', 'possibly', 'hear', 'certainly', 'extraordinary', 'noise', 'going', 'withina', 'constant', 'howling', 'sneezing', 'every', 'great', 'crash', 'dish', 'kettle', 'broken', 'pieces', 'please', 'said', 'alice', 'get', 'might', 'sense', 'knocking', 'footman', 'went', 'without', 'attending', 'door', 'us', 'instance', 'inside', 'might', 'knock', 'could', 'let', 'know', 'looking', 'sky', 'time', 'speaking', 'alice', 'thought', 'decidedly', 'uncivil', 'perhaps', 'cant', 'help', 'said', 'eyes', 'nearly', 'top', 'head', 'rate', 'might', 'answer', 'questionshow', 'get', 'repeated', 'aloud', 'shall', 'sit', 'footman', 'remarked', 'till', 'tomorrow', 'moment', 'door', 'house', 'opened', 'large', 'plate', 'came', 'skimming', 'straight', 'footmans', 'head', 'grazed', 'nose', 'broke', 'pieces', 'one', 'trees', 'behind', 'next', 'day', 'maybe', 'footman', 'continued', 'tone', 'exactly', 'nothing', 'happened', 'get', 'asked', 'alice', 'louder', 'tone', 'get', 'said', 'footman', 'thats', 'first', 'question', 'know', 'doubt', 'alice', 'like', 'told', 'really', 'dreadful', 'muttered', 'way', 'creatures', 'argue', 'enough', 'drive', 'one', 'crazy', 'footman', 'seemed', 'think', 'good', 'opportunity', 'repeating', 'remark', 'variations', 'shall', 'sit', 'said', 'days', 'days', 'said', 'alice', 'anything', 'like', 'said', 'footman', 'began', 'whistling', 'oh', 'theres', 'use', 'talking', 'said', 'alice', 'desperately', 'hes', 'perfectly', 'idiotic', 'opened', 'door', 'went', 'door', 'led', 'right', 'large', 'kitchen', 'full', 'smoke', 'one', 'end', 'duchess', 'sitting', 'threelegged', 'stool', 'middle', 'nursing', 'baby', 'cook', 'leaning', 'fire', 'stirring', 'large', 'cauldron', 'seemed', 'full', 'soup', 'theres', 'certainly', 'much', 'pepper', 'soup', 'alice', 'said', 'well', 'could', 'sneezing', 'certainly', 'much', 'air', 'even', 'duchess', 'sneezed', 'occasionally', 'baby', 'sneezing', 'howling', 'alternately', 'without', 'moments', 'pause', 'things', 'kitchen', 'sneeze', 'cook', 'large', 'cat', 'sitting', 'hearth', 'grinning', 'ear', 'ear', 'please', 'would', 'tell', 'said', 'alice', 'little', 'timidly', 'quite', 'sure', 'whether', 'good', 'manners', 'speak', 'first', 'cat', 'grins', 'like', 'cheshire', 'cat', 'said', 'duchess', 'thats', 'pig', 'said', 'last', 'word', 'sudden', 'violence', 'alice', 'quite', 'jumped', 'saw', 'another', 'moment', 'addressed', 'baby', 'took', 'courage', 'went', 'didnt', 'know', 'cheshire', 'cats', 'always', 'grinned', 'fact', 'didnt', 'know', 'cats', 'could', 'grin', 'said', 'duchess', 'em', 'dont', 'know', 'alice', 'said', 'politely', 'feeling', 'quite', 'pleased', 'got', 'conversation', 'dont', 'know', 'much', 'said', 'duchess', 'thats', 'fact', 'alice', 'like', 'tone', 'remark', 'thought', 'would', 'well', 'introduce', 'subject', 'conversation', 'trying', 'fix', 'one', 'cook', 'took', 'cauldron', 'soup', 'fire', 'set', 'work', 'throwing', 'everything', 'within', 'reach', 'duchess', 'baby', 'fireirons', 'came', 'first', 'followed', 'shower', 'saucepans', 'plates', 'dishes', 'duchess', 'took', 'notice', 'even', 'hit', 'baby', 'howling', 'much', 'already', 'quite', 'impossible', 'say', 'whether', 'blows', 'hurt', 'oh', 'please', 'mind', 'youre', 'cried', 'alice', 'jumping', 'agony', 'terror', 'oh', 'goes', 'precious', 'nose', 'unusually', 'large', 'saucepan', 'flew', 'close', 'nearly', 'carried', 'everybody', 'minded', 'business', 'duchess', 'said', 'hoarse', 'growl', 'world', 'would', 'go', 'round', 'deal', 'faster', 'would', 'advantage', 'said', 'alice', 'felt', 'glad', 'get', 'opportunity', 'showing', 'little', 'knowledge', 'think', 'work', 'would', 'make', 'day', 'night', 'see', 'earth', 'takes', 'twentyfour', 'hours', 'turn', 'round', 'axis', 'talking', 'axes', 'said', 'duchess', 'chop', 'head', 'alice', 'glanced', 'rather', 'anxiously', 'cook', 'see', 'meant', 'take', 'hint', 'cook', 'busily', 'stirring', 'soup', 'seemed', 'listening', 'went', 'twentyfour', 'hours', 'think', 'twelve', 'oh', 'dont', 'bother', 'said', 'duchess', 'never', 'could', 'abide', 'figures', 'began', 'nursing', 'child', 'singing', 'sort', 'lullaby', 'giving', 'violent', 'shake', 'end', 'every', 'line', 'speak', 'roughly', 'little', 'boy', 'beat', 'sneezes', 'annoy', 'knows', 'teases', 'chorus', 'cook', 'baby', 'joined', 'wow', 'wow', 'wow', 'duchess', 'sang', 'second', 'verse', 'song', 'kept', 'tossing', 'baby', 'violently', 'poor', 'little', 'thing', 'howled', 'alice', 'could', 'hardly', 'hear', 'words', 'speak', 'severely', 'boy', 'beat', 'sneezes', 'thoroughly', 'enjoy', 'pepper', 'pleases', 'chorus', 'wow', 'wow', 'wow', 'may', 'nurse', 'bit', 'like', 'duchess', 'said', 'alice', 'flinging', 'baby', 'spoke', 'must', 'go', 'get', 'ready', 'play', 'croquet', 'queen', 'hurried', 'room', 'cook', 'threw', 'fryingpan', 'went', 'missed', 'alice', 'caught', 'baby', 'difficulty', 'queer', 'shaped', 'little', 'creature', 'held', 'arms', 'legs', 'directions', 'like', 'starfish', 'thought', 'alice', 'poor', 'little', 'thing', 'snorting', 'like', 'steamengine', 'caught', 'kept', 'doubling', 'straightening', 'altogether', 'first', 'minute', 'two', 'much', 'could', 'hold', 'soon', 'made', 'proper', 'way', 'nursing', 'twist', 'sort', 'knot', 'keep', 'tight', 'hold', 'right', 'ear', 'left', 'foot', 'prevent', 'undoing', 'carried', 'open', 'air', 'dont', 'take', 'child', 'away', 'thought', 'alice', 'theyre', 'sure', 'kill', 'day', 'two', 'wouldnt', 'murder', 'leave', 'behind', 'said', 'last', 'words', 'loud', 'little', 'thing', 'grunted', 'reply', 'left', 'sneezing', 'time', 'dont', 'grunt', 'said', 'alice', 'thats', 'proper', 'way', 'expressing', 'baby', 'grunted', 'alice', 'looked', 'anxiously', 'face', 'see', 'matter', 'could', 'doubt', 'turnup', 'nose', 'much', 'like', 'snout', 'real', 'nose', 'also', 'eyes', 'getting', 'extremely', 'small', 'baby', 'altogether', 'alice', 'like', 'look', 'thing', 'perhaps', 'sobbing', 'thought', 'looked', 'eyes', 'see', 'tears', 'tears', 'youre', 'going', 'turn', 'pig', 'dear', 'said', 'alice', 'seriously', 'ill', 'nothing', 'mind', 'poor', 'little', 'thing', 'sobbed', 'grunted', 'impossible', 'say', 'went', 'silence', 'alice', 'beginning', 'think', 'creature', 'get', 'home', 'grunted', 'violently', 'looked', 'face', 'alarm', 'time', 'could', 'mistake', 'neither', 'less', 'pig', 'felt', 'would', 'quite', 'absurd', 'carry', 'set', 'little', 'creature', 'felt', 'quite', 'relieved', 'see', 'trot', 'away', 'quietly', 'wood', 'grown', 'said', 'would', 'made', 'dreadfully', 'ugly', 'child', 'makes', 'rather', 'handsome', 'pig', 'think', 'began', 'thinking', 'children', 'knew', 'might', 'well', 'pigs', 'saying', 'one', 'knew', 'right', 'way', 'change', 'little', 'startled', 'seeing', 'cheshire', 'cat', 'sitting', 'bough', 'tree', 'yards', 'cat', 'grinned', 'saw', 'alice', 'looked', 'good', 'natured', 'thought', 'still', 'long', 'claws', 'great', 'many', 'teeth', 'felt', 'ought', 'treated', 'respect', 'cheshire', 'puss', 'began', 'rather', 'timidly', 'know', 'whether', 'would', 'like', 'name', 'however', 'grinned', 'little', 'wider', 'come', 'pleased', 'far', 'thought', 'alice', 'went', 'would', 'tell', 'please', 'way', 'ought', 'go', 'depends', 'good', 'deal', 'want', 'get', 'said', 'cat', 'dont', 'much', 'care', 'said', 'alice', 'doesnt', 'matter', 'way', 'go', 'said', 'cat', 'long', 'get', 'somewhere', 'alice', 'added', 'explanation', 'oh', 'youre', 'sure', 'said', 'cat', 'walk', 'long', 'enough', 'alice', 'felt', 'could', 'denied', 'tried', 'another', 'question', 'sort', 'people', 'live', 'direction', 'cat', 'said', 'waving', 'right', 'paw', 'round', 'lives', 'hatter', 'direction', 'waving', 'paw', 'lives', 'march', 'hare', 'visit', 'either', 'like', 'theyre', 'mad', 'dont', 'want', 'go', 'among', 'mad', 'people', 'alice', 'remarked', 'oh', 'cant', 'help', 'said', 'cat', 'mad', 'im', 'mad', 'youre', 'mad', 'know', 'im', 'mad', 'said', 'alice', 'must', 'said', 'cat', 'wouldnt', 'come', 'alice', 'didnt', 'think', 'proved', 'however', 'went', 'know', 'youre', 'mad', 'begin', 'said', 'cat', 'dogs', 'mad', 'grant', 'suppose', 'said', 'alice', 'well', 'cat', 'went', 'see', 'dog', 'growls', 'angry', 'wags', 'tail', 'pleased', 'growl', 'im', 'pleased', 'wag', 'tail', 'im', 'angry', 'therefore', 'im', 'mad', 'call', 'purring', 'growling', 'said', 'alice', 'call', 'like', 'said', 'cat', 'play', 'croquet', 'queen', 'today', 'like', 'much', 'said', 'alice', 'havent', 'invited', 'yet', 'youll', 'see', 'said', 'cat', 'vanished', 'alice', 'much', 'surprised', 'getting', 'used', 'queer', 'things', 'happening', 'looking', 'place', 'suddenly', 'appeared', 'bythebye', 'became', 'baby', 'said', 'cat', 'id', 'nearly', 'forgotten', 'ask', 'turned', 'pig', 'alice', 'quietly', 'said', 'come', 'back', 'natural', 'way', 'thought', 'would', 'said', 'cat', 'vanished', 'alice', 'waited', 'little', 'half', 'expecting', 'see', 'appear', 'minute', 'two', 'walked', 'direction', 'march', 'hare', 'said', 'live', 'ive', 'seen', 'hatters', 'said', 'march', 'hare', 'much', 'interesting', 'perhaps', 'may', 'wont', 'raving', 'madat', 'least', 'mad', 'march', 'said', 'looked', 'cat', 'sitting', 'branch', 'tree', 'say', 'pig', 'fig', 'said', 'cat', 'said', 'pig', 'replied', 'alice', 'wish', 'wouldnt', 'keep', 'appearing', 'vanishing', 'suddenly', 'make', 'one', 'quite', 'giddy', 'right', 'said', 'cat', 'time', 'vanished', 'quite', 'slowly', 'beginning', 'end', 'tail', 'ending', 'grin', 'remained', 'time', 'rest', 'gone', 'well', 'ive', 'often', 'seen', 'cat', 'without', 'grin', 'thought', 'alice', 'grin', 'without', 'cat', 'curious', 'thing', 'ever', 'saw', 'life', 'gone', 'much', 'farther', 'came', 'sight', 'house', 'march', 'hare', 'thought', 'must', 'right', 'house', 'chimneys', 'shaped', 'like', 'ears', 'roof', 'thatched', 'fur', 'large', 'house', 'like', 'go', 'nearer', 'till', 'nibbled', 'lefthand', 'bit', 'mushroom', 'raised', 'two', 'feet', 'high', 'even', 'walked', 'towards', 'rather', 'timidly', 'saying', 'suppose', 'raving', 'mad', 'almost', 'wish', 'id', 'gone', 'see', 'hatter', 'instead', 'chapter', 'vii', 'mad', 'teaparty', 'table', 'set', 'tree', 'front', 'house', 'march', 'hare', 'hatter', 'tea', 'dormouse', 'sitting', 'fast', 'asleep', 'two', 'using', 'cushion', 'resting', 'elbows', 'talking', 'head', 'uncomfortable', 'dormouse', 'thought', 'alice', 'asleep', 'suppose', 'doesnt', 'mind', 'table', 'large', 'one', 'three', 'crowded', 'together', 'one', 'corner', 'room', 'room', 'cried', 'saw', 'alice', 'coming', 'theres', 'plenty', 'room', 'said', 'alice', 'indignantly', 'sat', 'large', 'armchair', 'one', 'end', 'table', 'wine', 'march', 'hare', 'said', 'encouraging', 'tone', 'alice', 'looked', 'round', 'table', 'nothing', 'tea', 'dont', 'see', 'wine', 'remarked', 'isnt', 'said', 'march', 'hare', 'wasnt', 'civil', 'offer', 'said', 'alice', 'angrily', 'wasnt', 'civil', 'sit', 'without', 'invited', 'said', 'march', 'hare', 'didnt', 'know', 'table', 'said', 'alice', 'laid', 'great', 'many', 'three', 'hair', 'wants', 'cutting', 'said', 'hatter', 'looking', 'alice', 'time', 'great', 'curiosity', 'first', 'speech', 'learn', 'make', 'personal', 'remarks', 'alice', 'said', 'severity', 'rude', 'hatter', 'opened', 'eyes', 'wide', 'hearing', 'said', 'raven', 'like', 'writingdesk', 'come', 'shall', 'fun', 'thought', 'alice', 'im', 'glad', 'theyve', 'begun', 'asking', 'riddlesi', 'believe', 'guess', 'added', 'aloud', 'mean', 'think', 'find', 'answer', 'said', 'march', 'hare', 'exactly', 'said', 'alice', 'say', 'mean', 'march', 'hare', 'went', 'alice', 'hastily', 'replied', 'leastat', 'least', 'mean', 'saythats', 'thing', 'know', 'thing', 'bit', 'said', 'hatter', 'might', 'well', 'say', 'see', 'eat', 'thing', 'eat', 'see', 'might', 'well', 'say', 'added', 'march', 'hare', 'like', 'get', 'thing', 'get', 'like', 'might', 'well', 'say', 'added', 'dormouse', 'seemed', 'talking', 'sleep', 'breathe', 'sleep', 'thing', 'sleep', 'breathe', 'thing', 'said', 'hatter', 'conversation', 'dropped', 'party', 'sat', 'silent', 'minute', 'alice', 'thought', 'could', 'remember', 'ravens', 'writingdesks', 'wasnt', 'much', 'hatter', 'first', 'break', 'silence', 'day', 'month', 'said', 'turning', 'alice', 'taken', 'watch', 'pocket', 'looking', 'uneasily', 'shaking', 'every', 'holding', 'ear', 'alice', 'considered', 'little', 'said', 'fourth', 'two', 'days', 'wrong', 'sighed', 'hatter', 'told', 'butter', 'wouldnt', 'suit', 'works', 'added', 'looking', 'angrily', 'march', 'hare', 'best', 'butter', 'march', 'hare', 'meekly', 'replied', 'yes', 'crumbs', 'must', 'got', 'well', 'hatter', 'grumbled', 'shouldnt', 'put', 'breadknife', 'march', 'hare', 'took', 'watch', 'looked', 'gloomily', 'dipped', 'cup', 'tea', 'looked', 'could', 'think', 'nothing', 'better', 'say', 'first', 'remark', 'best', 'butter', 'know', 'alice', 'looking', 'shoulder', 'curiosity', 'funny', 'watch', 'remarked', 'tells', 'day', 'month', 'doesnt', 'tell', 'oclock', 'muttered', 'hatter', 'watch', 'tell', 'year', 'course', 'alice', 'replied', 'readily', 'thats', 'stays', 'year', 'long', 'time', 'together', 'case', 'mine', 'said', 'hatter', 'alice', 'felt', 'dreadfully', 'puzzled', 'hatters', 'remark', 'seemed', 'sort', 'meaning', 'yet', 'certainly', 'english', 'dont', 'quite', 'understand', 'said', 'politely', 'could', 'dormouse', 'asleep', 'said', 'hatter', 'poured', 'little', 'hot', 'tea', 'upon', 'nose', 'dormouse', 'shook', 'head', 'impatiently', 'said', 'without', 'opening', 'eyes', 'course', 'course', 'going', 'remark', 'guessed', 'riddle', 'yet', 'hatter', 'said', 'turning', 'alice', 'give', 'alice', 'replied', 'whats', 'answer', 'havent', 'slightest', 'idea', 'said', 'hatter', 'said', 'march', 'hare', 'alice', 'sighed', 'wearily', 'think', 'might', 'something', 'better', 'time', 'said', 'waste', 'asking', 'riddles', 'answers', 'knew', 'time', 'well', 'said', 'hatter', 'wouldnt', 'talk', 'wasting', 'dont', 'know', 'mean', 'said', 'alice', 'course', 'dont', 'hatter', 'said', 'tossing', 'head', 'contemptuously', 'dare', 'say', 'never', 'even', 'spoke', 'time', 'perhaps', 'alice', 'cautiously', 'replied', 'know', 'beat', 'time', 'learn', 'music', 'ah', 'accounts', 'said', 'hatter', 'wont', 'stand', 'beating', 'kept', 'good', 'terms', 'hed', 'almost', 'anything', 'liked', 'clock', 'instance', 'suppose', 'nine', 'oclock', 'morning', 'time', 'begin', 'lessons', 'youd', 'whisper', 'hint', 'time', 'round', 'goes', 'clock', 'twinkling', 'halfpast', 'one', 'time', 'dinner', 'wish', 'march', 'hare', 'said', 'whisper', 'would', 'grand', 'certainly', 'said', 'alice', 'thoughtfully', 'theni', 'shouldnt', 'hungry', 'know', 'first', 'perhaps', 'said', 'hatter', 'could', 'keep', 'halfpast', 'one', 'long', 'liked', 'way', 'manage', 'alice', 'asked', 'hatter', 'shook', 'head', 'mournfully', 'replied', 'quarrelled', 'last', 'marchjust', 'went', 'mad', 'know', 'pointing', 'tea', 'spoon', 'march', 'hare', 'great', 'concert', 'given', 'queen', 'hearts', 'sing', 'twinkle', 'twinkle', 'little', 'bat', 'wonder', 'youre', 'know', 'song', 'perhaps', 'ive', 'heard', 'something', 'like', 'said', 'alice', 'goes', 'know', 'hatter', 'continued', 'way', 'world', 'fly', 'like', 'teatray', 'sky', 'twinkle', 'twinkle', 'dormouse', 'shook', 'began', 'singing', 'sleep', 'twinkle', 'twinkle', 'twinkle', 'twinkle', 'went', 'long', 'pinch', 'make', 'stop', 'well', 'id', 'hardly', 'finished', 'first', 'verse', 'said', 'hatter', 'queen', 'jumped', 'bawled', 'hes', 'murdering', 'time', 'head', 'dreadfully', 'savage', 'exclaimed', 'alice', 'ever', 'since', 'hatter', 'went', 'mournful', 'tone', 'wont', 'thing', 'ask', 'always', 'six', 'oclock', 'bright', 'idea', 'came', 'alices', 'head', 'reason', 'many', 'teathings', 'put', 'asked', 'yes', 'thats', 'said', 'hatter', 'sigh', 'always', 'teatime', 'weve', 'time', 'wash', 'things', 'whiles', 'keep', 'moving', 'round', 'suppose', 'said', 'alice', 'exactly', 'said', 'hatter', 'things', 'get', 'used', 'happens', 'come', 'beginning', 'alice', 'ventured', 'ask', 'suppose', 'change', 'subject', 'march', 'hare', 'interrupted', 'yawning', 'im', 'getting', 'tired', 'vote', 'young', 'lady', 'tells', 'us', 'story', 'im', 'afraid', 'dont', 'know', 'one', 'said', 'alice', 'rather', 'alarmed', 'proposal', 'dormouse', 'shall', 'cried', 'wake', 'dormouse', 'pinched', 'sides', 'dormouse', 'slowly', 'opened', 'eyes', 'wasnt', 'asleep', 'said', 'hoarse', 'feeble', 'voice', 'heard', 'every', 'word', 'fellows', 'saying', 'tell', 'us', 'story', 'said', 'march', 'hare', 'yes', 'please', 'pleaded', 'alice', 'quick', 'added', 'hatter', 'youll', 'asleep', 'done', 'upon', 'time', 'three', 'little', 'sisters', 'dormouse', 'began', 'great', 'hurry', 'names', 'elsie', 'lacie', 'tillie', 'lived', 'bottom', 'well', 'live', 'said', 'alice', 'always', 'took', 'great', 'interest', 'questions', 'eating', 'drinking', 'lived', 'treacle', 'said', 'dormouse', 'thinking', 'minute', 'two', 'couldnt', 'done', 'know', 'alice', 'gently', 'remarked', 'theyd', 'ill', 'said', 'dormouse', 'ill', 'alice', 'tried', 'fancy', 'extraordinary', 'ways', 'living', 'would', 'like', 'puzzled', 'much', 'went', 'live', 'bottom', 'well', 'take', 'tea', 'march', 'hare', 'said', 'alice', 'earnestly', 'ive', 'nothing', 'yet', 'alice', 'replied', 'offended', 'tone', 'cant', 'take', 'mean', 'cant', 'take', 'less', 'said', 'hatter', 'easy', 'take', 'nothing', 'nobody', 'asked', 'opinion', 'said', 'alice', 'whos', 'making', 'personal', 'remarks', 'hatter', 'asked', 'triumphantly', 'alice', 'quite', 'know', 'say', 'helped', 'tea', 'breadandbutter', 'turned', 'dormouse', 'repeated', 'question', 'live', 'bottom', 'well', 'dormouse', 'took', 'minute', 'two', 'think', 'said', 'treaclewell', 'theres', 'thing', 'alice', 'beginning', 'angrily', 'hatter', 'march', 'hare', 'went', 'sh', 'sh', 'dormouse', 'sulkily', 'remarked', 'cant', 'civil', 'youd', 'better', 'finish', 'story', 'please', 'go', 'alice', 'said', 'humbly', 'wont', 'interrupt', 'dare', 'say', 'may', 'one', 'one', 'indeed', 'said', 'dormouse', 'indignantly', 'however', 'consented', 'go', 'three', 'little', 'sistersthey', 'learning', 'draw', 'know', 'draw', 'said', 'alice', 'quite', 'forgetting', 'promise', 'treacle', 'said', 'dormouse', 'without', 'considering', 'time', 'want', 'clean', 'cup', 'interrupted', 'hatter', 'lets', 'move', 'one', 'place', 'moved', 'spoke', 'dormouse', 'followed', 'march', 'hare', 'moved', 'dormouses', 'place', 'alice', 'rather', 'unwillingly', 'took', 'place', 'march', 'hare', 'hatter', 'one', 'got', 'advantage', 'change', 'alice', 'good', 'deal', 'worse', 'march', 'hare', 'upset', 'milkjug', 'plate', 'alice', 'wish', 'offend', 'dormouse', 'began', 'cautiously', 'dont', 'understand', 'draw', 'treacle', 'draw', 'water', 'waterwell', 'said', 'hatter', 'think', 'could', 'draw', 'treacle', 'treaclewelleh', 'stupid', 'well', 'alice', 'said', 'dormouse', 'choosing', 'notice', 'last', 'remark', 'course', 'said', 'dormouse', 'well', 'answer', 'confused', 'poor', 'alice', 'let', 'dormouse', 'go', 'time', 'without', 'interrupting', 'learning', 'draw', 'dormouse', 'went', 'yawning', 'rubbing', 'eyes', 'getting', 'sleepy', 'drew', 'manner', 'thingseverything', 'begins', 'said', 'alice', 'said', 'march', 'hare', 'alice', 'silent', 'dormouse', 'closed', 'eyes', 'time', 'going', 'doze', 'pinched', 'hatter', 'woke', 'little', 'shriek', 'went', 'begins', 'mousetraps', 'moon', 'memory', 'muchness', 'know', 'say', 'things', 'much', 'muchnessdid', 'ever', 'see', 'thing', 'drawing', 'muchness', 'really', 'ask', 'said', 'alice', 'much', 'confused', 'dont', 'think', 'shouldnt', 'talk', 'said', 'hatter', 'piece', 'rudeness', 'alice', 'could', 'bear', 'got', 'great', 'disgust', 'walked', 'dormouse', 'fell', 'asleep', 'instantly', 'neither', 'others', 'took', 'least', 'notice', 'going', 'though', 'looked', 'back', 'twice', 'half', 'hoping', 'would', 'call', 'last', 'time', 'saw', 'trying', 'put', 'dormouse', 'teapot', 'rate', 'ill', 'never', 'go', 'said', 'alice', 'picked', 'way', 'wood', 'stupidest', 'teaparty', 'ever', 'life', 'said', 'noticed', 'one', 'trees', 'door', 'leading', 'right', 'thats', 'curious', 'thought', 'everythings', 'curious', 'today', 'think', 'may', 'well', 'go', 'went', 'found', 'long', 'hall', 'close', 'little', 'glass', 'table', 'ill', 'manage', 'better', 'time', 'said', 'began', 'taking', 'little', 'golden', 'key', 'unlocking', 'door', 'led', 'garden', 'went', 'work', 'nibbling', 'mushroom', 'kept', 'piece', 'pocket', 'till', 'foot', 'high', 'walked', 'little', 'passage', 'thenshe', 'found', 'last', 'beautiful', 'garden', 'among', 'bright', 'flowerbeds', 'cool', 'fountains', 'chapter', 'viii', 'queens', 'croquetground', 'large', 'rosetree', 'stood', 'near', 'entrance', 'garden', 'roses', 'growing', 'white', 'three', 'gardeners', 'busily', 'painting', 'red', 'alice', 'thought', 'curious', 'thing', 'went', 'nearer', 'watch', 'came', 'heard', 'one', 'say', 'look', 'five', 'dont', 'go', 'splashing', 'paint', 'like', 'couldnt', 'help', 'said', 'five', 'sulky', 'tone', 'seven', 'jogged', 'elbow', 'seven', 'looked', 'said', 'thats', 'right', 'five', 'always', 'lay', 'blame', 'others', 'youd', 'better', 'talk', 'said', 'five', 'heard', 'queen', 'say', 'yesterday', 'deserved', 'beheaded', 'said', 'one', 'spoken', 'first', 'thats', 'none', 'business', 'two', 'said', 'seven', 'yes', 'business', 'said', 'five', 'ill', 'tell', 'himit', 'bringing', 'cook', 'tuliproots', 'instead', 'onions', 'seven', 'flung', 'brush', 'begun', 'well', 'unjust', 'things', 'eye', 'chanced', 'fall', 'upon', 'alice', 'stood', 'watching', 'checked', 'suddenly', 'others', 'looked', 'round', 'also', 'bowed', 'low', 'would', 'tell', 'said', 'alice', 'little', 'timidly', 'painting', 'roses', 'five', 'seven', 'said', 'nothing', 'looked', 'two', 'two', 'began', 'low', 'voice', 'fact', 'see', 'miss', 'ought', 'red', 'rosetree', 'put', 'white', 'one', 'mistake', 'queen', 'find', 'heads', 'cut', 'know', 'see', 'miss', 'best', 'afore', 'comes', 'moment', 'five', 'anxiously', 'looking', 'across', 'garden', 'called', 'queen', 'queen', 'three', 'gardeners', 'instantly', 'threw', 'flat', 'upon', 'faces', 'sound', 'many', 'footsteps', 'alice', 'looked', 'round', 'eager', 'see', 'queen', 'first', 'came', 'ten', 'soldiers', 'carrying', 'clubs', 'shaped', 'like', 'three', 'gardeners', 'oblong', 'flat', 'hands', 'feet', 'corners', 'next', 'ten', 'courtiers', 'ornamented', 'diamonds', 'walked', 'two', 'two', 'soldiers', 'came', 'royal', 'children', 'ten', 'little', 'dears', 'came', 'jumping', 'merrily', 'along', 'hand', 'hand', 'couples', 'ornamented', 'hearts', 'next', 'came', 'guests', 'mostly', 'kings', 'queens', 'among', 'alice', 'recognised', 'white', 'rabbit', 'talking', 'hurried', 'nervous', 'manner', 'smiling', 'everything', 'said', 'went', 'without', 'noticing', 'followed', 'knave', 'hearts', 'carrying', 'kings', 'crown', 'crimson', 'velvet', 'cushion', 'last', 'grand', 'procession', 'came', 'king', 'queen', 'hearts', 'alice', 'rather', 'doubtful', 'whether', 'ought', 'lie', 'face', 'like', 'three', 'gardeners', 'could', 'remember', 'ever', 'heard', 'rule', 'processions', 'besides', 'would', 'use', 'procession', 'thought', 'people', 'lie', 'upon', 'faces', 'couldnt', 'see', 'stood', 'still', 'waited', 'procession', 'came', 'opposite', 'alice', 'stopped', 'looked', 'queen', 'said', 'severely', 'said', 'knave', 'hearts', 'bowed', 'smiled', 'reply', 'idiot', 'said', 'queen', 'tossing', 'head', 'impatiently', 'turning', 'alice', 'went', 'whats', 'name', 'child', 'name', 'alice', 'please', 'majesty', 'said', 'alice', 'politely', 'added', 'theyre', 'pack', 'cards', 'neednt', 'afraid', 'said', 'queen', 'pointing', 'three', 'gardeners', 'lying', 'round', 'rosetree', 'see', 'lying', 'faces', 'pattern', 'backs', 'rest', 'pack', 'could', 'tell', 'whether', 'gardeners', 'soldiers', 'courtiers', 'three', 'children', 'know', 'said', 'alice', 'surprised', 'courage', 'business', 'mine', 'queen', 'turned', 'crimson', 'fury', 'glaring', 'moment', 'like', 'wild', 'beast', 'screamed', 'head', 'nonsense', 'said', 'alice', 'loudly', 'decidedly', 'queen', 'silent', 'king', 'laid', 'hand', 'upon', 'arm', 'timidly', 'said', 'consider', 'dear', 'child', 'queen', 'turned', 'angrily', 'away', 'said', 'knave', 'turn', 'knave', 'carefully', 'one', 'foot', 'get', 'said', 'queen', 'shrill', 'loud', 'voice', 'three', 'gardeners', 'instantly', 'jumped', 'began', 'bowing', 'king', 'queen', 'royal', 'children', 'everybody', 'else', 'leave', 'screamed', 'queen', 'make', 'giddy', 'turning', 'rosetree', 'went', 'may', 'please', 'majesty', 'said', 'two', 'humble', 'tone', 'going', 'one', 'knee', 'spoke', 'trying', 'see', 'said', 'queen', 'meanwhile', 'examining', 'roses', 'heads', 'procession', 'moved', 'three', 'soldiers', 'remaining', 'behind', 'execute', 'unfortunate', 'gardeners', 'ran', 'alice', 'protection', 'shant', 'beheaded', 'said', 'alice', 'put', 'large', 'flowerpot', 'stood', 'near', 'three', 'soldiers', 'wandered', 'minute', 'two', 'looking', 'quietly', 'marched', 'others', 'heads', 'shouted', 'queen', 'heads', 'gone', 'please', 'majesty', 'soldiers', 'shouted', 'reply', 'thats', 'right', 'shouted', 'queen', 'play', 'croquet', 'soldiers', 'silent', 'looked', 'alice', 'question', 'evidently', 'meant', 'yes', 'shouted', 'alice', 'come', 'roared', 'queen', 'alice', 'joined', 'procession', 'wondering', 'much', 'would', 'happen', 'next', 'itsits', 'fine', 'day', 'said', 'timid', 'voice', 'side', 'walking', 'white', 'rabbit', 'peeping', 'anxiously', 'face', 'said', 'alice', 'wheres', 'duchess', 'hush', 'hush', 'said', 'rabbit', 'low', 'hurried', 'tone', 'looked', 'anxiously', 'shoulder', 'spoke', 'raised', 'upon', 'tiptoe', 'put', 'mouth', 'close', 'ear', 'whispered', 'shes', 'sentence', 'execution', 'said', 'alice', 'say', 'pity', 'rabbit', 'asked', 'didnt', 'said', 'alice', 'dont', 'think', 'pity', 'said', 'boxed', 'queens', 'ears', 'rabbit', 'began', 'alice', 'gave', 'little', 'scream', 'laughter', 'oh', 'hush', 'rabbit', 'whispered', 'frightened', 'tone', 'queen', 'hear', 'see', 'came', 'rather', 'late', 'queen', 'said', 'get', 'places', 'shouted', 'queen', 'voice', 'thunder', 'people', 'began', 'running', 'directions', 'tumbling', 'however', 'got', 'settled', 'minute', 'two', 'game', 'began', 'alice', 'thought', 'never', 'seen', 'curious', 'croquetground', 'life', 'ridges', 'furrows', 'balls', 'live', 'hedgehogs', 'mallets', 'live', 'flamingoes', 'soldiers', 'double', 'stand', 'hands', 'feet', 'make', 'arches', 'chief', 'difficulty', 'alice', 'found', 'first', 'managing', 'flamingo', 'succeeded', 'getting', 'body', 'tucked', 'away', 'comfortably', 'enough', 'arm', 'legs', 'hanging', 'generally', 'got', 'neck', 'nicely', 'straightened', 'going', 'give', 'hedgehog', 'blow', 'head', 'would', 'twist', 'round', 'look', 'face', 'puzzled', 'expression', 'could', 'help', 'bursting', 'laughing', 'got', 'head', 'going', 'begin', 'provoking', 'find', 'hedgehog', 'unrolled', 'act', 'crawling', 'away', 'besides', 'generally', 'ridge', 'furrow', 'way', 'wherever', 'wanted', 'send', 'hedgehog', 'doubledup', 'soldiers', 'always', 'getting', 'walking', 'parts', 'ground', 'alice', 'soon', 'came', 'conclusion', 'difficult', 'game', 'indeed', 'players', 'played', 'without', 'waiting', 'turns', 'quarrelling', 'fighting', 'hedgehogs', 'short', 'time', 'queen', 'furious', 'passion', 'went', 'stamping', 'shouting', 'head', 'head', 'minute', 'alice', 'began', 'feel', 'uneasy', 'sure', 'yet', 'dispute', 'queen', 'knew', 'might', 'happen', 'minute', 'thought', 'would', 'become', 'theyre', 'dreadfully', 'fond', 'beheading', 'people', 'great', 'wonder', 'theres', 'one', 'left', 'alive', 'looking', 'way', 'escape', 'wondering', 'whether', 'could', 'get', 'away', 'without', 'seen', 'noticed', 'curious', 'appearance', 'air', 'puzzled', 'much', 'first', 'watching', 'minute', 'two', 'made', 'grin', 'said', 'cheshire', 'cat', 'shall', 'somebody', 'talk', 'getting', 'said', 'cat', 'soon', 'mouth', 'enough', 'speak', 'alice', 'waited', 'till', 'eyes', 'appeared', 'nodded', 'use', 'speaking', 'thought', 'till', 'ears', 'come', 'least', 'one', 'another', 'minute', 'whole', 'head', 'appeared', 'alice', 'put', 'flamingo', 'began', 'account', 'game', 'feeling', 'glad', 'someone', 'listen', 'cat', 'seemed', 'think', 'enough', 'sight', 'appeared', 'dont', 'think', 'play', 'fairly', 'alice', 'began', 'rather', 'complaining', 'tone', 'quarrel', 'dreadfully', 'one', 'cant', 'hear', 'oneself', 'speakand', 'dont', 'seem', 'rules', 'particular', 'least', 'nobody', 'attends', 'themand', 'youve', 'idea', 'confusing', 'things', 'alive', 'instance', 'theres', 'arch', 'ive', 'got', 'go', 'next', 'walking', 'end', 'groundand', 'croqueted', 'queens', 'hedgehog', 'ran', 'away', 'saw', 'mine', 'coming', 'like', 'queen', 'said', 'cat', 'low', 'voice', 'said', 'alice', 'shes', 'extremely', 'noticed', 'queen', 'close', 'behind', 'listening', 'went', 'likely', 'win', 'hardly', 'worth', 'finishing', 'game', 'queen', 'smiled', 'passed', 'talking', 'said', 'king', 'going', 'alice', 'looking', 'cats', 'head', 'great', 'curiosity', 'friend', 'minea', 'cheshire', 'cat', 'said', 'alice', 'allow', 'introduce', 'dont', 'like', 'look', 'said', 'king', 'however', 'may', 'kiss', 'hand', 'likes', 'id', 'rather', 'cat', 'remarked', 'dont', 'impertinent', 'said', 'king', 'dont', 'look', 'like', 'got', 'behind', 'alice', 'spoke', 'cat', 'may', 'look', 'king', 'said', 'alice', 'ive', 'read', 'book', 'dont', 'remember', 'well', 'must', 'removed', 'said', 'king', 'decidedly', 'called', 'queen', 'passing', 'moment', 'dear', 'wish', 'would', 'cat', 'removed', 'queen', 'one', 'way', 'settling', 'difficulties', 'great', 'small', 'head', 'said', 'without', 'even', 'looking', 'round', 'ill', 'fetch', 'executioner', 'said', 'king', 'eagerly', 'hurried', 'alice', 'thought', 'might', 'well', 'go', 'back', 'see', 'game', 'going', 'heard', 'queens', 'voice', 'distance', 'screaming', 'passion', 'already', 'heard', 'sentence', 'three', 'players', 'executed', 'missed', 'turns', 'like', 'look', 'things', 'game', 'confusion', 'never', 'knew', 'whether', 'turn', 'went', 'search', 'hedgehog', 'hedgehog', 'engaged', 'fight', 'another', 'hedgehog', 'seemed', 'alice', 'excellent', 'opportunity', 'croqueting', 'one', 'difficulty', 'flamingo', 'gone', 'across', 'side', 'garden', 'alice', 'could', 'see', 'trying', 'helpless', 'sort', 'way', 'fly', 'tree', 'time', 'caught', 'flamingo', 'brought', 'back', 'fight', 'hedgehogs', 'sight', 'doesnt', 'matter', 'much', 'thought', 'alice', 'arches', 'gone', 'side', 'ground', 'tucked', 'away', 'arm', 'might', 'escape', 'went', 'back', 'little', 'conversation', 'friend', 'got', 'back', 'cheshire', 'cat', 'surprised', 'find', 'quite', 'large', 'crowd', 'collected', 'round', 'dispute', 'going', 'executioner', 'king', 'queen', 'talking', 'rest', 'quite', 'silent', 'looked', 'uncomfortable', 'moment', 'alice', 'appeared', 'appealed', 'three', 'settle', 'question', 'repeated', 'arguments', 'though', 'spoke', 'found', 'hard', 'indeed', 'make', 'exactly', 'said', 'executioners', 'argument', 'couldnt', 'cut', 'head', 'unless', 'body', 'cut', 'never', 'thing', 'wasnt', 'going', 'begin', 'time', 'life', 'kings', 'argument', 'anything', 'head', 'could', 'beheaded', 'werent', 'talk', 'nonsense', 'queens', 'argument', 'something', 'wasnt', 'done', 'less', 'time', 'shed', 'everybody', 'executed', 'round', 'last', 'remark', 'made', 'whole', 'party', 'look', 'grave', 'anxious', 'alice', 'could', 'think', 'nothing', 'else', 'say', 'belongs', 'duchess', 'youd', 'better', 'ask', 'shes', 'prison', 'queen', 'said', 'executioner', 'fetch', 'executioner', 'went', 'like', 'arrow', 'cats', 'head', 'began', 'fading', 'away', 'moment', 'gone', 'time', 'come', 'back', 'duchess', 'entirely', 'disappeared', 'king', 'executioner', 'ran', 'wildly', 'looking', 'rest', 'party', 'went', 'back', 'game', 'chapter', 'ix', 'mock', 'turtles', 'story', 'cant', 'think', 'glad', 'see', 'dear', 'old', 'thing', 'said', 'duchess', 'tucked', 'arm', 'affectionately', 'alices', 'walked', 'together', 'alice', 'glad', 'find', 'pleasant', 'temper', 'thought', 'perhaps', 'pepper', 'made', 'savage', 'met', 'kitchen', 'im', 'duchess', 'said', 'hopeful', 'tone', 'though', 'wont', 'pepper', 'kitchen', 'soup', 'well', 'withoutmaybe', 'always', 'pepper', 'makes', 'people', 'hottempered', 'went', 'much', 'pleased', 'found', 'new', 'kind', 'rule', 'vinegar', 'makes', 'sourand', 'camomile', 'makes', 'bitterandand', 'barleysugar', 'things', 'make', 'children', 'sweettempered', 'wish', 'people', 'knew', 'wouldnt', 'stingy', 'know', 'quite', 'forgotten', 'duchess', 'time', 'little', 'startled', 'heard', 'voice', 'close', 'ear', 'youre', 'thinking', 'something', 'dear', 'makes', 'forget', 'talk', 'cant', 'tell', 'moral', 'shall', 'remember', 'bit', 'perhaps', 'hasnt', 'one', 'alice', 'ventured', 'remark', 'tut', 'tut', 'child', 'said', 'duchess', 'everythings', 'got', 'moral', 'find', 'squeezed', 'closer', 'alices', 'side', 'spoke', 'alice', 'much', 'like', 'keeping', 'close', 'first', 'duchess', 'ugly', 'secondly', 'exactly', 'right', 'height', 'rest', 'chin', 'upon', 'alices', 'shoulder', 'uncomfortably', 'sharp', 'chin', 'however', 'like', 'rude', 'bore', 'well', 'could', 'games', 'going', 'rather', 'better', 'said', 'way', 'keeping', 'conversation', 'little', 'tis', 'said', 'duchess', 'moral', 'isoh', 'tis', 'love', 'tis', 'love', 'makes', 'world', 'go', 'round', 'somebody', 'said', 'alice', 'whispered', 'done', 'everybody', 'minding', 'business', 'ah', 'well', 'means', 'much', 'thing', 'said', 'duchess', 'digging', 'sharp', 'little', 'chin', 'alices', 'shoulder', 'added', 'moral', 'istake', 'care', 'sense', 'sounds', 'take', 'care', 'fond', 'finding', 'morals', 'things', 'alice', 'thought', 'dare', 'say', 'youre', 'wondering', 'dont', 'put', 'arm', 'round', 'waist', 'duchess', 'said', 'pause', 'reason', 'im', 'doubtful', 'temper', 'flamingo', 'shall', 'try', 'experiment', 'might', 'bite', 'alice', 'cautiously', 'replied', 'feeling', 'anxious', 'experiment', 'tried', 'true', 'said', 'duchess', 'flamingoes', 'mustard', 'bite', 'moral', 'isbirds', 'feather', 'flock', 'together', 'mustard', 'isnt', 'bird', 'alice', 'remarked', 'right', 'usual', 'said', 'duchess', 'clear', 'way', 'putting', 'things', 'mineral', 'think', 'said', 'alice', 'course', 'said', 'duchess', 'seemed', 'ready', 'agree', 'everything', 'alice', 'said', 'theres', 'large', 'mustardmine', 'near', 'moral', 'isthe', 'mine', 'less', 'oh', 'know', 'exclaimed', 'alice', 'attended', 'last', 'remark', 'vegetable', 'doesnt', 'look', 'like', 'one', 'quite', 'agree', 'said', 'duchess', 'moral', 'isbe', 'would', 'seem', 'beor', 'youd', 'like', 'put', 'simplynever', 'imagine', 'otherwise', 'might', 'appear', 'others', 'might', 'otherwise', 'would', 'appeared', 'otherwise', 'think', 'understand', 'better', 'alice', 'said', 'politely', 'written', 'cant', 'quite', 'follow', 'say', 'thats', 'nothing', 'could', 'say', 'chose', 'duchess', 'replied', 'pleased', 'tone', 'pray', 'dont', 'trouble', 'say', 'longer', 'said', 'alice', 'oh', 'dont', 'talk', 'trouble', 'said', 'duchess', 'make', 'present', 'everything', 'ive', 'said', 'yet', 'cheap', 'sort', 'present', 'thought', 'alice', 'im', 'glad', 'dont', 'give', 'birthday', 'presents', 'like', 'venture', 'say', 'loud', 'thinking', 'duchess', 'asked', 'another', 'dig', 'sharp', 'little', 'chin', 'ive', 'right', 'think', 'said', 'alice', 'sharply', 'beginning', 'feel', 'little', 'worried', 'much', 'right', 'said', 'duchess', 'pigs', 'fly', 'alices', 'great', 'surprise', 'duchesss', 'voice', 'died', 'away', 'even', 'middle', 'favourite', 'word', 'moral', 'arm', 'linked', 'began', 'tremble', 'alice', 'looked', 'stood', 'queen', 'front', 'arms', 'folded', 'frowning', 'like', 'thunderstorm', 'fine', 'day', 'majesty', 'duchess', 'began', 'low', 'weak', 'voice', 'give', 'fair', 'warning', 'shouted', 'queen', 'stamping', 'ground', 'spoke', 'either', 'head', 'must', 'half', 'time', 'take', 'choice', 'duchess', 'took', 'choice', 'gone', 'moment', 'lets', 'go', 'game', 'queen', 'said', 'alice', 'alice', 'much', 'frightened', 'say', 'word', 'slowly', 'followed', 'back', 'croquetground', 'guests', 'taken', 'advantage', 'queens', 'absence', 'resting', 'shade', 'however', 'moment', 'saw', 'hurried', 'back', 'game', 'queen', 'merely', 'remarking', 'moments', 'delay', 'would', 'cost', 'lives', 'time', 'playing', 'queen', 'never', 'left', 'quarrelling', 'players', 'shouting', 'head', 'head', 'sentenced', 'taken', 'custody', 'soldiers', 'course', 'leave', 'arches', 'end', 'half', 'hour', 'arches', 'left', 'players', 'except', 'king', 'queen', 'alice', 'custody', 'sentence', 'execution', 'queen', 'left', 'quite', 'breath', 'said', 'alice', 'seen', 'mock', 'turtle', 'yet', 'said', 'alice', 'dont', 'even', 'know', 'mock', 'turtle', 'thing', 'mock', 'turtle', 'soup', 'made', 'said', 'queen', 'never', 'saw', 'one', 'heard', 'one', 'said', 'alice', 'come', 'said', 'queen', 'shall', 'tell', 'history', 'walked', 'together', 'alice', 'heard', 'king', 'say', 'low', 'voice', 'company', 'generally', 'pardoned', 'come', 'thats', 'good', 'thing', 'said', 'felt', 'quite', 'unhappy', 'number', 'executions', 'queen', 'ordered', 'soon', 'came', 'upon', 'gryphon', 'lying', 'fast', 'asleep', 'sun', 'dont', 'know', 'gryphon', 'look', 'picture', 'lazy', 'thing', 'said', 'queen', 'take', 'young', 'lady', 'see', 'mock', 'turtle', 'hear', 'history', 'must', 'go', 'back', 'see', 'executions', 'ordered', 'walked', 'leaving', 'alice', 'alone', 'gryphon', 'alice', 'quite', 'like', 'look', 'creature', 'whole', 'thought', 'would', 'quite', 'safe', 'stay', 'go', 'savage', 'queen', 'waited', 'gryphon', 'sat', 'rubbed', 'eyes', 'watched', 'queen', 'till', 'sight', 'chuckled', 'fun', 'said', 'gryphon', 'half', 'half', 'alice', 'fun', 'said', 'alice', 'said', 'gryphon', 'fancy', 'never', 'executes', 'nobody', 'know', 'come', 'everybody', 'says', 'come', 'thought', 'alice', 'went', 'slowly', 'never', 'ordered', 'life', 'never', 'gone', 'far', 'saw', 'mock', 'turtle', 'distance', 'sitting', 'sad', 'lonely', 'little', 'ledge', 'rock', 'came', 'nearer', 'alice', 'could', 'hear', 'sighing', 'heart', 'would', 'break', 'pitied', 'deeply', 'sorrow', 'asked', 'gryphon', 'gryphon', 'answered', 'nearly', 'words', 'fancy', 'hasnt', 'got', 'sorrow', 'know', 'come', 'went', 'mock', 'turtle', 'looked', 'large', 'eyes', 'full', 'tears', 'said', 'nothing', 'young', 'lady', 'said', 'gryphon', 'wants', 'know', 'history', 'ill', 'tell', 'said', 'mock', 'turtle', 'deep', 'hollow', 'tone', 'sit', 'dont', 'speak', 'word', 'till', 'ive', 'finished', 'sat', 'nobody', 'spoke', 'minutes', 'alice', 'thought', 'dont', 'see', 'even', 'finish', 'doesnt', 'begin', 'waited', 'patiently', 'said', 'mock', 'turtle', 'last', 'deep', 'sigh', 'real', 'turtle', 'words', 'followed', 'long', 'silence', 'broken', 'occasional', 'exclamation', 'hjckrrh', 'gryphon', 'constant', 'heavy', 'sobbing', 'mock', 'turtle', 'alice', 'nearly', 'getting', 'saying', 'thank', 'sir', 'interesting', 'story', 'could', 'help', 'thinking', 'must', 'come', 'sat', 'still', 'said', 'nothing', 'little', 'mock', 'turtle', 'went', 'last', 'calmly', 'though', 'still', 'sobbing', 'little', 'went', 'school', 'sea', 'master', 'old', 'turtlewe', 'used', 'call', 'tortoise', 'call', 'tortoise', 'wasnt', 'one', 'alice', 'asked', 'called', 'tortoise', 'taught', 'us', 'said', 'mock', 'turtle', 'angrily', 'really', 'dull', 'ought', 'ashamed', 'asking', 'simple', 'question', 'added', 'gryphon', 'sat', 'silent', 'looked', 'poor', 'alice', 'felt', 'ready', 'sink', 'earth', 'last', 'gryphon', 'said', 'mock', 'turtle', 'drive', 'old', 'fellow', 'dont', 'day', 'went', 'words', 'yes', 'went', 'school', 'sea', 'though', 'maynt', 'believe', 'never', 'said', 'didnt', 'interrupted', 'alice', 'said', 'mock', 'turtle', 'hold', 'tongue', 'added', 'gryphon', 'alice', 'could', 'speak', 'mock', 'turtle', 'went', 'best', 'educationsin', 'fact', 'went', 'school', 'every', 'day', 'ive', 'dayschool', 'said', 'alice', 'neednt', 'proud', 'extras', 'asked', 'mock', 'turtle', 'little', 'anxiously', 'yes', 'said', 'alice', 'learned', 'french', 'music', 'washing', 'said', 'mock', 'turtle', 'certainly', 'said', 'alice', 'indignantly', 'ah', 'wasnt', 'really', 'good', 'school', 'said', 'mock', 'turtle', 'tone', 'great', 'relief', 'end', 'bill', 'french', 'music', 'washingextra', 'couldnt', 'wanted', 'much', 'said', 'alice', 'living', 'bottom', 'sea', 'couldnt', 'afford', 'learn', 'said', 'mock', 'turtle', 'sigh', 'took', 'regular', 'course', 'inquired', 'alice', 'reeling', 'writhing', 'course', 'begin', 'mock', 'turtle', 'replied', 'different', 'branches', 'arithmetic', 'ambition', 'distraction', 'uglification', 'derision', 'never', 'heard', 'uglification', 'alice', 'ventured', 'say', 'gryphon', 'lifted', 'paws', 'surprise', 'never', 'heard', 'uglifying', 'exclaimed', 'know', 'beautify', 'suppose', 'yes', 'said', 'alice', 'doubtfully', 'meanstomakeanythingprettier', 'well', 'gryphon', 'went', 'dont', 'know', 'uglify', 'simpleton', 'alice', 'feel', 'encouraged', 'ask', 'questions', 'turned', 'mock', 'turtle', 'said', 'else', 'learn', 'well', 'mystery', 'mock', 'turtle', 'replied', 'counting', 'subjects', 'flappers', 'mystery', 'ancient', 'modern', 'seaography', 'drawlingthe', 'drawlingmaster', 'old', 'congereel', 'used', 'come', 'week', 'taught', 'us', 'drawling', 'stretching', 'fainting', 'coils', 'like', 'said', 'alice', 'well', 'cant', 'show', 'mock', 'turtle', 'said', 'im', 'stiff', 'gryphon', 'never', 'learnt', 'hadnt', 'time', 'said', 'gryphon', 'went', 'classics', 'master', 'though', 'old', 'crab', 'never', 'went', 'mock', 'turtle', 'said', 'sigh', 'taught', 'laughing', 'grief', 'used', 'say', 'said', 'gryphon', 'sighing', 'turn', 'creatures', 'hid', 'faces', 'paws', 'many', 'hours', 'day', 'lessons', 'said', 'alice', 'hurry', 'change', 'subject', 'ten', 'hours', 'first', 'day', 'said', 'mock', 'turtle', 'nine', 'next', 'curious', 'plan', 'exclaimed', 'alice', 'thats', 'reason', 'theyre', 'called', 'lessons', 'gryphon', 'remarked', 'lessen', 'day', 'day', 'quite', 'new', 'idea', 'alice', 'thought', 'little', 'made', 'next', 'remark', 'eleventh', 'day', 'must', 'holiday', 'course', 'said', 'mock', 'turtle', 'manage', 'twelfth', 'alice', 'went', 'eagerly', 'thats', 'enough', 'lessons', 'gryphon', 'interrupted', 'decided', 'tone', 'tell', 'something', 'games', 'chapter', 'x', 'lobster', 'quadrille', 'mock', 'turtle', 'sighed', 'deeply', 'drew', 'back', 'one', 'flapper', 'across', 'eyes', 'looked', 'alice', 'tried', 'speak', 'minute', 'two', 'sobs', 'choked', 'voice', 'bone', 'throat', 'said', 'gryphon', 'set', 'work', 'shaking', 'punching', 'back', 'last', 'mock', 'turtle', 'recovered', 'voice', 'tears', 'running', 'cheeks', 'went', 'may', 'lived', 'much', 'sea', 'havent', 'said', 'alice', 'perhaps', 'never', 'even', 'introduced', 'lobster', 'alice', 'began', 'say', 'tasted', 'checked', 'hastily', 'said', 'never', 'idea', 'delightful', 'thing', 'lobster', 'quadrille', 'indeed', 'said', 'alice', 'sort', 'dance', 'said', 'gryphon', 'first', 'form', 'line', 'along', 'seashore', 'two', 'lines', 'cried', 'mock', 'turtle', 'seals', 'turtles', 'salmon', 'youve', 'cleared', 'jellyfish', 'way', 'generally', 'takes', 'time', 'interrupted', 'gryphon', 'advance', 'twice', 'lobster', 'partner', 'cried', 'gryphon', 'course', 'mock', 'turtle', 'said', 'advance', 'twice', 'set', 'partners', 'change', 'lobsters', 'retire', 'order', 'continued', 'gryphon', 'know', 'mock', 'turtle', 'went', 'throw', 'lobsters', 'shouted', 'gryphon', 'bound', 'air', 'far', 'sea', 'swim', 'screamed', 'gryphon', 'turn', 'somersault', 'sea', 'cried', 'mock', 'turtle', 'capering', 'wildly', 'change', 'lobsters', 'yelled', 'gryphon', 'top', 'voice', 'back', 'land', 'thats', 'first', 'figure', 'said', 'mock', 'turtle', 'suddenly', 'dropping', 'voice', 'two', 'creatures', 'jumping', 'like', 'mad', 'things', 'time', 'sat', 'sadly', 'quietly', 'looked', 'alice', 'must', 'pretty', 'dance', 'said', 'alice', 'timidly', 'would', 'like', 'see', 'little', 'said', 'mock', 'turtle', 'much', 'indeed', 'said', 'alice', 'come', 'lets', 'try', 'first', 'figure', 'said', 'mock', 'turtle', 'gryphon', 'without', 'lobsters', 'know', 'shall', 'sing', 'oh', 'sing', 'said', 'gryphon', 'ive', 'forgotten', 'words', 'began', 'solemnly', 'dancing', 'round', 'round', 'alice', 'every', 'treading', 'toes', 'passed', 'close', 'waving', 'forepaws', 'mark', 'time', 'mock', 'turtle', 'sang', 'slowly', 'sadly', 'walk', 'little', 'faster', 'said', 'whiting', 'snail', 'theres', 'porpoise', 'close', 'behind', 'us', 'hes', 'treading', 'tail', 'see', 'eagerly', 'lobsters', 'turtles', 'advance', 'waiting', 'shinglewill', 'come', 'join', 'dance', 'wont', 'wont', 'join', 'dance', 'wont', 'wont', 'wont', 'join', 'dance', 'really', 'notion', 'delightful', 'take', 'us', 'throw', 'us', 'lobsters', 'sea', 'snail', 'replied', 'far', 'far', 'gave', 'look', 'askance', 'said', 'thanked', 'whiting', 'kindly', 'would', 'join', 'dance', 'would', 'could', 'would', 'could', 'would', 'join', 'dance', 'would', 'could', 'would', 'could', 'could', 'join', 'dance', 'matters', 'far', 'go', 'scaly', 'friend', 'replied', 'another', 'shore', 'know', 'upon', 'side', 'england', 'nearer', 'france', 'turn', 'pale', 'beloved', 'snail', 'come', 'join', 'dance', 'wont', 'wont', 'join', 'dance', 'wont', 'wont', 'wont', 'join', 'dance', 'thank', 'interesting', 'dance', 'watch', 'said', 'alice', 'feeling', 'glad', 'last', 'like', 'curious', 'song', 'whiting', 'oh', 'whiting', 'said', 'mock', 'turtle', 'theyyouve', 'seen', 'course', 'yes', 'said', 'alice', 'ive', 'often', 'seen', 'dinn', 'checked', 'hastily', 'dont', 'know', 'dinn', 'may', 'said', 'mock', 'turtle', 'youve', 'seen', 'often', 'course', 'know', 'theyre', 'like', 'believe', 'alice', 'replied', 'thoughtfully', 'tails', 'mouthsand', 'theyre', 'crumbs', 'youre', 'wrong', 'crumbs', 'said', 'mock', 'turtle', 'crumbs', 'would', 'wash', 'sea', 'tails', 'mouths', 'reason', 'mock', 'turtle', 'yawned', 'shut', 'eyestell', 'reason', 'said', 'gryphon', 'reason', 'said', 'gryphon', 'would', 'go', 'lobsters', 'dance', 'got', 'thrown', 'sea', 'fall', 'long', 'way', 'got', 'tails', 'fast', 'mouths', 'couldnt', 'get', 'thats', 'thank', 'said', 'alice', 'interesting', 'never', 'knew', 'much', 'whiting', 'tell', 'like', 'said', 'gryphon', 'know', 'called', 'whiting', 'never', 'thought', 'said', 'alice', 'boots', 'shoes', 'gryphon', 'replied', 'solemnly', 'alice', 'thoroughly', 'puzzled', 'boots', 'shoes', 'repeated', 'wondering', 'tone', 'shoes', 'done', 'said', 'gryphon', 'mean', 'makes', 'shiny', 'alice', 'looked', 'considered', 'little', 'gave', 'answer', 'theyre', 'done', 'blacking', 'believe', 'boots', 'shoes', 'sea', 'gryphon', 'went', 'deep', 'voice', 'done', 'whiting', 'know', 'made', 'alice', 'asked', 'tone', 'great', 'curiosity', 'soles', 'eels', 'course', 'gryphon', 'replied', 'rather', 'impatiently', 'shrimp', 'could', 'told', 'id', 'whiting', 'said', 'alice', 'whose', 'thoughts', 'still', 'running', 'song', 'id', 'said', 'porpoise', 'keep', 'back', 'please', 'dont', 'want', 'us', 'obliged', 'mock', 'turtle', 'said', 'wise', 'fish', 'would', 'go', 'anywhere', 'without', 'porpoise', 'wouldnt', 'really', 'said', 'alice', 'tone', 'great', 'surprise', 'course', 'said', 'mock', 'turtle', 'fish', 'came', 'told', 'going', 'journey', 'say', 'porpoise', 'dont', 'mean', 'purpose', 'said', 'alice', 'mean', 'say', 'mock', 'turtle', 'replied', 'offended', 'tone', 'gryphon', 'added', 'come', 'lets', 'hear', 'adventures', 'could', 'tell', 'adventuresbeginning', 'morning', 'said', 'alice', 'little', 'timidly', 'use', 'going', 'back', 'yesterday', 'different', 'person', 'explain', 'said', 'mock', 'turtle', 'adventures', 'first', 'said', 'gryphon', 'impatient', 'tone', 'explanations', 'take', 'dreadful', 'time', 'alice', 'began', 'telling', 'adventures', 'time', 'first', 'saw', 'white', 'rabbit', 'little', 'nervous', 'first', 'two', 'creatures', 'got', 'close', 'one', 'side', 'opened', 'eyes', 'mouths', 'wide', 'gained', 'courage', 'went', 'listeners', 'perfectly', 'quiet', 'till', 'got', 'part', 'repeating', 'old', 'father', 'william', 'caterpillar', 'words', 'coming', 'different', 'mock', 'turtle', 'drew', 'long', 'breath', 'said', 'thats', 'curious', 'curious', 'said', 'gryphon', 'came', 'different', 'mock', 'turtle', 'repeated', 'thoughtfully', 'like', 'hear', 'try', 'repeat', 'something', 'tell', 'begin', 'looked', 'gryphon', 'thought', 'kind', 'authority', 'alice', 'stand', 'repeat', 'tis', 'voice', 'sluggard', 'said', 'gryphon', 'creatures', 'order', 'one', 'make', 'one', 'repeat', 'lessons', 'thought', 'alice', 'might', 'well', 'school', 'however', 'got', 'began', 'repeat', 'head', 'full', 'lobster', 'quadrille', 'hardly', 'knew', 'saying', 'words', 'came', 'queer', 'indeed', 'tis', 'voice', 'lobster', 'heard', 'declare', 'baked', 'brown', 'must', 'sugar', 'hair', 'duck', 'eyelids', 'nose', 'trims', 'belt', 'buttons', 'turns', 'toes', 'later', 'editions', 'continued', 'follows', 'sands', 'dry', 'gay', 'lark', 'talk', 'contemptuous', 'tones', 'shark', 'tide', 'rises', 'sharks', 'around', 'voice', 'timid', 'tremulous', 'sound', 'thats', 'different', 'used', 'say', 'child', 'said', 'gryphon', 'well', 'never', 'heard', 'said', 'mock', 'turtle', 'sounds', 'uncommon', 'nonsense', 'alice', 'said', 'nothing', 'sat', 'face', 'hands', 'wondering', 'anything', 'would', 'ever', 'happen', 'natural', 'way', 'like', 'explained', 'said', 'mock', 'turtle', 'cant', 'explain', 'said', 'gryphon', 'hastily', 'go', 'next', 'verse', 'toes', 'mock', 'turtle', 'persisted', 'could', 'turn', 'nose', 'know', 'first', 'position', 'dancing', 'alice', 'said', 'dreadfully', 'puzzled', 'whole', 'thing', 'longed', 'change', 'subject', 'go', 'next', 'verse', 'gryphon', 'repeated', 'impatiently', 'begins', 'passed', 'garden', 'alice', 'dare', 'disobey', 'though', 'felt', 'sure', 'would', 'come', 'wrong', 'went', 'trembling', 'voice', 'passed', 'garden', 'marked', 'one', 'eye', 'owl', 'panther', 'sharing', 'pie', 'later', 'editions', 'continued', 'follows', 'panther', 'took', 'piecrust', 'gravy', 'meat', 'owl', 'dish', 'share', 'treat', 'pie', 'finished', 'owl', 'boon', 'kindly', 'permitted', 'pocket', 'spoon', 'panther', 'received', 'knife', 'fork', 'growl', 'concluded', 'banquet', 'use', 'repeating', 'stuff', 'mock', 'turtle', 'interrupted', 'dont', 'explain', 'go', 'far', 'confusing', 'thing', 'ever', 'heard', 'yes', 'think', 'youd', 'better', 'leave', 'said', 'gryphon', 'alice', 'glad', 'shall', 'try', 'another', 'figure', 'lobster', 'quadrille', 'gryphon', 'went', 'would', 'like', 'mock', 'turtle', 'sing', 'song', 'oh', 'song', 'please', 'mock', 'turtle', 'would', 'kind', 'alice', 'replied', 'eagerly', 'gryphon', 'said', 'rather', 'offended', 'tone', 'hm', 'accounting', 'tastes', 'sing', 'turtle', 'soup', 'old', 'fellow', 'mock', 'turtle', 'sighed', 'deeply', 'began', 'voice', 'sometimes', 'choked', 'sobs', 'sing', 'beautiful', 'soup', 'rich', 'green', 'waiting', 'hot', 'tureen', 'dainties', 'would', 'stoop', 'soup', 'evening', 'beautiful', 'soup', 'soup', 'evening', 'beautiful', 'soup', 'beauootiful', 'soooop', 'beauootiful', 'soooop', 'soooop', 'eeevening', 'beautiful', 'beautiful', 'soup', 'beautiful', 'soup', 'cares', 'fish', 'game', 'dish', 'would', 'give', 'else', 'two', 'pennyworth', 'beautiful', 'soup', 'pennyworth', 'beautiful', 'soup', 'beauootiful', 'soooop', 'beauootiful', 'soooop', 'soooop', 'eeevening', 'beautiful', 'beautiful', 'soup', 'chorus', 'cried', 'gryphon', 'mock', 'turtle', 'begun', 'repeat', 'cry', 'trials', 'beginning', 'heard', 'distance', 'come', 'cried', 'gryphon', 'taking', 'alice', 'hand', 'hurried', 'without', 'waiting', 'end', 'song', 'trial', 'alice', 'panted', 'ran', 'gryphon', 'answered', 'come', 'ran', 'faster', 'faintly', 'came', 'carried', 'breeze', 'followed', 'melancholy', 'words', 'soooop', 'eeevening', 'beautiful', 'beautiful', 'soup', 'chapter', 'xi', 'stole', 'tarts', 'king', 'queen', 'hearts', 'seated', 'throne', 'arrived', 'great', 'crowd', 'assembled', 'themall', 'sorts', 'little', 'birds', 'beasts', 'well', 'whole', 'pack', 'cards', 'knave', 'standing', 'chains', 'soldier', 'side', 'guard', 'near', 'king', 'white', 'rabbit', 'trumpet', 'one', 'hand', 'scroll', 'parchment', 'middle', 'court', 'table', 'large', 'dish', 'tarts', 'upon', 'looked', 'good', 'made', 'alice', 'quite', 'hungry', 'look', 'themi', 'wish', 'theyd', 'get', 'trial', 'done', 'thought', 'hand', 'round', 'refreshments', 'seemed', 'chance', 'began', 'looking', 'everything', 'pass', 'away', 'time', 'alice', 'never', 'court', 'justice', 'read', 'books', 'quite', 'pleased', 'find', 'knew', 'name', 'nearly', 'everything', 'thats', 'judge', 'said', 'great', 'wig', 'judge', 'way', 'king', 'wore', 'crown', 'wig', 'look', 'frontispiece', 'want', 'see', 'look', 'comfortable', 'certainly', 'becoming', 'thats', 'jurybox', 'thought', 'alice', 'twelve', 'creatures', 'obliged', 'say', 'creatures', 'see', 'animals', 'birds', 'suppose', 'jurors', 'said', 'last', 'word', 'two', 'three', 'times', 'rather', 'proud', 'thought', 'rightly', 'little', 'girls', 'age', 'knew', 'meaning', 'however', 'jurymen', 'would', 'done', 'well', 'twelve', 'jurors', 'writing', 'busily', 'slates', 'alice', 'whispered', 'gryphon', 'cant', 'anything', 'put', 'yet', 'trials', 'begun', 'theyre', 'putting', 'names', 'gryphon', 'whispered', 'reply', 'fear', 'forget', 'end', 'trial', 'stupid', 'things', 'alice', 'began', 'loud', 'indignant', 'voice', 'stopped', 'hastily', 'white', 'rabbit', 'cried', 'silence', 'court', 'king', 'put', 'spectacles', 'looked', 'anxiously', 'round', 'make', 'talking', 'alice', 'could', 'see', 'well', 'looking', 'shoulders', 'jurors', 'writing', 'stupid', 'things', 'slates', 'could', 'even', 'make', 'one', 'didnt', 'know', 'spell', 'stupid', 'ask', 'neighbour', 'tell', 'nice', 'muddle', 'slatesll', 'trials', 'thought', 'alice', 'one', 'jurors', 'pencil', 'squeaked', 'course', 'alice', 'could', 'stand', 'went', 'round', 'court', 'got', 'behind', 'soon', 'found', 'opportunity', 'taking', 'away', 'quickly', 'poor', 'little', 'juror', 'bill', 'lizard', 'could', 'make', 'become', 'hunting', 'obliged', 'write', 'one', 'finger', 'rest', 'day', 'little', 'use', 'left', 'mark', 'slate', 'herald', 'read', 'accusation', 'said', 'king', 'white', 'rabbit', 'blew', 'three', 'blasts', 'trumpet', 'unrolled', 'parchment', 'scroll', 'read', 'follows', 'queen', 'hearts', 'made', 'tarts', 'summer', 'day', 'knave', 'hearts', 'stole', 'tarts', 'took', 'quite', 'away', 'consider', 'verdict', 'king', 'said', 'jury', 'yet', 'yet', 'rabbit', 'hastily', 'interrupted', 'theres', 'great', 'deal', 'come', 'call', 'first', 'witness', 'said', 'king', 'white', 'rabbit', 'blew', 'three', 'blasts', 'trumpet', 'called', 'first', 'witness', 'first', 'witness', 'hatter', 'came', 'teacup', 'one', 'hand', 'piece', 'breadandbutter', 'beg', 'pardon', 'majesty', 'began', 'bringing', 'hadnt', 'quite', 'finished', 'tea', 'sent', 'ought', 'finished', 'said', 'king', 'begin', 'hatter', 'looked', 'march', 'hare', 'followed', 'court', 'arminarm', 'dormouse', 'fourteenth', 'march', 'think', 'said', 'fifteenth', 'said', 'march', 'hare', 'sixteenth', 'added', 'dormouse', 'write', 'king', 'said', 'jury', 'jury', 'eagerly', 'wrote', 'three', 'dates', 'slates', 'added', 'reduced', 'answer', 'shillings', 'pence', 'take', 'hat', 'king', 'said', 'hatter', 'isnt', 'mine', 'said', 'hatter', 'stolen', 'king', 'exclaimed', 'turning', 'jury', 'instantly', 'made', 'memorandum', 'fact', 'keep', 'sell', 'hatter', 'added', 'explanation', 'ive', 'none', 'im', 'hatter', 'queen', 'put', 'spectacles', 'began', 'staring', 'hatter', 'turned', 'pale', 'fidgeted', 'give', 'evidence', 'said', 'king', 'dont', 'nervous', 'ill', 'executed', 'spot', 'seem', 'encourage', 'witness', 'kept', 'shifting', 'one', 'foot', 'looking', 'uneasily', 'queen', 'confusion', 'bit', 'large', 'piece', 'teacup', 'instead', 'breadandbutter', 'moment', 'alice', 'felt', 'curious', 'sensation', 'puzzled', 'good', 'deal', 'made', 'beginning', 'grow', 'larger', 'thought', 'first', 'would', 'get', 'leave', 'court', 'second', 'thoughts', 'decided', 'remain', 'long', 'room', 'wish', 'wouldnt', 'squeeze', 'said', 'dormouse', 'sitting', 'next', 'hardly', 'breathe', 'cant', 'help', 'said', 'alice', 'meekly', 'im', 'growing', 'youve', 'right', 'grow', 'said', 'dormouse', 'dont', 'talk', 'nonsense', 'said', 'alice', 'boldly', 'know', 'youre', 'growing', 'yes', 'grow', 'reasonable', 'pace', 'said', 'dormouse', 'ridiculous', 'fashion', 'got', 'sulkily', 'crossed', 'side', 'court', 'time', 'queen', 'never', 'left', 'staring', 'hatter', 'dormouse', 'crossed', 'court', 'said', 'one', 'officers', 'court', 'bring', 'list', 'singers', 'last', 'concert', 'wretched', 'hatter', 'trembled', 'shook', 'shoes', 'give', 'evidence', 'king', 'repeated', 'angrily', 'ill', 'executed', 'whether', 'youre', 'nervous', 'im', 'poor', 'man', 'majesty', 'hatter', 'began', 'trembling', 'voice', 'hadnt', 'begun', 'teanot', 'week', 'soand', 'breadandbutter', 'getting', 'thinand', 'twinkling', 'tea', 'twinkling', 'said', 'king', 'began', 'tea', 'hatter', 'replied', 'course', 'twinkling', 'begins', 'said', 'king', 'sharply', 'take', 'dunce', 'go', 'im', 'poor', 'man', 'hatter', 'went', 'things', 'twinkled', 'thatonly', 'march', 'hare', 'said', 'didnt', 'march', 'hare', 'interrupted', 'great', 'hurry', 'said', 'hatter', 'deny', 'said', 'march', 'hare', 'denies', 'said', 'king', 'leave', 'part', 'well', 'rate', 'dormouse', 'said', 'hatter', 'went', 'looking', 'anxiously', 'round', 'see', 'would', 'deny', 'dormouse', 'denied', 'nothing', 'fast', 'asleep', 'continued', 'hatter', 'cut', 'bread', 'andbutter', 'dormouse', 'say', 'one', 'jury', 'asked', 'cant', 'remember', 'said', 'hatter', 'must', 'remember', 'remarked', 'king', 'ill', 'executed', 'miserable', 'hatter', 'dropped', 'teacup', 'breadandbutter', 'went', 'one', 'knee', 'im', 'poor', 'man', 'majesty', 'began', 'youre', 'poor', 'speaker', 'said', 'king', 'one', 'guineapigs', 'cheered', 'immediately', 'suppressed', 'officers', 'court', 'rather', 'hard', 'word', 'explain', 'done', 'large', 'canvas', 'bag', 'tied', 'mouth', 'strings', 'slipped', 'guineapig', 'head', 'first', 'sat', 'upon', 'im', 'glad', 'ive', 'seen', 'done', 'thought', 'alice', 'ive', 'often', 'read', 'newspapers', 'end', 'trials', 'attempts', 'applause', 'immediately', 'suppressed', 'officers', 'court', 'never', 'understood', 'meant', 'till', 'thats', 'know', 'may', 'stand', 'continued', 'king', 'cant', 'go', 'lower', 'said', 'hatter', 'im', 'floor', 'may', 'sit', 'king', 'replied', 'guineapig', 'cheered', 'suppressed', 'come', 'finished', 'guineapigs', 'thought', 'alice', 'shall', 'get', 'better', 'id', 'rather', 'finish', 'tea', 'said', 'hatter', 'anxious', 'look', 'queen', 'reading', 'list', 'singers', 'may', 'go', 'said', 'king', 'hatter', 'hurriedly', 'left', 'court', 'without', 'even', 'waiting', 'put', 'shoes', 'take', 'head', 'outside', 'queen', 'added', 'one', 'officers', 'hatter', 'sight', 'officer', 'could', 'get', 'door', 'call', 'next', 'witness', 'said', 'king', 'next', 'witness', 'duchesss', 'cook', 'carried', 'pepperbox', 'hand', 'alice', 'guessed', 'even', 'got', 'court', 'way', 'people', 'near', 'door', 'began', 'sneezing', 'give', 'evidence', 'said', 'king', 'shant', 'said', 'cook', 'king', 'looked', 'anxiously', 'white', 'rabbit', 'said', 'low', 'voice', 'majesty', 'must', 'crossexamine', 'witness', 'well', 'must', 'must', 'king', 'said', 'melancholy', 'air', 'folding', 'arms', 'frowning', 'cook', 'till', 'eyes', 'nearly', 'sight', 'said', 'deep', 'voice', 'tarts', 'made', 'pepper', 'mostly', 'said', 'cook', 'treacle', 'said', 'sleepy', 'voice', 'behind', 'collar', 'dormouse', 'queen', 'shrieked', 'behead', 'dormouse', 'turn', 'dormouse', 'court', 'suppress', 'pinch', 'whiskers', 'minutes', 'whole', 'court', 'confusion', 'getting', 'dormouse', 'turned', 'time', 'settled', 'cook', 'disappeared', 'never', 'mind', 'said', 'king', 'air', 'great', 'relief', 'call', 'next', 'witness', 'added', 'undertone', 'queen', 'really', 'dear', 'must', 'crossexamine', 'next', 'witness', 'quite', 'makes', 'forehead', 'ache', 'alice', 'watched', 'white', 'rabbit', 'fumbled', 'list', 'feeling', 'curious', 'see', 'next', 'witness', 'would', 'like', 'havent', 'got', 'much', 'evidence', 'yet', 'said', 'imagine', 'surprise', 'white', 'rabbit', 'read', 'top', 'shrill', 'little', 'voice', 'name', 'alice', 'chapter', 'xii', 'alices', 'evidence', 'cried', 'alice', 'quite', 'forgetting', 'flurry', 'moment', 'large', 'grown', 'last', 'minutes', 'jumped', 'hurry', 'tipped', 'jurybox', 'edge', 'skirt', 'upsetting', 'jurymen', 'heads', 'crowd', 'lay', 'sprawling', 'reminding', 'much', 'globe', 'goldfish', 'accidentally', 'upset', 'week', 'oh', 'beg', 'pardon', 'exclaimed', 'tone', 'great', 'dismay', 'began', 'picking', 'quickly', 'could', 'accident', 'goldfish', 'kept', 'running', 'head', 'vague', 'sort', 'idea', 'must', 'collected', 'put', 'back', 'jurybox', 'would', 'die', 'trial', 'proceed', 'said', 'king', 'grave', 'voice', 'jurymen', 'back', 'proper', 'places', 'repeated', 'great', 'emphasis', 'looking', 'hard', 'alice', 'said', 'alice', 'looked', 'jurybox', 'saw', 'haste', 'put', 'lizard', 'head', 'downwards', 'poor', 'little', 'thing', 'waving', 'tail', 'melancholy', 'way', 'quite', 'unable', 'move', 'soon', 'got', 'put', 'right', 'signifies', 'much', 'said', 'think', 'would', 'quite', 'much', 'use', 'trial', 'one', 'way', 'soon', 'jury', 'little', 'recovered', 'shock', 'upset', 'slates', 'pencils', 'found', 'handed', 'back', 'set', 'work', 'diligently', 'write', 'history', 'accident', 'except', 'lizard', 'seemed', 'much', 'overcome', 'anything', 'sit', 'mouth', 'open', 'gazing', 'roof', 'court', 'know', 'business', 'king', 'said', 'alice', 'nothing', 'said', 'alice', 'nothing', 'whatever', 'persisted', 'king', 'nothing', 'whatever', 'said', 'alice', 'thats', 'important', 'king', 'said', 'turning', 'jury', 'beginning', 'write', 'slates', 'white', 'rabbit', 'interrupted', 'unimportant', 'majesty', 'means', 'course', 'said', 'respectful', 'tone', 'frowning', 'making', 'faces', 'spoke', 'unimportant', 'course', 'meant', 'king', 'hastily', 'said', 'went', 'undertone', 'importantunimportant', 'unimportantimportant', 'trying', 'word', 'sounded', 'best', 'jury', 'wrote', 'important', 'unimportant', 'alice', 'could', 'see', 'near', 'enough', 'look', 'slates', 'doesnt', 'matter', 'bit', 'thought', 'moment', 'king', 'time', 'busily', 'writing', 'notebook', 'cackled', 'silence', 'read', 'book', 'rule', 'fortytwo', 'persons', 'mile', 'high', 'leave', 'court', 'everybody', 'looked', 'alice', 'im', 'mile', 'high', 'said', 'alice', 'said', 'king', 'nearly', 'two', 'miles', 'high', 'added', 'queen', 'well', 'shant', 'go', 'rate', 'said', 'alice', 'besides', 'thats', 'regular', 'rule', 'invented', 'oldest', 'rule', 'book', 'said', 'king', 'ought', 'number', 'one', 'said', 'alice', 'king', 'turned', 'pale', 'shut', 'notebook', 'hastily', 'consider', 'verdict', 'said', 'jury', 'low', 'trembling', 'voice', 'theres', 'evidence', 'come', 'yet', 'please', 'majesty', 'said', 'white', 'rabbit', 'jumping', 'great', 'hurry', 'paper', 'picked', 'whats', 'said', 'queen', 'havent', 'opened', 'yet', 'said', 'white', 'rabbit', 'seems', 'letter', 'written', 'prisoner', 'toto', 'somebody', 'must', 'said', 'king', 'unless', 'written', 'nobody', 'isnt', 'usual', 'know', 'directed', 'said', 'one', 'jurymen', 'isnt', 'directed', 'said', 'white', 'rabbit', 'fact', 'theres', 'nothing', 'written', 'outside', 'unfolded', 'paper', 'spoke', 'added', 'isnt', 'letter', 'set', 'verses', 'prisoners', 'handwriting', 'asked', 'another', 'jurymen', 'theyre', 'said', 'white', 'rabbit', 'thats', 'queerest', 'thing', 'jury', 'looked', 'puzzled', 'must', 'imitated', 'somebody', 'elses', 'hand', 'said', 'king', 'jury', 'brightened', 'please', 'majesty', 'said', 'knave', 'didnt', 'write', 'cant', 'prove', 'theres', 'name', 'signed', 'end', 'didnt', 'sign', 'said', 'king', 'makes', 'matter', 'worse', 'must', 'meant', 'mischief', 'else', 'youd', 'signed', 'name', 'like', 'honest', 'man', 'general', 'clapping', 'hands', 'first', 'really', 'clever', 'thing', 'king', 'said', 'day', 'proves', 'guilt', 'said', 'queen', 'proves', 'nothing', 'sort', 'said', 'alice', 'dont', 'even', 'know', 'theyre', 'read', 'said', 'king', 'white', 'rabbit', 'put', 'spectacles', 'shall', 'begin', 'please', 'majesty', 'asked', 'begin', 'beginning', 'king', 'said', 'gravely', 'go', 'till', 'come', 'end', 'stop', 'verses', 'white', 'rabbit', 'read', 'told', 'mentioned', 'gave', 'good', 'character', 'said', 'could', 'swim', 'sent', 'word', 'gone', 'know', 'true', 'push', 'matter', 'would', 'become', 'gave', 'one', 'gave', 'two', 'gave', 'us', 'three', 'returned', 'though', 'mine', 'chance', 'involved', 'affair', 'trusts', 'set', 'free', 'exactly', 'notion', 'fit', 'obstacle', 'came', 'dont', 'let', 'know', 'liked', 'best', 'must', 'ever', 'secret', 'kept', 'rest', 'thats', 'important', 'piece', 'evidence', 'weve', 'heard', 'yet', 'said', 'king', 'rubbing', 'hands', 'let', 'jury', 'one', 'explain', 'said', 'alice', 'grown', 'large', 'last', 'minutes', 'wasnt', 'bit', 'afraid', 'interrupting', 'ill', 'give', 'sixpence', 'dont', 'believe', 'theres', 'atom', 'meaning', 'jury', 'wrote', 'slates', 'doesnt', 'believe', 'theres', 'atom', 'meaning', 'none', 'attempted', 'explain', 'paper', 'theres', 'meaning', 'said', 'king', 'saves', 'world', 'trouble', 'know', 'neednt', 'try', 'find', 'yet', 'dont', 'know', 'went', 'spreading', 'verses', 'knee', 'looking', 'one', 'eye', 'seem', 'see', 'meaning', 'said', 'could', 'swim', 'cant', 'swim', 'added', 'turning', 'knave', 'knave', 'shook', 'head', 'sadly', 'look', 'like', 'said', 'certainly', 'made', 'entirely', 'cardboard', 'right', 'far', 'said', 'king', 'went', 'muttering', 'verses', 'know', 'true', 'thats', 'jury', 'course', 'gave', 'one', 'gave', 'two', 'must', 'tarts', 'know', 'goes', 'returned', 'said', 'alice', 'said', 'king', 'triumphantly', 'pointing', 'tarts', 'table', 'nothing', 'clearer', 'againbefore', 'fit', 'never', 'fits', 'dear', 'think', 'said', 'queen', 'never', 'said', 'queen', 'furiously', 'throwing', 'inkstand', 'lizard', 'spoke', 'unfortunate', 'little', 'bill', 'left', 'writing', 'slate', 'one', 'finger', 'found', 'made', 'mark', 'hastily', 'began', 'using', 'ink', 'trickling', 'face', 'long', 'lasted', 'words', 'dont', 'fit', 'said', 'king', 'looking', 'round', 'court', 'smile', 'dead', 'silence', 'pun', 'king', 'added', 'offended', 'tone', 'everybody', 'laughed', 'let', 'jury', 'consider', 'verdict', 'king', 'said', 'twentieth', 'time', 'day', 'said', 'queen', 'sentence', 'firstverdict', 'afterwards', 'stuff', 'nonsense', 'said', 'alice', 'loudly', 'idea', 'sentence', 'first', 'hold', 'tongue', 'said', 'queen', 'turning', 'purple', 'wont', 'said', 'alice', 'head', 'queen', 'shouted', 'top', 'voice', 'nobody', 'moved', 'cares', 'said', 'alice', 'grown', 'full', 'size', 'time', 'youre', 'nothing', 'pack', 'cards', 'whole', 'pack', 'rose', 'air', 'came', 'flying', 'upon', 'gave', 'little', 'scream', 'half', 'fright', 'half', 'anger', 'tried', 'beat', 'found', 'lying', 'bank', 'head', 'lap', 'sister', 'gently', 'brushing', 'away', 'dead', 'leaves', 'fluttered', 'trees', 'upon', 'face', 'wake', 'alice', 'dear', 'said', 'sister', 'long', 'sleep', 'youve', 'oh', 'ive', 'curious', 'dream', 'said', 'alice', 'told', 'sister', 'well', 'could', 'remember', 'strange', 'adventures', 'reading', 'finished', 'sister', 'kissed', 'said', 'curious', 'dream', 'dear', 'certainly', 'run', 'tea', 'getting', 'late', 'alice', 'got', 'ran', 'thinking', 'ran', 'well', 'might', 'wonderful', 'dream', 'sister', 'sat', 'still', 'left', 'leaning', 'head', 'hand', 'watching', 'setting', 'sun', 'thinking', 'little', 'alice', 'wonderful', 'adventures', 'till', 'began', 'dreaming', 'fashion', 'dream', 'first', 'dreamed', 'little', 'alice', 'tiny', 'hands', 'clasped', 'upon', 'knee', 'bright', 'eager', 'eyes', 'looking', 'hersshe', 'could', 'hear', 'tones', 'voice', 'see', 'queer', 'little', 'toss', 'head', 'keep', 'back', 'wandering', 'hair', 'would', 'always', 'get', 'eyesand', 'still', 'listened', 'seemed', 'listen', 'whole', 'place', 'around', 'became', 'alive', 'strange', 'creatures', 'little', 'sisters', 'dream', 'long', 'grass', 'rustled', 'feet', 'white', 'rabbit', 'hurried', 'bythe', 'frightened', 'mouse', 'splashed', 'way', 'neighbouring', 'poolshe', 'could', 'hear', 'rattle', 'teacups', 'march', 'hare', 'friends', 'shared', 'neverending', 'meal', 'shrill', 'voice', 'queen', 'ordering', 'unfortunate', 'guests', 'executiononce', 'pigbaby', 'sneezing', 'duchesss', 'knee', 'plates', 'dishes', 'crashed', 'around', 'itonce', 'shriek', 'gryphon', 'squeaking', 'lizards', 'slatepencil', 'choking', 'suppressed', 'guineapigs', 'filled', 'air', 'mixed', 'distant', 'sobs', 'miserable', 'mock', 'turtle', 'sat', 'closed', 'eyes', 'half', 'believed', 'wonderland', 'though', 'knew', 'open', 'would', 'change', 'dull', 'realitythe', 'grass', 'would', 'rustling', 'wind', 'pool', 'rippling', 'waving', 'reedsthe', 'rattling', 'teacups', 'would', 'change', 'tinkling', 'sheep', 'bells', 'queens', 'shrill', 'cries', 'voice', 'shepherd', 'boyand', 'sneeze', 'baby', 'shriek', 'gryphon', 'queer', 'noises', 'would', 'change', 'knew', 'confused', 'clamour', 'busy', 'farmyardwhile', 'lowing', 'cattle', 'distance', 'would', 'take', 'place', 'mock', 'turtles', 'heavy', 'sobs', 'lastly', 'pictured', 'little', 'sister', 'would', 'aftertime', 'grown', 'woman', 'would', 'keep', 'riper', 'years', 'simple', 'loving', 'heart', 'childhood', 'would', 'gather', 'little', 'children', 'make', 'eyes', 'bright', 'eager', 'many', 'strange', 'tale', 'perhaps', 'even', 'dream', 'wonderland', 'long', 'ago', 'would', 'feel', 'simple', 'sorrows', 'find', 'pleasure', 'simple', 'joys', 'remembering', 'childlife', 'happy', 'summer', 'days', 'end']\n"
     ]
    }
   ],
   "source": [
    "print(tokens_less_stopwords)"
   ]
  },
  {
   "attachments": {},
   "cell_type": "markdown",
   "metadata": {},
   "source": [
    "Pay special attention to what these functions return and how the subsequent texts and lists look."
   ]
  },
  {
   "attachments": {},
   "cell_type": "markdown",
   "metadata": {},
   "source": [
    "## Exercises\n",
    "\n",
    "### Exercise 1"
   ]
  },
  {
   "attachments": {},
   "cell_type": "markdown",
   "metadata": {},
   "source": [
    "Use the stemmer and lemmatiser functions (defined in the cells above) from the relevant library to write a function that finds the stem and lemma of the nth word in the token list.\n",
    "\n",
    "_**Function Specifications:**_\n",
    "* Should take a `list` as input and return a  `dict` type as output.\n",
    "* The dictionary should have the keys **'original',  'stem' and 'lemma'** with the corresponding values being the nth word transformed in that way.\n",
    "\n",
    "**Example result:**\n",
    "\n",
    "`{'original': 'daisies', \n",
    "'stem': 'daisi', \n",
    "'lemma': 'daisy'}`\n",
    "\n",
    "Use your function to find the 120th word in `tokens`."
   ]
  },
  {
   "cell_type": "code",
   "execution_count": 14,
   "metadata": {},
   "outputs": [
    {
     "name": "stdout",
     "output_type": "stream",
     "text": [
      "{'original': 'daisies', 'stem': 'daisi', 'lemma': 'daisy'}\n"
     ]
    }
   ],
   "source": [
    "#Your code here\n",
    "from nltk.stem import SnowballStemmer\n",
    "from nltk.stem import WordNetLemmatizer\n",
    "\n",
    "# Define stemmer and lemmatizer\n",
    "stemmer = SnowballStemmer('english')\n",
    "lemmatizer = WordNetLemmatizer()\n",
    "\n",
    "def find_stem_and_lemma(tokens_list, n):\n",
    "    \"\"\"\n",
    "    Find the stem and lemma of the nth word in the token list.\n",
    "    \n",
    "    Parameters:\n",
    "    tokens_list (list): List of tokens_list\n",
    "    n (int): Index of the word in the list\n",
    "    \n",
    "    Returns:\n",
    "    dict: Dictionary containing the original word, its stem, and its lemma\n",
    "    \"\"\"\n",
    "    # Get the nth word from the token list\n",
    "    word = tokens_list[n]\n",
    "    \n",
    "    # Stem the word\n",
    "    stem = stemmer.stem(word)\n",
    "    \n",
    "    # Lemmatize the word\n",
    "    lemma = lemmatizer.lemmatize(word)\n",
    "    \n",
    "    # Create dictionary with original, stem, and lemma\n",
    "    result = {\n",
    "        'original': word,\n",
    "        'stem': stem,\n",
    "        'lemma': lemma\n",
    "    }\n",
    "    \n",
    "    return result\n",
    "\n",
    "# Example usage: find stem and lemma of the 120th word in tokens\n",
    "result = find_stem_and_lemma(tokens, 119)\n",
    "print(result)\n"
   ]
  },
  {
   "attachments": {},
   "cell_type": "markdown",
   "metadata": {},
   "source": [
    "### Exercise 2"
   ]
  },
  {
   "attachments": {},
   "cell_type": "markdown",
   "metadata": {},
   "source": [
    "Create a function that calculates the number of stopwords that are in the text in total, including repetitions.   \n",
    "\n",
    "_Hint_ : you can use the nltk stopwords dictionary \n",
    "\n",
    "_**Function Specifications:**_\n",
    "* Function should take a `list` as input \n",
    "* The number of stopwords should be returned as an `int` \n",
    "\n",
    "Use your function to calculate the total number of stopwords in `tokens`."
   ]
  },
  {
   "cell_type": "code",
   "execution_count": 26,
   "metadata": {},
   "outputs": [
    {
     "name": "stdout",
     "output_type": "stream",
     "text": [
      "Total number of stopwords: 13774\n"
     ]
    }
   ],
   "source": [
    "#Your code here\n",
    "\n",
    "def count_stopwords(tokens_list):\n",
    "    \"\"\"\n",
    "    Calculate the number of stopwords in the text.\n",
    "    \n",
    "    Parameters:\n",
    "    tokens_list (list): List of tokens_list\n",
    "    \n",
    "    Returns:\n",
    "    int: Total number of stopwords\n",
    "    \"\"\"\n",
    "    # Get the English stopwords list\n",
    "    stop_words = set(stopwords.words('english'))\n",
    "    \n",
    "    # Count the number of stopwords in the text\n",
    "    total_stopwords = sum(1 for word in tokens_list if word.lower() in stop_words)\n",
    "    \n",
    "    return total_stopwords\n",
    "\n",
    "# Example usage: calculate total number of stopwords in tokens\n",
    "total_stopwords = count_stopwords(tokens)\n",
    "print(\"Total number of stopwords:\", total_stopwords)\n"
   ]
  },
  {
   "attachments": {},
   "cell_type": "markdown",
   "metadata": {},
   "source": [
    "### Exercise 3\n",
    "\n",
    "Write a function that calculates the number of **unique** words in the text.\n",
    "\n",
    "_**Function Specifications:**_\n",
    "* Function should take a `list` as input and return an `int` \n",
    "\n",
    "\n",
    "Use your function to calculate the number of **unique** words in `tokens`."
   ]
  },
  {
   "cell_type": "code",
   "execution_count": 27,
   "metadata": {},
   "outputs": [],
   "source": [
    "#Your code here\n",
    "from nltk.corpus import stopwords\n",
    "\n",
    "def count_unique_stopwords(tokens_list):\n",
    "    \"\"\"\n",
    "    Calculate the number of stopwords in the text.\n",
    "    \n",
    "    Parameters:\n",
    "    tokens_list (list): List of tokens_list\n",
    "    \n",
    "    Returns:\n",
    "    int: Total number of stopwords\n",
    "    \"\"\"\n",
    "    # Get the English stopwords list\n",
    "    stop_words = set(stopwords.words('english'))\n",
    "    unique_stop_words = len(set(stop_words))\n",
    "    \n",
    "    # Count the number of stopwords in the text\n",
    "    total_unique_stop_words = sum(1 for word in tokens_list if word.lower() in unique_stop_words)\n",
    "    \n",
    "    return total_unique_stop_words\n",
    "\n",
    "\n"
   ]
  },
  {
   "cell_type": "code",
   "execution_count": 28,
   "metadata": {},
   "outputs": [
    {
     "ename": "TypeError",
     "evalue": "argument of type 'int' is not iterable",
     "output_type": "error",
     "traceback": [
      "\u001b[1;31m---------------------------------------------------------------------------\u001b[0m",
      "\u001b[1;31mTypeError\u001b[0m                                 Traceback (most recent call last)",
      "Cell \u001b[1;32mIn[28], line 2\u001b[0m\n\u001b[0;32m      1\u001b[0m \u001b[38;5;66;03m# Calculate total number of unique stopwords in tokens\u001b[39;00m\n\u001b[1;32m----> 2\u001b[0m total_unique_stop_words \u001b[38;5;241m=\u001b[39m count_unique_stopwords(tokens)\n\u001b[0;32m      3\u001b[0m \u001b[38;5;28mprint\u001b[39m(\u001b[38;5;124m\"\u001b[39m\u001b[38;5;124mTotal number of unique_stop_words:\u001b[39m\u001b[38;5;124m\"\u001b[39m, total_unique_stop_words)\n",
      "Cell \u001b[1;32mIn[27], line 19\u001b[0m, in \u001b[0;36mcount_unique_stopwords\u001b[1;34m(tokens_list)\u001b[0m\n\u001b[0;32m     16\u001b[0m unique_stop_words \u001b[38;5;241m=\u001b[39m \u001b[38;5;28mlen\u001b[39m(\u001b[38;5;28mset\u001b[39m(stop_words))\n\u001b[0;32m     18\u001b[0m \u001b[38;5;66;03m# Count the number of stopwords in the text\u001b[39;00m\n\u001b[1;32m---> 19\u001b[0m total_unique_stop_words \u001b[38;5;241m=\u001b[39m \u001b[38;5;28msum\u001b[39m(\u001b[38;5;241m1\u001b[39m \u001b[38;5;28;01mfor\u001b[39;00m word \u001b[38;5;129;01min\u001b[39;00m tokens_list \u001b[38;5;28;01mif\u001b[39;00m word\u001b[38;5;241m.\u001b[39mlower() \u001b[38;5;129;01min\u001b[39;00m unique_stop_words)\n\u001b[0;32m     21\u001b[0m \u001b[38;5;28;01mreturn\u001b[39;00m total_unique_stop_words\n",
      "Cell \u001b[1;32mIn[27], line 19\u001b[0m, in \u001b[0;36m<genexpr>\u001b[1;34m(.0)\u001b[0m\n\u001b[0;32m     16\u001b[0m unique_stop_words \u001b[38;5;241m=\u001b[39m \u001b[38;5;28mlen\u001b[39m(\u001b[38;5;28mset\u001b[39m(stop_words))\n\u001b[0;32m     18\u001b[0m \u001b[38;5;66;03m# Count the number of stopwords in the text\u001b[39;00m\n\u001b[1;32m---> 19\u001b[0m total_unique_stop_words \u001b[38;5;241m=\u001b[39m \u001b[38;5;28msum\u001b[39m(\u001b[38;5;241m1\u001b[39m \u001b[38;5;28;01mfor\u001b[39;00m word \u001b[38;5;129;01min\u001b[39;00m tokens_list \u001b[38;5;28;01mif\u001b[39;00m word\u001b[38;5;241m.\u001b[39mlower() \u001b[38;5;129;01min\u001b[39;00m unique_stop_words)\n\u001b[0;32m     21\u001b[0m \u001b[38;5;28;01mreturn\u001b[39;00m total_unique_stop_words\n",
      "\u001b[1;31mTypeError\u001b[0m: argument of type 'int' is not iterable"
     ]
    }
   ],
   "source": [
    "# Calculate total number of unique stopwords in tokens\n",
    "total_unique_stop_words = count_unique_stopwords(tokens)\n",
    "print(\"Total number of unique_stop_words:\", total_unique_stop_words)"
   ]
  },
  {
   "attachments": {},
   "cell_type": "markdown",
   "metadata": {},
   "source": [
    "### Exercise 4"
   ]
  },
  {
   "attachments": {},
   "cell_type": "markdown",
   "metadata": {},
   "source": [
    "Write a function that calculates the kth most frequently occuring word in the bag of words.\n",
    "\n",
    "_**Function Specifications:**_\n",
    "* Function should take a `dict` and an `int` k as input\n",
    "* Function should return the kth most common word as a `str`\n",
    "\n",
    "_Hint : bag_of_words already does not include stopwords_\n",
    "\n",
    "**Example input:**\n",
    "```python\n",
    "most_common_word(bag = {'apple': 30, 'orange': 12, 'pear': 50, 'banana': 12}, 2)\n",
    "\n",
    ">>> 'apple'\n",
    "```\n",
    "\n",
    "\n",
    "Use the function to calculate the 3rd most frequently occuring word in the bag-of-words."
   ]
  },
  {
   "cell_type": "code",
   "execution_count": null,
   "metadata": {},
   "outputs": [],
   "source": [
    "#Your code here\n"
   ]
  },
  {
   "attachments": {},
   "cell_type": "markdown",
   "metadata": {},
   "source": [
    "### Exercise 5\n",
    "\n",
    "Write a function that calculates the number of words that appear n times in the text.\n",
    "\n",
    "_**Function Specifications:**_\n",
    "* Input is taken as a `dict` and an `int` n, where n is the number of times the word appears in the text\n",
    "* Count the number of words that appear n times in the text\n",
    "* Output should be the count as an `int`\n",
    "\n",
    "**Example input:** \n",
    "```python\n",
    "word_frequency_count(bag = {'apple': 30, 'orange': 12, 'pear': 50, 'banana': 12}, 12)\n",
    "\n",
    ">>> 2\n",
    "```\n",
    "\n",
    "Use the function to calculate the number of words that appear 8 times in the bag-of-words.\n"
   ]
  },
  {
   "cell_type": "code",
   "execution_count": null,
   "metadata": {},
   "outputs": [],
   "source": [
    "#Your code here"
   ]
  },
  {
   "attachments": {},
   "cell_type": "markdown",
   "metadata": {},
   "source": [
    "## Solutions\n",
    "\n",
    "### Exercise 1"
   ]
  },
  {
   "cell_type": "code",
   "execution_count": 20,
   "metadata": {},
   "outputs": [],
   "source": [
    "def find_roots(token_list, n):\n",
    "    \n",
    "    root_dict = {}\n",
    "    word = token_list[n-1]\n",
    "    root_dict['original'] = word\n",
    "    root_dict[\"stem\"] = stemmer.stem(word)\n",
    "    root_dict[\"lemma\"] = lemmatizer.lemmatize(word)\n",
    "    \n",
    "    return root_dict"
   ]
  },
  {
   "cell_type": "code",
   "execution_count": 21,
   "metadata": {},
   "outputs": [
    {
     "data": {
      "text/plain": [
       "{'original': 'daisies', 'stem': 'daisi', 'lemma': 'daisy'}"
      ]
     },
     "execution_count": 21,
     "metadata": {},
     "output_type": "execute_result"
    }
   ],
   "source": [
    "find_roots(tokens, 120) "
   ]
  },
  {
   "attachments": {},
   "cell_type": "markdown",
   "metadata": {},
   "source": [
    "### Exercise 2"
   ]
  },
  {
   "cell_type": "code",
   "execution_count": 22,
   "metadata": {},
   "outputs": [],
   "source": [
    "def count_stopwords(token_list):\n",
    "    STOPwords = [word for word in token_list if word in stopwords.words(\"english\")]\n",
    "    return len(STOPwords)"
   ]
  },
  {
   "cell_type": "code",
   "execution_count": 23,
   "metadata": {},
   "outputs": [
    {
     "data": {
      "text/plain": [
       "13774"
      ]
     },
     "execution_count": 23,
     "metadata": {},
     "output_type": "execute_result"
    }
   ],
   "source": [
    "count_stopwords(tokens)"
   ]
  },
  {
   "attachments": {},
   "cell_type": "markdown",
   "metadata": {},
   "source": [
    "### Exercise 3"
   ]
  },
  {
   "cell_type": "code",
   "execution_count": 24,
   "metadata": {},
   "outputs": [],
   "source": [
    "def unique_words(token_list):\n",
    "    return len(set(token_list))"
   ]
  },
  {
   "cell_type": "code",
   "execution_count": 25,
   "metadata": {},
   "outputs": [
    {
     "data": {
      "text/plain": [
       "2749"
      ]
     },
     "execution_count": 25,
     "metadata": {},
     "output_type": "execute_result"
    }
   ],
   "source": [
    "unique_words(tokens)"
   ]
  },
  {
   "attachments": {},
   "cell_type": "markdown",
   "metadata": {},
   "source": [
    "Note: The same result can be achieved by using the `len()` function on the `bag_of_words_count()` function to calculate the number of unique words in `tokens`."
   ]
  },
  {
   "cell_type": "code",
   "execution_count": 29,
   "metadata": {},
   "outputs": [
    {
     "data": {
      "text/plain": [
       "2749"
      ]
     },
     "execution_count": 29,
     "metadata": {},
     "output_type": "execute_result"
    }
   ],
   "source": [
    "len(bag_of_words_count(tokens))"
   ]
  },
  {
   "attachments": {},
   "cell_type": "markdown",
   "metadata": {},
   "source": [
    "### Exercise 4"
   ]
  },
  {
   "cell_type": "code",
   "execution_count": 30,
   "metadata": {},
   "outputs": [],
   "source": [
    "def most_common_word(bag, k):\n",
    "    switch = [(value, key) for key, value in bag.items()]\n",
    "    switch = sorted(switch)\n",
    "    return switch[-k][1]"
   ]
  },
  {
   "cell_type": "code",
   "execution_count": 31,
   "metadata": {},
   "outputs": [
    {
     "data": {
      "text/plain": [
       "'and'"
      ]
     },
     "execution_count": 31,
     "metadata": {},
     "output_type": "execute_result"
    }
   ],
   "source": [
    "most_common_word(bag_of_words, 3)"
   ]
  },
  {
   "attachments": {},
   "cell_type": "markdown",
   "metadata": {},
   "source": [
    "### Exercise 5"
   ]
  },
  {
   "cell_type": "code",
   "execution_count": 32,
   "metadata": {},
   "outputs": [],
   "source": [
    "def word_frequency_count(bag, n):\n",
    "    total = sum(1 for value in bag.values() if value == n)\n",
    "    return total"
   ]
  },
  {
   "cell_type": "code",
   "execution_count": 33,
   "metadata": {},
   "outputs": [
    {
     "data": {
      "text/plain": [
       "148"
      ]
     },
     "execution_count": 33,
     "metadata": {},
     "output_type": "execute_result"
    }
   ],
   "source": [
    "word_frequency_count(bag_of_words, 8)"
   ]
  },
  {
   "attachments": {},
   "cell_type": "markdown",
   "metadata": {},
   "source": [
    "#  \n",
    "\n",
    "<div align=\"center\" style=\" font-size: 80%; text-align: center; margin: 0 auto\">\n",
    "<img src=\"https://raw.githubusercontent.com/Explore-AI/Pictures/master/ExploreAI_logos/EAI_Blue_Dark.png\"  style=\"width:200px\";/>\n",
    "</div>"
   ]
  }
 ],
 "metadata": {
  "kernelspec": {
   "display_name": "Python 3 (ipykernel)",
   "language": "python",
   "name": "python3"
  },
  "language_info": {
   "codemirror_mode": {
    "name": "ipython",
    "version": 3
   },
   "file_extension": ".py",
   "mimetype": "text/x-python",
   "name": "python",
   "nbconvert_exporter": "python",
   "pygments_lexer": "ipython3",
   "version": "3.11.7"
  }
 },
 "nbformat": 4,
 "nbformat_minor": 4
}
